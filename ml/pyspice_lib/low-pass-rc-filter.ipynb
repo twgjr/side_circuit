{
 "cells": [
  {
   "cell_type": "markdown",
   "metadata": {},
   "source": [
    "This example shows a low-pass RC Filter.\n"
   ]
  },
  {
   "cell_type": "code",
   "execution_count": null,
   "metadata": {},
   "outputs": [],
   "source": [
    "\n",
    "\n",
    "import math\n",
    "import numpy as np\n",
    "import matplotlib.pyplot as plt\n",
    "\n",
    "\n",
    "import PySpice.Logging.Logging as Logging\n",
    "logger = Logging.setup_logging()\n",
    "\n",
    "\n",
    "from PySpice.Plot.BodeDiagram import bode_diagram\n",
    "from PySpice.Spice.Netlist import Circuit\n",
    "from PySpice.Unit import *\n",
    "\n",
    "\n"
   ]
  },
  {
   "attachments": {
    "low-pass-rc-filter.png": {
     "image/png": "[encoded data removed]"
    }
   },
   "cell_type": "markdown",
   "metadata": {},
   "source": [
    "![low-pass-rc-filter.png](attachment:low-pass-rc-filter.png)"
   ]
  },
  {
   "cell_type": "code",
   "execution_count": null,
   "metadata": {},
   "outputs": [],
   "source": [
    "\n",
    "circuit = Circuit('Low-Pass RC Filter')\n",
    "\n",
    "circuit.SinusoidalVoltageSource('input', 'in', circuit.gnd, amplitude=1@u_V)\n",
    "R1 = circuit.R(1, 'in', 'out', 1@u_kΩ)\n",
    "C1 = circuit.C(1, 'out', circuit.gnd, 1@u_uF)\n",
    "\n"
   ]
  },
  {
   "cell_type": "markdown",
   "metadata": {},
   "source": [
    "The break frequency is given by $f_c = \\frac{1}{2 \\pi R C}$\n"
   ]
  },
  {
   "cell_type": "code",
   "execution_count": null,
   "metadata": {},
   "outputs": [
    {
     "name": "stdout",
     "output_type": "stream",
     "text": [
      "Break frequency = 159.2 Hz\n"
     ]
    }
   ],
   "source": [
    "\n",
    "break_frequency = 1 / (2 * math.pi * float(R1.resistance * C1.capacitance))\n",
    "print(\"Break frequency = {:.1f} Hz\".format(break_frequency))\n"
   ]
  },
  {
   "cell_type": "code",
   "execution_count": null,
   "metadata": {},
   "outputs": [],
   "source": [
    "\n",
    "simulator = circuit.simulator(temperature=25, nominal_temperature=25)\n",
    "analysis = simulator.ac(start_frequency=1@u_Hz, stop_frequency=1@u_MHz, number_of_points=10,  variation='dec')\n",
    "# print(analysis.out)\n",
    "\n"
   ]
  },
  {
   "cell_type": "markdown",
   "metadata": {},
   "source": [
    "We plot the Bode diagram.\n"
   ]
  },
  {
   "cell_type": "code",
   "execution_count": null,
   "metadata": {},
   "outputs": [
    {
     "name": "stderr",
     "output_type": "stream",
     "text": [
      "/home/fabrice/pyspice-fresh/PySpice/Plot/BodeDiagram.py:36: MatplotlibDeprecationWarning: The 'basex' parameter of __init__() has been renamed 'base' since Matplotlib 3.3; support for the old name will be dropped two minor releases later.\n",
      "  axe.semilogx(frequency, gain, basex=10, **kwargs)\n",
      "/home/fabrice/pyspice-fresh/PySpice/Plot/BodeDiagram.py:46: MatplotlibDeprecationWarning: The 'basex' parameter of __init__() has been renamed 'base' since Matplotlib 3.3; support for the old name will be dropped two minor releases later.\n",
      "  axe.semilogx(frequency, phase, basex=10, **kwargs)\n"
     ]
    }
   ],
   "source": [
    "\n",
    "figure, axes = plt.subplots(2, figsize=(20, 10))\n",
    "plt.title(\"Bode Diagram of a Low-Pass RC Filter\")\n",
    "bode_diagram(axes=axes,\n",
    "             frequency=analysis.frequency,\n",
    "             gain=20*np.log10(np.absolute(analysis.out)),\n",
    "             phase=np.angle(analysis.out, deg=False),\n",
    "             marker='.',\n",
    "             color='blue',\n",
    "             linestyle='-',\n",
    ")\n",
    "for ax in axes:\n",
    "    ax.axvline(x=break_frequency, color='red')\n",
    "\n",
    "plt.tight_layout()\n",
    "\n"
   ]
  }
 ],
 "metadata": {
  "kernelspec": {
   "display_name": "Python 3",
   "language": "python",
   "name": "python3"
  },
  "language_info": {
   "file_extension": ".py",
   "mimetype": "text/x-python",
   "name": "python",
   "nbconvert_exporter": "python",
   "pygments_lexer": "ipython3",
   "version": "3.8.0"
  }
 },
 "nbformat": 4,
 "nbformat_minor": 2
}

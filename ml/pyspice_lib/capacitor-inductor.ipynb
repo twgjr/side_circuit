{
 "cells": [
  {
   "cell_type": "markdown",
   "metadata": {},
   "source": [
    "This example shows the simulation of a capacitor and an inductor.\n",
    "\n",
    "To go further, you can read these pages on Wikipedia: [RC\n",
    "circuit](https://en.wikipedia.org/wiki/RC_circuit) and [RL\n",
    "circuit](https://en.wikipedia.org/wiki/RL_circuit).\n"
   ]
  },
  {
   "cell_type": "code",
   "execution_count": null,
   "metadata": {},
   "outputs": [],
   "source": [
    "\n",
    "\n",
    "import numpy as np\n",
    "import matplotlib.pyplot as plt\n",
    "\n",
    "\n",
    "import PySpice.Logging.Logging as Logging\n",
    "logger = Logging.setup_logging()\n",
    "\n",
    "\n",
    "from PySpice.Probe.Plot import plot\n",
    "from PySpice.Spice.Netlist import Circuit\n",
    "from PySpice.Unit import *\n",
    "\n",
    "from scipy.optimize import curve_fit\n",
    "\n",
    "\n",
    "# Warning: the capacitor/inductor return current in the generator\n",
    "#  could use switches instead\n",
    "\n"
   ]
  },
  {
   "cell_type": "markdown",
   "metadata": {},
   "source": [
    "We will use a simple circuit where both capacitor and inductor are\n",
    "driven by a pulse source through a limiting current resistor.\n"
   ]
  },
  {
   "attachments": {
    "capacitor_and_inductor.png": {
     "image/png": "[encoded data removed]"
    }
   },
   "cell_type": "markdown",
   "metadata": {},
   "source": [
    "![capacitor_and_inductor.png](attachment:capacitor_and_inductor.png)"
   ]
  },
  {
   "cell_type": "code",
   "execution_count": null,
   "metadata": {},
   "outputs": [],
   "source": [
    "\n",
    "# Fixme: for loop makes difficult to intermix code and text !\n",
    "\n"
   ]
  },
  {
   "cell_type": "markdown",
   "metadata": {},
   "source": [
    "We will fit from the simulation output the time constant of each circuit\n",
    "and compare it to the theoretical value.\n"
   ]
  },
  {
   "cell_type": "code",
   "execution_count": null,
   "metadata": {},
   "outputs": [
    {
     "name": "stdout",
     "output_type": "stream",
     "text": [
      "tau capacitor = 1.0 ms\n",
      "tau measured capacitor = 1.0 ms\n",
      "tau inductor = 1.0 ms\n",
      "tau measured inductor = 1.0 ms\n"
     ]
    }
   ],
   "source": [
    "\n",
    "figure, (ax1, ax2) = plt.subplots(2, figsize=(20, 10))\n",
    "\n",
    "element_types = ('capacitor', 'inductor')\n",
    "\n",
    "for element_type in ('capacitor', 'inductor'):\n",
    "\n",
    "    circuit = Circuit(element_type.title())\n",
    "    # Fixme: compute value\n",
    "    source = circuit.PulseVoltageSource('input', 'in', circuit.gnd,\n",
    "                           initial_value=0@u_V, pulsed_value=10@u_V,\n",
    "                           pulse_width=10@u_ms, period=20@u_ms)\n",
    "    circuit.R(1, 'in', 'out', 1@u_kΩ)\n",
    "    if element_type == 'capacitor':\n",
    "        element = circuit.C\n",
    "        value = 1@u_uF\n",
    "        # tau = RC = 1 ms\n",
    "    else:\n",
    "        element = circuit.L\n",
    "        # Fixme: force component value to an Unit instance ?\n",
    "        value = 1@u_H\n",
    "        # tau = L/R = 1 ms\n",
    "    element(1, 'out', circuit.gnd, value)\n",
    "    # circuit.R(2, 'out', circuit.gnd, kilo(1)) # for debug\n",
    "\n",
    "    if element_type == 'capacitor':\n",
    "        tau = circuit['R1'].resistance * circuit['C1'].capacitance\n",
    "    else:\n",
    "        tau = circuit['L1'].inductance / circuit['R1'].resistance\n",
    "\n",
    "    simulator = circuit.simulator(temperature=25, nominal_temperature=25)\n",
    "    step_time = 10@u_us\n",
    "    analysis = simulator.transient(step_time=step_time, end_time=source.period*3)\n",
    "\n",
    "    # Let define the theoretical output voltage.\n",
    "    if element_type == 'capacitor':\n",
    "        def out_voltage(t, tau):\n",
    "            # Fixme: TypeError: only length-1 arrays can be converted to Python scalars\n",
    "            return float(source.pulsed_value) * (1 -  np.exp(-t / tau))\n",
    "    else:\n",
    "        def out_voltage(t, tau):\n",
    "            return float(source.pulsed_value) * np.exp(-t / tau)\n",
    "    # Fixme: get step_time from analysis\n",
    "    # At t = 5 tau, each circuit has nearly reached it steady state.\n",
    "    i_max = int(5 * tau / float(step_time))\n",
    "    popt, pcov = curve_fit(out_voltage, analysis.out.abscissa[:i_max], analysis.out[:i_max])\n",
    "    tau_measured = popt[0]\n",
    "\n",
    "    # Fixme: use Unit().canonise()\n",
    "    print('tau {0} = {1}'.format(element_type, tau.canonise().str_space()))\n",
    "    print('tau measured {0} = {1:.1f} ms'.format(element_type, tau_measured * 1000))\n",
    "\n",
    "    if element_type == 'capacitor':\n",
    "        ax = ax1\n",
    "        title = \"Capacitor: voltage is constant\"\n",
    "    else:\n",
    "        ax = ax2\n",
    "        title = \"Inductor: current is constant\"\n",
    "    ax.set_title(title)\n",
    "    ax.grid()\n",
    "    current_scale = 1000\n",
    "    ax.plot(analysis['in'])\n",
    "    ax.plot(analysis['out'])\n",
    "    # Fixme: resistor current, scale\n",
    "    ax.plot(((analysis['in'] - analysis.out)/circuit['R1'].resistance) * current_scale)\n",
    "    ax.axvline(x=float(tau), color='red')\n",
    "    ax.set_ylim(-11, 11)\n",
    "    ax.set_xlabel('t [s]')\n",
    "    ax.set_ylabel('[V]')\n",
    "    ax.legend(('Vin [V]', 'Vout [V]', 'I'), loc=(.8,.8))\n"
   ]
  },
  {
   "cell_type": "code",
   "execution_count": null,
   "metadata": {},
   "outputs": [],
   "source": [
    "\n",
    "plt.tight_layout()\n",
    "\n"
   ]
  },
  {
   "cell_type": "code",
   "execution_count": null,
   "metadata": {},
   "outputs": [],
   "source": [
    "\n",
    "# Fixme: Add formulae\n"
   ]
  }
 ],
 "metadata": {
  "kernelspec": {
   "display_name": "Python 3",
   "language": "python",
   "name": "python3"
  },
  "language_info": {
   "file_extension": ".py",
   "mimetype": "text/x-python",
   "name": "python",
   "nbconvert_exporter": "python",
   "pygments_lexer": "ipython3",
   "version": "3.8.0"
  }
 },
 "nbformat": 4,
 "nbformat_minor": 2
}

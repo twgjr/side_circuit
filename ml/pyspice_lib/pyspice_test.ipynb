{
 "cells": [
  {
   "cell_type": "code",
   "execution_count": 2,
   "metadata": {},
   "outputs": [
    {
     "ename": "KeyError",
     "evalue": "'1N5822'",
     "output_type": "error",
     "traceback": [
      "\u001b[1;31m---------------------------------------------------------------------------\u001b[0m",
      "\u001b[1;31mKeyError\u001b[0m                                  Traceback (most recent call last)",
      "\u001b[1;32mc:\\Users\\terry\\Documents\\Github\\side_circuit\\ml\\pyspice_lib\\pyspice_test.ipynb Cell 1\u001b[0m line \u001b[0;36m2\n\u001b[0;32m     <a href='vscode-notebook-cell:/c%3A/Users/terry/Documents/Github/side_circuit/ml/pyspice_lib/pyspice_test.ipynb#W1sZmlsZQ%3D%3D?line=16'>17</a>\u001b[0m spice_library \u001b[39m=\u001b[39m SpiceLibrary(libraries_path)\n\u001b[0;32m     <a href='vscode-notebook-cell:/c%3A/Users/terry/Documents/Github/side_circuit/ml/pyspice_lib/pyspice_test.ipynb#W1sZmlsZQ%3D%3D?line=20'>21</a>\u001b[0m circuit \u001b[39m=\u001b[39m Circuit(\u001b[39m'\u001b[39m\u001b[39mBuck Converter\u001b[39m\u001b[39m'\u001b[39m)\n\u001b[1;32m---> <a href='vscode-notebook-cell:/c%3A/Users/terry/Documents/Github/side_circuit/ml/pyspice_lib/pyspice_test.ipynb#W1sZmlsZQ%3D%3D?line=22'>23</a>\u001b[0m circuit\u001b[39m.\u001b[39minclude(spice_library[\u001b[39m'\u001b[39;49m\u001b[39m1N5822\u001b[39;49m\u001b[39m'\u001b[39;49m]) \u001b[39m# Schottky diode\u001b[39;00m\n\u001b[0;32m     <a href='vscode-notebook-cell:/c%3A/Users/terry/Documents/Github/side_circuit/ml/pyspice_lib/pyspice_test.ipynb#W1sZmlsZQ%3D%3D?line=23'>24</a>\u001b[0m circuit\u001b[39m.\u001b[39minclude(spice_library[\u001b[39m'\u001b[39m\u001b[39mirf150\u001b[39m\u001b[39m'\u001b[39m])\n\u001b[0;32m     <a href='vscode-notebook-cell:/c%3A/Users/terry/Documents/Github/side_circuit/ml/pyspice_lib/pyspice_test.ipynb#W1sZmlsZQ%3D%3D?line=25'>26</a>\u001b[0m \u001b[39m# From Microchip WebSeminars - Buck Converter Design Example\u001b[39;00m\n",
      "File \u001b[1;32mc:\\Users\\terry\\.conda\\envs\\training\\lib\\site-packages\\PySpice\\Spice\\Library.py:117\u001b[0m, in \u001b[0;36mSpiceLibrary.__getitem__\u001b[1;34m(self, name)\u001b[0m\n\u001b[0;32m    113\u001b[0m     \u001b[39mreturn\u001b[39;00m \u001b[39mself\u001b[39m\u001b[39m.\u001b[39m_models[name]\n\u001b[0;32m    114\u001b[0m \u001b[39melse\u001b[39;00m:\n\u001b[0;32m    115\u001b[0m     \u001b[39m# print('Library {} not found in {}'.format(name, self._directory))\u001b[39;00m\n\u001b[0;32m    116\u001b[0m     \u001b[39m# self._logger.warn('Library {} not found in {}'.format(name, self._directory))\u001b[39;00m\n\u001b[1;32m--> 117\u001b[0m     \u001b[39mraise\u001b[39;00m \u001b[39mKeyError\u001b[39;00m(name)\n",
      "\u001b[1;31mKeyError\u001b[0m: '1N5822'"
     ]
    }
   ],
   "source": [
    "\n",
    "import matplotlib.pyplot as plt\n",
    "\n",
    "\n",
    "import PySpice.Logging.Logging as Logging\n",
    "logger = Logging.setup_logging()\n",
    "\n",
    "\n",
    "from PySpice.Doc.ExampleTools import find_libraries\n",
    "from PySpice.Probe.Plot import plot\n",
    "from PySpice.Spice.Library import SpiceLibrary\n",
    "from PySpice.Spice.Netlist import Circuit\n",
    "from PySpice.Unit import *\n",
    "\n",
    "\n",
    "libraries_path = find_libraries()\n",
    "spice_library = SpiceLibrary(libraries_path)\n",
    "\n",
    "\n",
    "\n",
    "circuit = Circuit('Buck Converter')\n",
    "\n",
    "circuit.include(spice_library['1N5822']) # Schottky diode\n",
    "circuit.include(spice_library['irf150'])\n",
    "\n",
    "# From Microchip WebSeminars - Buck Converter Design Example\n",
    "\n",
    "Vin = 12@u_V\n",
    "Vout = 5@u_V\n",
    "ratio = Vout / Vin\n",
    "\n",
    "Iload = 2@u_A\n",
    "Rload = Vout / (.8 * Iload)\n",
    "\n",
    "frequency = 400@u_kHz\n",
    "period = frequency.period\n",
    "duty_cycle = ratio * period\n",
    "\n",
    "ripple_current = .3 * Iload # typically 30 %\n",
    "ripple_voltage = 50@u_mV\n",
    "\n",
    "print('ratio =', ratio)\n",
    "print('RLoad =', Rload)\n",
    "print('period =', period.canonise())\n",
    "print('duty_cycle =', duty_cycle.canonise())\n",
    "print('ripple_current =', ripple_current)\n",
    "\n"
   ]
  }
 ],
 "metadata": {
  "kernelspec": {
   "display_name": "training",
   "language": "python",
   "name": "python3"
  },
  "language_info": {
   "codemirror_mode": {
    "name": "ipython",
    "version": 3
   },
   "file_extension": ".py",
   "mimetype": "text/x-python",
   "name": "python",
   "nbconvert_exporter": "python",
   "pygments_lexer": "ipython3",
   "version": "3.10.12"
  }
 },
 "nbformat": 4,
 "nbformat_minor": 2
}

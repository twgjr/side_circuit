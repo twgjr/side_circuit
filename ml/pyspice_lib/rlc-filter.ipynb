{
 "cells": [
  {
   "cell_type": "markdown",
   "metadata": {},
   "source": [
    "RLC Filter\n",
    "==========\n",
    "\n",
    "This example illustrates RLC Filters.\n"
   ]
  },
  {
   "cell_type": "code",
   "execution_count": null,
   "metadata": {},
   "outputs": [],
   "source": [
    "\n",
    "\n",
    "import math\n",
    "\n",
    "import numpy as np\n",
    "import matplotlib.pyplot as plt\n",
    "\n",
    "\n",
    "import PySpice.Logging.Logging as Logging\n",
    "logger = Logging.setup_logging()\n",
    "\n",
    "\n",
    "from PySpice.Plot.BodeDiagram import bode_diagram\n",
    "from PySpice.Spice.Netlist import Circuit\n",
    "from PySpice.Unit import *\n",
    "\n",
    "\n"
   ]
  },
  {
   "cell_type": "markdown",
   "metadata": {},
   "source": [
    "We define four low-pass RLC filters with the following factor of\n",
    "quality: .5, 1, 2 and 4.\n"
   ]
  },
  {
   "attachments": {
    "low-pass-rlc-filter.png": {
     "image/png": "[encoded data removed]"
    }
   },
   "cell_type": "markdown",
   "metadata": {},
   "source": [
    "![low-pass-rlc-filter.png](attachment:low-pass-rlc-filter.png)"
   ]
  },
  {
   "cell_type": "code",
   "execution_count": null,
   "metadata": {},
   "outputs": [
    {
     "data": {
      "text/plain": [
       "Capacitor C4"
      ]
     },
     "execution_count": 1,
     "metadata": {},
     "output_type": "execute_result"
    }
   ],
   "source": [
    "\n",
    "circuit1 = Circuit('Four double-pole Low-Pass RLC Filter')\n",
    "\n",
    "inductance = 10@u_mH\n",
    "capacitance = 1@u_uF\n",
    "\n",
    "circuit1.SinusoidalVoltageSource('input', 'in', circuit1.gnd, amplitude=1@u_V)\n",
    "# Q = .5\n",
    "circuit1.R(1, 'in', 1, 200@u_Ω)\n",
    "circuit1.L(1, 1, 'out5', inductance)\n",
    "circuit1.C(1, 'out5', circuit1.gnd, capacitance)\n",
    "# Q = 1\n",
    "circuit1.R(2, 'in', 2, 100@u_Ω)\n",
    "circuit1.L(2, 2, 'out1', inductance)\n",
    "circuit1.C(2, 'out1', circuit1.gnd, capacitance)\n",
    "# Q = 2\n",
    "circuit1.R(3, 'in', 3, 50@u_Ω)\n",
    "circuit1.L(3, 3, 'out2', inductance)\n",
    "circuit1.C(3, 'out2', circuit1.gnd, capacitance)\n",
    "# Q = 4\n",
    "R4 = circuit1.R(4, 'in', 4, 25@u_Ω)\n",
    "circuit1.L(4, 4, 'out4', inductance)\n",
    "circuit1.C(4, 'out4', circuit1.gnd, capacitance)\n",
    "\n"
   ]
  },
  {
   "cell_type": "markdown",
   "metadata": {},
   "source": [
    "We perform an AC analysis.\n"
   ]
  },
  {
   "cell_type": "code",
   "execution_count": null,
   "metadata": {},
   "outputs": [],
   "source": [
    "\n",
    "simulator1 = circuit1.simulator(temperature=25, nominal_temperature=25)\n",
    "analysis1 = simulator1.ac(start_frequency=100@u_Hz, stop_frequency=10@u_kHz, number_of_points=100,  variation='dec')\n",
    "\n"
   ]
  },
  {
   "cell_type": "markdown",
   "metadata": {},
   "source": [
    "The resonant frequency is given by\n",
    "\n",
    "$$f_0 = 2 \\pi \\omega_0 = \\frac{1}{2 \\pi \\sqrt{L C}}$$\n",
    "\n",
    "and the factor of quality by\n",
    "\n",
    "$$Q = \\frac{1}{R} \\sqrt{\\frac{L}{C}} = \\frac{1}{RC \\omega_0}$$\n"
   ]
  },
  {
   "cell_type": "code",
   "execution_count": null,
   "metadata": {},
   "outputs": [
    {
     "name": "stdout",
     "output_type": "stream",
     "text": [
      "Resonant frequency = 1591.5 Hz\n",
      "Factor of quality = 4.0\n"
     ]
    }
   ],
   "source": [
    "\n",
    "resonant_frequency = 1 / (2 * math.pi * math.sqrt(inductance * capacitance))\n",
    "quality_factor = 1 / R4.resistance * math.sqrt(inductance / capacitance)\n",
    "print(\"Resonant frequency = {:.1f} Hz\".format(resonant_frequency))\n",
    "print(\"Factor of quality = {:.1f}\".format(quality_factor))\n"
   ]
  },
  {
   "cell_type": "markdown",
   "metadata": {},
   "source": [
    "We plot the Bode diagram of the four filters.\n"
   ]
  },
  {
   "cell_type": "code",
   "execution_count": null,
   "metadata": {},
   "outputs": [
    {
     "name": "stderr",
     "output_type": "stream",
     "text": [
      "/home/fabrice/pyspice-fresh/PySpice/Plot/BodeDiagram.py:36: MatplotlibDeprecationWarning: The 'basex' parameter of __init__() has been renamed 'base' since Matplotlib 3.3; support for the old name will be dropped two minor releases later.\n",
      "  axe.semilogx(frequency, gain, basex=10, **kwargs)\n",
      "/home/fabrice/pyspice-fresh/PySpice/Plot/BodeDiagram.py:46: MatplotlibDeprecationWarning: The 'basex' parameter of __init__() has been renamed 'base' since Matplotlib 3.3; support for the old name will be dropped two minor releases later.\n",
      "  axe.semilogx(frequency, phase, basex=10, **kwargs)\n",
      "/home/fabrice/pyspice-fresh/PySpice/Plot/BodeDiagram.py:36: MatplotlibDeprecationWarning: The 'basex' parameter of __init__() has been renamed 'base' since Matplotlib 3.3; support for the old name will be dropped two minor releases later.\n",
      "  axe.semilogx(frequency, gain, basex=10, **kwargs)\n",
      "/home/fabrice/pyspice-fresh/PySpice/Plot/BodeDiagram.py:46: MatplotlibDeprecationWarning: The 'basex' parameter of __init__() has been renamed 'base' since Matplotlib 3.3; support for the old name will be dropped two minor releases later.\n",
      "  axe.semilogx(frequency, phase, basex=10, **kwargs)\n",
      "/home/fabrice/pyspice-fresh/PySpice/Plot/BodeDiagram.py:36: MatplotlibDeprecationWarning: The 'basex' parameter of __init__() has been renamed 'base' since Matplotlib 3.3; support for the old name will be dropped two minor releases later.\n",
      "  axe.semilogx(frequency, gain, basex=10, **kwargs)\n",
      "/home/fabrice/pyspice-fresh/PySpice/Plot/BodeDiagram.py:46: MatplotlibDeprecationWarning: The 'basex' parameter of __init__() has been renamed 'base' since Matplotlib 3.3; support for the old name will be dropped two minor releases later.\n",
      "  axe.semilogx(frequency, phase, basex=10, **kwargs)\n",
      "/home/fabrice/pyspice-fresh/PySpice/Plot/BodeDiagram.py:36: MatplotlibDeprecationWarning: The 'basex' parameter of __init__() has been renamed 'base' since Matplotlib 3.3; support for the old name will be dropped two minor releases later.\n",
      "  axe.semilogx(frequency, gain, basex=10, **kwargs)\n",
      "/home/fabrice/pyspice-fresh/PySpice/Plot/BodeDiagram.py:46: MatplotlibDeprecationWarning: The 'basex' parameter of __init__() has been renamed 'base' since Matplotlib 3.3; support for the old name will be dropped two minor releases later.\n",
      "  axe.semilogx(frequency, phase, basex=10, **kwargs)\n"
     ]
    }
   ],
   "source": [
    "\n",
    "figure, axes = plt.subplots(2, figsize=(20, 10))\n",
    "plt.title(\"Bode Diagrams of RLC Filters\")\n",
    "for out in ('out5', 'out1', 'out2', 'out4'):\n",
    "    bode_diagram(axes=axes,\n",
    "                 frequency=analysis1.frequency,\n",
    "                 gain=20*np.log10(np.absolute(analysis1[out])),\n",
    "                 phase=np.angle(analysis1[out], deg=False),\n",
    "                 marker='.',\n",
    "                 color='blue',\n",
    "                 linestyle='-',\n",
    "    )\n",
    "for axe in axes:\n",
    "    axe.axvline(x=resonant_frequency, color='red')\n",
    "\n",
    "\n"
   ]
  },
  {
   "cell_type": "markdown",
   "metadata": {},
   "source": [
    "We define a pass-band RLC filter with a quality\\'s factor of 4.\n"
   ]
  },
  {
   "attachments": {
    "pass-band-rlc-filter.png": {
     "image/png": "[encoded data removed]"
    }
   },
   "cell_type": "markdown",
   "metadata": {},
   "source": [
    "![pass-band-rlc-filter.png](attachment:pass-band-rlc-filter.png)"
   ]
  },
  {
   "cell_type": "code",
   "execution_count": null,
   "metadata": {},
   "outputs": [
    {
     "name": "stderr",
     "output_type": "stream",
     "text": [
      "/home/fabrice/pyspice-fresh/PySpice/Plot/BodeDiagram.py:36: MatplotlibDeprecationWarning: The 'basex' parameter of __init__() has been renamed 'base' since Matplotlib 3.3; support for the old name will be dropped two minor releases later.\n",
      "  axe.semilogx(frequency, gain, basex=10, **kwargs)\n",
      "/home/fabrice/pyspice-fresh/PySpice/Plot/BodeDiagram.py:46: MatplotlibDeprecationWarning: The 'basex' parameter of __init__() has been renamed 'base' since Matplotlib 3.3; support for the old name will be dropped two minor releases later.\n",
      "  axe.semilogx(frequency, phase, basex=10, **kwargs)\n"
     ]
    }
   ],
   "source": [
    "\n",
    "circuit2 = Circuit('Pass-Band RLC Filter')\n",
    "\n",
    "circuit2.SinusoidalVoltageSource('input', 'in', circuit2.gnd, amplitude=1@u_V)\n",
    "circuit2.L(1, 'in', 2, inductance)\n",
    "circuit2.C(1, 2, 'out', capacitance)\n",
    "circuit2.R(1, 'out', circuit2.gnd, 25@u_Ω)\n",
    "\n",
    "simulator2 = circuit2.simulator(temperature=25, nominal_temperature=25)\n",
    "analysis2 = simulator2.ac(start_frequency=100@u_Hz, stop_frequency=10@u_kHz, number_of_points=100,  variation='dec')\n",
    "\n",
    "bode_diagram(axes=axes,\n",
    "             frequency=analysis2.frequency,\n",
    "             gain=20*np.log10(np.absolute(analysis2.out)),\n",
    "             phase=np.angle(analysis2.out, deg=False),\n",
    "             marker='.',\n",
    "             color='magenta',\n",
    "             linestyle='-',\n",
    "            )\n",
    "\n",
    "plt.tight_layout()\n",
    "\n"
   ]
  }
 ],
 "metadata": {
  "kernelspec": {
   "display_name": "Python 3",
   "language": "python",
   "name": "python3"
  },
  "language_info": {
   "file_extension": ".py",
   "mimetype": "text/x-python",
   "name": "python",
   "nbconvert_exporter": "python",
   "pygments_lexer": "ipython3",
   "version": "3.8.0"
  }
 },
 "nbformat": 4,
 "nbformat_minor": 2
}

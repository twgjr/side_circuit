{
 "cells": [
  {
   "cell_type": "markdown",
   "metadata": {},
   "source": [
    "Fast Fourier Transform\n",
    "======================\n",
    "\n",
    "This example shows how to compute a FFT of a signal using the scipy\n",
    "Scientific Python package.\n"
   ]
  },
  {
   "cell_type": "code",
   "execution_count": null,
   "metadata": {},
   "outputs": [],
   "source": [
    "\n",
    "\n",
    "import numpy as np\n",
    "\n",
    "from scipy import signal\n",
    "from scipy.fftpack import fft\n",
    "\n",
    "import matplotlib.pyplot as plt\n",
    "\n",
    "\n"
   ]
  },
  {
   "cell_type": "markdown",
   "metadata": {},
   "source": [
    "We will first compute the spectrum of the sum of two sinusoidal\n",
    "waveforms.\n"
   ]
  },
  {
   "cell_type": "code",
   "execution_count": null,
   "metadata": {},
   "outputs": [
    {
     "data": {
      "text/plain": [
       "Text(0, 0.5, 'Amplitude')"
      ]
     },
     "execution_count": 1,
     "metadata": {},
     "output_type": "execute_result"
    }
   ],
   "source": [
    "\n",
    "N = 1000 # number of sample points\n",
    "dt = 1. / 500 # sample spacing\n",
    "\n",
    "frequency1 = 50.\n",
    "frequency2 = 80.\n",
    "\n",
    "t = np.linspace(0.0, N*dt, N)\n",
    "y = np.sin(2*np.pi * frequency1 * t) + .5 * np.sin(2*np.pi * frequency2 * t)\n",
    "\n",
    "yf = fft(y)\n",
    "tf = np.linspace(.0, 1./(2.*dt), N//2)\n",
    "spectrum = 2./N * np.abs(yf[0:N//2])\n",
    "\n",
    "figure1, ax = plt.subplots(figsize=(20, 10))\n",
    "\n",
    "ax.plot(tf, spectrum, 'o-')\n",
    "ax.grid()\n",
    "for frequency in frequency1, frequency2:\n",
    "    ax.axvline(x=frequency, color='red')\n",
    "ax.set_title('Spectrum')\n",
    "ax.set_xlabel('Frequency [Hz]')\n",
    "ax.set_ylabel('Amplitude')\n",
    "\n"
   ]
  },
  {
   "cell_type": "markdown",
   "metadata": {},
   "source": [
    "Now we will compute the spectrum of a square waveform.\n",
    "\n",
    "The Fourier series is given by:\n",
    "\n",
    "$$\\frac{4}{\\pi} \\sum_{n=1, 3, 5, \\ldots}^{\\inf} \\frac{1}{n} \\sin(n 2\\pi f t)$$\n"
   ]
  },
  {
   "cell_type": "code",
   "execution_count": null,
   "metadata": {},
   "outputs": [
    {
     "data": {
      "text/plain": [
       "Text(0, 0.5, 'Amplitude')"
      ]
     },
     "execution_count": 1,
     "metadata": {},
     "output_type": "execute_result"
    }
   ],
   "source": [
    "\n",
    "N = 1000 # number of sample points\n",
    "dt = 1. / 1000 # sample spacing\n",
    "\n",
    "frequency = 5.\n",
    "\n",
    "t = np.linspace(.0, N*dt, N)\n",
    "y = signal.square(2*np.pi*frequency*t)\n",
    "\n",
    "figure2, (ax1, ax2) = plt.subplots(2, figsize=(20, 10))\n",
    "\n",
    "ax1.plot(t, y)\n",
    "y_sum = None\n",
    "for n in range(1, 20, 2):\n",
    "    yn = 4/(np.pi*n)*np.sin((2*np.pi*n*frequency*t))\n",
    "    if y_sum is None:\n",
    "        y_sum = yn\n",
    "    else:\n",
    "        y_sum += yn\n",
    "    if n in (1, 3, 5):\n",
    "        ax1.plot(t, y_sum)\n",
    "ax1.plot(t, y_sum)\n",
    "ax1.set_xlim(0, 2/frequency)\n",
    "ax1.set_ylim(-1.5, 1.5)\n",
    "\n",
    "yf = fft(y)\n",
    "tf = np.linspace(.0, 1./(2.*dt), N//2)\n",
    "spectrum = 2./N * np.abs(yf[0:N//2])\n",
    "\n",
    "ax2.plot(tf, spectrum)\n",
    "n = np.arange(1, 20, 2)\n",
    "ax2.plot(n*frequency, 4/(np.pi*n), 'o', color='red')\n",
    "ax2.grid()\n",
    "ax2.set_title('Spectrum')\n",
    "ax2.set_xlabel('Frequency [Hz]')\n",
    "ax2.set_ylabel('Amplitude')\n",
    "\n"
   ]
  },
  {
   "cell_type": "code",
   "execution_count": null,
   "metadata": {},
   "outputs": [],
   "source": [
    "\n",
    "\n"
   ]
  }
 ],
 "metadata": {
  "kernelspec": {
   "display_name": "Python 3",
   "language": "python",
   "name": "python3"
  },
  "language_info": {
   "file_extension": ".py",
   "mimetype": "text/x-python",
   "name": "python",
   "nbconvert_exporter": "python",
   "pygments_lexer": "ipython3",
   "version": "3.8.0"
  }
 },
 "nbformat": 4,
 "nbformat_minor": 2
}

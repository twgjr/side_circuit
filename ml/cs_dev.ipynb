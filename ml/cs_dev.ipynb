{
 "cells": [
  {
   "cell_type": "code",
   "execution_count": 1,
   "metadata": {},
   "outputs": [],
   "source": [
    "import torch\n",
    "import circuits as ckt\n",
    "from models import Solver\n",
    "from models import State\n",
    "from data import Input,Process"
   ]
  },
  {
   "cell_type": "code",
   "execution_count": 2,
   "metadata": {},
   "outputs": [
    {
     "name": "stdout",
     "output_type": "stream",
     "text": [
      "Using cpu device\n"
     ]
    }
   ],
   "source": [
    "# Get cpu or gpu device for training.\n",
    "# device = \"cuda\" if torch.cuda.is_available() else \"cpu\"\n",
    "device = \"cpu\"\n",
    "print(f\"Using {device} device\")\n",
    "\n",
    "# torch.autograd.set_detect_anomaly(True)\n",
    "torch.set_printoptions(precision=2, linewidth=200)"
   ]
  },
  {
   "cell_type": "markdown",
   "metadata": {},
   "source": [
    "# Generate Input Data for a Simple Circuit\n",
    "Circuit is an independent voltage source and a resistor."
   ]
  },
  {
   "cell_type": "code",
   "execution_count": 3,
   "metadata": {},
   "outputs": [],
   "source": [
    "vr = ckt.Circuit()\n",
    "\n",
    "v_source = vr.add_element(kind=ckt.Kinds.IVS)\n",
    "r1 = vr.add_element(kind=ckt.Kinds.R)\n",
    "v_source.connect(v_source.high, r1.high)\n",
    "v_source.connect(v_source.low, r1.low)\n",
    "# Case 1 all resistances known\n",
    "# v_source.attr = 1\n",
    "# r1.attr = 1e6\n",
    "# Case 2 one resisance unknown\n",
    "v_source.attr = 1\n",
    "v_source.i = -10\n",
    "# Case 3 one voltage and one current known\n",
    "# v_source.attr = 1\n",
    "# r1.i = 10\n",
    "\n",
    "# v_source = vr.add_element(kind=ckt.Kinds.IVS)\n",
    "# r1 = vr.add_element(kind=ckt.Kinds.R)\n",
    "# r2 = vr.add_element(kind=ckt.Kinds.R)\n",
    "# v_source.connect(v_source.high, r1.high)\n",
    "# r1.connect(r1.low, r2.high)\n",
    "# v_source.connect(v_source.low, r2.low)\n",
    "# # # Case 1 all resistances known\n",
    "# v_source.attr = 1\n",
    "# r1.attr = 1e6\n",
    "# r2.attr = 1e6\n",
    "# # # Case 2 one resisance unknown\n",
    "# # v_source.attr = 1\n",
    "# # r1.attr = 10\n",
    "# # r2.v = 0.5"
   ]
  },
  {
   "cell_type": "code",
   "execution_count": 4,
   "metadata": {},
   "outputs": [
    {
     "name": "stderr",
     "output_type": "stream",
     "text": [
      "c:\\Users\\terry\\OneDrive\\Documents\\GitHub\\side_circuit\\ml\\circuits.py:65: FutureWarning: incidence_matrix will return a scipy.sparse array instead of a matrix in Networkx 3.0.\n",
      "  M_scipy = nx.incidence_matrix(G=self.nx_graph(),oriented=True)\n"
     ]
    }
   ],
   "source": [
    "input = Input(vr)"
   ]
  },
  {
   "cell_type": "code",
   "execution_count": 5,
   "metadata": {},
   "outputs": [
    {
     "data": {
      "text/plain": [
       "tensor([[-44.29],\n",
       "        [ 44.29],\n",
       "        [  1.00],\n",
       "        [  1.00],\n",
       "        [ -1.00]], grad_fn=<LinalgSolveExBackward0>)"
      ]
     },
     "execution_count": 5,
     "metadata": {},
     "output_type": "execute_result"
    }
   ],
   "source": [
    "model = Solver(input=input,attr=input.attr_param, state=State.Solve)\n",
    "X = model()\n",
    "X"
   ]
  },
  {
   "cell_type": "code",
   "execution_count": 6,
   "metadata": {},
   "outputs": [
    {
     "data": {
      "text/plain": [
       "tensor([[-10.],\n",
       "        [  0.],\n",
       "        [  1.],\n",
       "        [  0.],\n",
       "        [  0.],\n",
       "        [  0.]])"
      ]
     },
     "execution_count": 6,
     "metadata": {},
     "output_type": "execute_result"
    }
   ],
   "source": [
    "input.ivp_inputs()"
   ]
  },
  {
   "cell_type": "code",
   "execution_count": 7,
   "metadata": {},
   "outputs": [
    {
     "data": {
      "text/plain": [
       "tensor([[ True],\n",
       "        [False],\n",
       "        [ True],\n",
       "        [False],\n",
       "        [False],\n",
       "        [False]])"
      ]
     },
     "execution_count": 7,
     "metadata": {},
     "output_type": "execute_result"
    }
   ],
   "source": [
    "input.ivp_knowns_mask()"
   ]
  },
  {
   "cell_type": "code",
   "execution_count": 8,
   "metadata": {},
   "outputs": [],
   "source": [
    "process = Process(input)"
   ]
  },
  {
   "cell_type": "code",
   "execution_count": 9,
   "metadata": {},
   "outputs": [
    {
     "data": {
      "text/plain": [
       "tensor([[ 34.29],\n",
       "        [-44.29],\n",
       "        [  0.00],\n",
       "        [ -1.00],\n",
       "        [  1.00]], grad_fn=<SubBackward0>)"
      ]
     },
     "execution_count": 9,
     "metadata": {},
     "output_type": "execute_result"
    }
   ],
   "source": [
    "process.errors(X)"
   ]
  }
 ],
 "metadata": {
  "kernelspec": {
   "display_name": "ml",
   "language": "python",
   "name": "python3"
  },
  "language_info": {
   "codemirror_mode": {
    "name": "ipython",
    "version": 3
   },
   "file_extension": ".py",
   "mimetype": "text/x-python",
   "name": "python",
   "nbconvert_exporter": "python",
   "pygments_lexer": "ipython3",
   "version": "3.10.8"
  },
  "orig_nbformat": 4,
  "vscode": {
   "interpreter": {
    "hash": "3217f10b4e7366dd1a6cbf73464f125221bf8686d6dfc23b58c931b1c5e4bd4d"
   }
  }
 },
 "nbformat": 4,
 "nbformat_minor": 2
}

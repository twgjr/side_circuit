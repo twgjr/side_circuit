{
 "cells": [
  {
   "cell_type": "code",
   "execution_count": 1,
   "metadata": {},
   "outputs": [],
   "source": [
    "import signal_generator as sg\n",
    "import numpy as np"
   ]
  },
  {
   "cell_type": "code",
   "execution_count": 2,
   "metadata": {},
   "outputs": [
    {
     "ename": "ValueError",
     "evalue": "Input number must be a non-negative integer",
     "output_type": "error",
     "traceback": [
      "\u001b[1;31m---------------------------------------------------------------------------\u001b[0m",
      "\u001b[1;31mValueError\u001b[0m                                Traceback (most recent call last)",
      "\u001b[1;32mc:\\Users\\terry\\Documents\\Github\\side_circuit\\ml\\data\\signals\\signal_explorer.ipynb Cell 2\u001b[0m line \u001b[0;36m2\n\u001b[0;32m      <a href='vscode-notebook-cell:/c%3A/Users/terry/Documents/Github/side_circuit/ml/data/signals/signal_explorer.ipynb#W1sZmlsZQ%3D%3D?line=0'>1</a>\u001b[0m sin_gen \u001b[39m=\u001b[39m sg\u001b[39m.\u001b[39mSignalGenerator()\n\u001b[1;32m----> <a href='vscode-notebook-cell:/c%3A/Users/terry/Documents/Github/side_circuit/ml/data/signals/signal_explorer.ipynb#W1sZmlsZQ%3D%3D?line=1'>2</a>\u001b[0m sin_example \u001b[39m=\u001b[39m sin_gen\u001b[39m.\u001b[39;49mgenerate_sine()\n\u001b[0;32m      <a href='vscode-notebook-cell:/c%3A/Users/terry/Documents/Github/side_circuit/ml/data/signals/signal_explorer.ipynb#W1sZmlsZQ%3D%3D?line=2'>3</a>\u001b[0m \u001b[39mprint\u001b[39m(sin_example[\u001b[39m\"\u001b[39m\u001b[39mfrequency\u001b[39m\u001b[39m\"\u001b[39m])\n\u001b[0;32m      <a href='vscode-notebook-cell:/c%3A/Users/terry/Documents/Github/side_circuit/ml/data/signals/signal_explorer.ipynb#W1sZmlsZQ%3D%3D?line=4'>5</a>\u001b[0m sin_gen\u001b[39m.\u001b[39mplot(sin_example[\u001b[39m\"\u001b[39m\u001b[39msignal\u001b[39m\u001b[39m\"\u001b[39m],sin_example[\u001b[39m\"\u001b[39m\u001b[39mtimes\u001b[39m\u001b[39m\"\u001b[39m])\n",
      "File \u001b[1;32mc:\\Users\\terry\\Documents\\Github\\side_circuit\\ml\\data\\signals\\signal_generator.py:118\u001b[0m, in \u001b[0;36mSignalGenerator.generate_sine\u001b[1;34m(self)\u001b[0m\n\u001b[0;32m    115\u001b[0m times, signal \u001b[39m=\u001b[39m \u001b[39mzip\u001b[39m(\u001b[39m*\u001b[39mpwl_signal)\n\u001b[0;32m    117\u001b[0m \u001b[39m# preprocess for machine learning\u001b[39;00m\n\u001b[1;32m--> 118\u001b[0m amp_coeff, amp_exp \u001b[39m=\u001b[39m \u001b[39mself\u001b[39;49m\u001b[39m.\u001b[39;49mto_ml_format(amp, \u001b[39m5\u001b[39;49m)\n\u001b[0;32m    119\u001b[0m mean_coeff, mean_exp \u001b[39m=\u001b[39m \u001b[39mself\u001b[39m\u001b[39m.\u001b[39mto_ml_format(dc, \u001b[39m4\u001b[39m)\n\u001b[0;32m    121\u001b[0m \u001b[39mreturn\u001b[39;00m {\n\u001b[0;32m    122\u001b[0m     \u001b[39m\"\u001b[39m\u001b[39msignal\u001b[39m\u001b[39m\"\u001b[39m: signal,\n\u001b[0;32m    123\u001b[0m     \u001b[39m\"\u001b[39m\u001b[39mtimes\u001b[39m\u001b[39m\"\u001b[39m: times,\n\u001b[1;32m   (...)\u001b[0m\n\u001b[0;32m    127\u001b[0m     \u001b[39m\"\u001b[39m\u001b[39mphase\u001b[39m\u001b[39m\"\u001b[39m: phase,\n\u001b[0;32m    128\u001b[0m }\n",
      "File \u001b[1;32mc:\\Users\\terry\\Documents\\Github\\side_circuit\\ml\\data\\signals\\signal_generator.py:139\u001b[0m, in \u001b[0;36mSignalGenerator.to_ml_format\u001b[1;34m(self, number, exponent_bits)\u001b[0m\n\u001b[0;32m    136\u001b[0m exponent \u001b[39m=\u001b[39m \u001b[39mint\u001b[39m(exponent_str) \u001b[39m+\u001b[39m \u001b[39m1\u001b[39m\n\u001b[0;32m    138\u001b[0m \u001b[39m# Convert exponent to binary array\u001b[39;00m\n\u001b[1;32m--> 139\u001b[0m exponent_array \u001b[39m=\u001b[39m \u001b[39mself\u001b[39;49m\u001b[39m.\u001b[39;49mint_to_binary_array(exponent, exponent_bits)\n\u001b[0;32m    141\u001b[0m \u001b[39mreturn\u001b[39;00m coefficient, exponent_array\n",
      "File \u001b[1;32mc:\\Users\\terry\\Documents\\Github\\side_circuit\\ml\\data\\signals\\signal_generator.py:150\u001b[0m, in \u001b[0;36mSignalGenerator.int_to_binary_array\u001b[1;34m(self, number, num_bits)\u001b[0m\n\u001b[0;32m    144\u001b[0m \u001b[39m\u001b[39m\u001b[39m'''\u001b[39;00m\n\u001b[0;32m    145\u001b[0m \u001b[39mConverts an integer to a binary array of length num_bits.\u001b[39;00m\n\u001b[0;32m    146\u001b[0m \u001b[39mIndexing is little endian. However, np arrays are indexed from\u001b[39;00m\n\u001b[0;32m    147\u001b[0m \u001b[39mleft to right, which is not typical of binary numbers.\u001b[39;00m\n\u001b[0;32m    148\u001b[0m \u001b[39m'''\u001b[39;00m\n\u001b[0;32m    149\u001b[0m \u001b[39mif\u001b[39;00m \u001b[39mnot\u001b[39;00m \u001b[39misinstance\u001b[39m(number, \u001b[39mint\u001b[39m) \u001b[39mor\u001b[39;00m number \u001b[39m<\u001b[39m \u001b[39m0\u001b[39m:\n\u001b[1;32m--> 150\u001b[0m     \u001b[39mraise\u001b[39;00m \u001b[39mValueError\u001b[39;00m(\u001b[39m\"\u001b[39m\u001b[39mInput number must be a non-negative integer\u001b[39m\u001b[39m\"\u001b[39m)\n\u001b[0;32m    151\u001b[0m \u001b[39mif\u001b[39;00m \u001b[39mnot\u001b[39;00m \u001b[39misinstance\u001b[39m(num_bits, \u001b[39mint\u001b[39m) \u001b[39mor\u001b[39;00m num_bits \u001b[39m<\u001b[39m \u001b[39m1\u001b[39m:\n\u001b[0;32m    152\u001b[0m     \u001b[39mraise\u001b[39;00m \u001b[39mValueError\u001b[39;00m(\u001b[39m\"\u001b[39m\u001b[39mNumber of bits must be a positive integer\u001b[39m\u001b[39m\"\u001b[39m)\n",
      "\u001b[1;31mValueError\u001b[0m: Input number must be a non-negative integer"
     ]
    }
   ],
   "source": [
    "sin_gen = sg.SignalGenerator()\n",
    "sin_example = sin_gen.generate_sine()\n",
    "print(sin_example[\"frequency\"])\n",
    "\n",
    "sin_gen.plot(sin_example[\"signal\"],sin_example[\"times\"])"
   ]
  },
  {
   "cell_type": "code",
   "execution_count": null,
   "metadata": {},
   "outputs": [],
   "source": [
    "import signal_dataset as sd"
   ]
  },
  {
   "cell_type": "code",
   "execution_count": null,
   "metadata": {},
   "outputs": [],
   "source": [
    "dataset = sd.SignalDataset()"
   ]
  }
 ],
 "metadata": {
  "kernelspec": {
   "display_name": "training",
   "language": "python",
   "name": "python3"
  },
  "language_info": {
   "codemirror_mode": {
    "name": "ipython",
    "version": 3
   },
   "file_extension": ".py",
   "mimetype": "text/x-python",
   "name": "python",
   "nbconvert_exporter": "python",
   "pygments_lexer": "ipython3",
   "version": "3.10.12"
  },
  "orig_nbformat": 4
 },
 "nbformat": 4,
 "nbformat_minor": 2
}

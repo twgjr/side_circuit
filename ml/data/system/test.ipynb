{
 "cells": [
  {
   "cell_type": "code",
   "execution_count": 1,
   "metadata": {},
   "outputs": [],
   "source": [
    "import sys\n",
    "sys.path.insert(0, '../..')\n",
    "\n",
    "from modules.system import *\n",
    "from modules.elements import *"
   ]
  },
  {
   "cell_type": "code",
   "execution_count": 2,
   "metadata": {},
   "outputs": [],
   "source": [
    "system = System()\n",
    "\n",
    "voltage = Voltage(system)\n",
    "voltage.DC(5)\n",
    "\n",
    "resistor = Resistor(system, 1000)\n",
    "\n",
    "Wire(system, voltage.p, resistor.p)\n",
    "Wire(system, voltage.n, resistor.n)\n",
    "Wire(system, resistor.n, system.ground)\n",
    "# don't automatically merge ports/terminals that are already connected? throw error if t\n",
    "# try to connect two ports that are already connected?\n",
    "\n",
    "with open('test.json', 'w') as f:\n",
    "    f.write(system.to_json())"
   ]
  }
 ],
 "metadata": {
  "kernelspec": {
   "display_name": "side_circuit",
   "language": "python",
   "name": "python3"
  },
  "language_info": {
   "codemirror_mode": {
    "name": "ipython",
    "version": 3
   },
   "file_extension": ".py",
   "mimetype": "text/x-python",
   "name": "python",
   "nbconvert_exporter": "python",
   "pygments_lexer": "ipython3",
   "version": "3.10.13"
  }
 },
 "nbformat": 4,
 "nbformat_minor": 2
}

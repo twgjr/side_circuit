{
 "cells": [
  {
   "cell_type": "markdown",
   "metadata": {},
   "source": [
    "Need to keep signal encoding to no more than 3 seconds.  So limit the total number of samples to 10^7.\n",
    "Since lowest precision is 10^-12, the longest sequence for highest frequency would be 10^-5 or 100 microseconds."
   ]
  },
  {
   "cell_type": "code",
   "execution_count": 1,
   "metadata": {},
   "outputs": [
    {
     "name": "stdout",
     "output_type": "stream",
     "text": [
      "t is 0.99999999975017\n",
      "error is 2.4983004554002264e-10\n"
     ]
    }
   ],
   "source": [
    "exponent = 7\n",
    "num = 10**exponent\n",
    "inc = 10**-(exponent)\n",
    "t = 0.0\n",
    "dt = [inc] * num\n",
    "\n",
    "for i in range(num):\n",
    "    t = t + dt[i]\n",
    "\n",
    "print(f't is {t}')\n",
    "\n",
    "error = abs(1 - t)\n",
    "print(f'error is {error}')"
   ]
  }
 ],
 "metadata": {
  "kernelspec": {
   "display_name": "training",
   "language": "python",
   "name": "python3"
  },
  "language_info": {
   "codemirror_mode": {
    "name": "ipython",
    "version": 3
   },
   "file_extension": ".py",
   "mimetype": "text/x-python",
   "name": "python",
   "nbconvert_exporter": "python",
   "pygments_lexer": "ipython3",
   "version": "3.10.12"
  }
 },
 "nbformat": 4,
 "nbformat_minor": 2
}

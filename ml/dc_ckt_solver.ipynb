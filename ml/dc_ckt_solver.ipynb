{
 "cells": [
  {
   "cell_type": "code",
   "execution_count": 1,
   "metadata": {},
   "outputs": [],
   "source": [
    "import numpy as np\n",
    "import torch\n",
    "from torch import nn\n",
    "import networkx as nx\n",
    "import copy\n",
    "import circuits as ckt"
   ]
  },
  {
   "cell_type": "code",
   "execution_count": 2,
   "metadata": {},
   "outputs": [
    {
     "name": "stdout",
     "output_type": "stream",
     "text": [
      "Using cpu device\n"
     ]
    }
   ],
   "source": [
    "# Get cpu or gpu device for training.\n",
    "# device = \"cuda\" if torch.cuda.is_available() else \"cpu\"\n",
    "device = \"cpu\"\n",
    "print(f\"Using {device} device\")\n",
    "\n",
    "# torch.autograd.set_detect_anomaly(True)"
   ]
  },
  {
   "attachments": {},
   "cell_type": "markdown",
   "metadata": {},
   "source": [
    "# Generate Input Data for a Simple Circuit\n",
    "Circuit is an independent voltage source and a resistor."
   ]
  },
  {
   "cell_type": "code",
   "execution_count": 3,
   "metadata": {},
   "outputs": [
    {
     "name": "stdout",
     "output_type": "stream",
     "text": [
      "Circuit with 2 nodes and 2 elements\n",
      "[0, 1]\n",
      "[(1 , 0), (1 , 0)]\n",
      "[(1, {}), (0, {})]\n",
      "[(1, 0, 0, {'kind': <Kinds.IVS: 0>, 'i': None, 'v': None, 'attr': 2}), (1, 0, 1, {'kind': <Kinds.R: 2>, 'i': 0.001, 'v': None, 'attr': None})]\n"
     ]
    },
    {
     "data": {
      "image/png": "[encoded data removed]",
      "text/plain": [
       "<Figure size 640x480 with 1 Axes>"
      ]
     },
     "metadata": {},
     "output_type": "display_data"
    }
   ],
   "source": [
    "vr = ckt.Circuit()\n",
    "v_source = vr.add_element(kind=ckt.Kinds.IVS)\n",
    "resistor = vr.add_element(kind=ckt.Kinds.R)\n",
    "v_source.connect(v_source.high, resistor.high)\n",
    "v_source.connect(v_source.low, resistor.low)\n",
    "v_source.attr = 2\n",
    "resistor.i = 0.001\n",
    "print(vr)\n",
    "print(vr.nodes)\n",
    "print(vr.elements)\n",
    "vr.draw()\n",
    "print(vr.nx_graph().nodes().data())\n",
    "print(vr.nx_graph().edges(data=True,keys=True))"
   ]
  },
  {
   "attachments": {},
   "cell_type": "markdown",
   "metadata": {},
   "source": [
    "# Expected Sizes of Vectors"
   ]
  },
  {
   "cell_type": "code",
   "execution_count": 4,
   "metadata": {},
   "outputs": [
    {
     "name": "stdout",
     "output_type": "stream",
     "text": [
      "size of element currents, voltages, and attr = (2,1)\n",
      "size of node voltages = (2,1)\n"
     ]
    }
   ],
   "source": [
    "# create tensors for voltages, currents, and element attrs\n",
    "print(f'size of element currents, voltages, and attr = ({vr.num_elements()},1)')\n",
    "print(f'size of node voltages = ({vr.num_nodes()},1)')"
   ]
  },
  {
   "attachments": {},
   "cell_type": "markdown",
   "metadata": {},
   "source": [
    "# Extract Circuit Inputs for the Model"
   ]
  },
  {
   "cell_type": "code",
   "execution_count": 5,
   "metadata": {},
   "outputs": [
    {
     "name": "stdout",
     "output_type": "stream",
     "text": [
      "Kinds.IVS\n",
      "Kinds.R\n"
     ]
    },
    {
     "name": "stderr",
     "output_type": "stream",
     "text": [
      "c:\\Users\\terry\\OneDrive\\Documents\\GitHub\\side_circuit\\ml\\circuits.py:64: FutureWarning: incidence_matrix will return a scipy.sparse array instead of a matrix in Networkx 3.0.\n",
      "  M_scipy = nx.incidence_matrix(G=self.nx_graph(),oriented=True)\n"
     ]
    }
   ],
   "source": [
    "input = ckt.Input(vr)"
   ]
  },
  {
   "cell_type": "code",
   "execution_count": 6,
   "metadata": {},
   "outputs": [
    {
     "data": {
      "text/plain": [
       "tensor([[-1., -1.],\n",
       "        [ 1.,  1.]])"
      ]
     },
     "execution_count": 6,
     "metadata": {},
     "output_type": "execute_result"
    }
   ],
   "source": [
    "input.M"
   ]
  },
  {
   "cell_type": "code",
   "execution_count": 7,
   "metadata": {},
   "outputs": [
    {
     "data": {
      "text/plain": [
       "{<Kinds.IVS: 0>: [True, False],\n",
       " <Kinds.ICS: 1>: [False, False],\n",
       " <Kinds.R: 2>: [False, True]}"
      ]
     },
     "execution_count": 7,
     "metadata": {},
     "output_type": "execute_result"
    }
   ],
   "source": [
    "input.kinds_map"
   ]
  },
  {
   "cell_type": "code",
   "execution_count": 8,
   "metadata": {},
   "outputs": [
    {
     "data": {
      "text/plain": [
       "{<Props.I: 0>: [False, True],\n",
       " <Props.V: 1>: [True, False],\n",
       " <Props.Attr: 2>: [True, False]}"
      ]
     },
     "execution_count": 8,
     "metadata": {},
     "output_type": "execute_result"
    }
   ],
   "source": [
    "input.knowns_map"
   ]
  },
  {
   "cell_type": "code",
   "execution_count": 9,
   "metadata": {},
   "outputs": [
    {
     "data": {
      "text/plain": [
       "{<Props.I: 0>: [0.28396545919354066, 0.001],\n",
       " <Props.V: 1>: [2.0, 0.13334803330040934],\n",
       " <Props.Attr: 2>: [2.0, 0.6318702182865215]}"
      ]
     },
     "execution_count": 9,
     "metadata": {},
     "output_type": "execute_result"
    }
   ],
   "source": [
    "input.inputs_map"
   ]
  },
  {
   "cell_type": "code",
   "execution_count": 10,
   "metadata": {},
   "outputs": [
    {
     "data": {
      "text/plain": [
       "(tensor([[0.2840],\n",
       "         [0.0010]]),\n",
       " tensor([[2.0000],\n",
       "         [0.1333]]),\n",
       " tensor([[0.9094],\n",
       "         [0.4496]]),\n",
       " tensor([[2.0000],\n",
       "         [0.6319]]))"
      ]
     },
     "execution_count": 10,
     "metadata": {},
     "output_type": "execute_result"
    }
   ],
   "source": [
    "input.init_tensors()"
   ]
  },
  {
   "attachments": {},
   "cell_type": "markdown",
   "metadata": {},
   "source": [
    "# Define Models"
   ]
  },
  {
   "cell_type": "code",
   "execution_count": 11,
   "metadata": {},
   "outputs": [],
   "source": [
    "class Solver(nn.Module):\n",
    "    def __init__(self, input: ckt.Input):\n",
    "        super().__init__()\n",
    "        self.input = input\n",
    "        i_in, v_in, pot_in, attr_in = self.input.init_tensors()\n",
    "        self.i = nn.Parameter(i_in.clone().detach())\n",
    "        self.v = nn.Parameter(v_in.clone().detach())\n",
    "        self.pot = nn.Parameter(pot_in.clone().detach())\n",
    "        self.attr = nn.Parameter(attr_in.clone().detach())\n",
    "\n",
    "    def forward(self):\n",
    "        current_error = self.kcl(input.M, self.i)\n",
    "        voltage_error = self.kvl(input.M, self.v, self.pot)\n",
    "        resistor_error = self.resistor(self.i, self.v, self.attr)\n",
    "        return current_error, voltage_error, resistor_error\n",
    "\n",
    "    def kcl(self, M, i):\n",
    "        current_error = M @ i\n",
    "        return current_error\n",
    "\n",
    "    def kvl(self,M,v,pot):\n",
    "        kvl_error = v - M.T @ pot\n",
    "        return kvl_error\n",
    "\n",
    "    def resistor(self,i,v,r):\n",
    "        resistor_v_error = i * r - v\n",
    "        return resistor_v_error\n",
    "\n",
    "    def zero_kcl_known_grads(self):\n",
    "        self.i.grad[self.input.knowns_map[ckt.Props.I]] = 0\n",
    "        \n",
    "    def zero_kvl_known_grads(self):\n",
    "        self.v.grad[self.input.knowns_map[ckt.Props.V]] = 0\n",
    "\n",
    "    def zero_res_known_grads(self):\n",
    "        self.v.grad[self.input.knowns_map[ckt.Props.V]] = 0\n",
    "        self.i.grad[self.input.knowns_map[ckt.Props.I]] = 0\n",
    "        self.attr.grad[self.input.knowns_map[ckt.Props.Attr]] = 0\n",
    "\n",
    "    def zero_known_grads(self):\n",
    "        self.zero_kcl_known_grads()\n",
    "        self.zero_kvl_known_grads()\n",
    "        self.zero_res_known_grads()\n",
    "\n",
    "    def zero_attr_grads(self):\n",
    "        self.attr.grad = 0\n",
    "    "
   ]
  },
  {
   "attachments": {},
   "cell_type": "markdown",
   "metadata": {},
   "source": [
    "# Create Instance of Models"
   ]
  },
  {
   "cell_type": "code",
   "execution_count": 12,
   "metadata": {},
   "outputs": [],
   "source": [
    "model = Solver(input = input).to(device)"
   ]
  },
  {
   "attachments": {},
   "cell_type": "markdown",
   "metadata": {},
   "source": [
    "# Loss"
   ]
  },
  {
   "cell_type": "code",
   "execution_count": 13,
   "metadata": {},
   "outputs": [],
   "source": [
    "loss_fn = nn.MSELoss()"
   ]
  },
  {
   "attachments": {},
   "cell_type": "markdown",
   "metadata": {},
   "source": [
    "# Optimizer"
   ]
  },
  {
   "cell_type": "code",
   "execution_count": 14,
   "metadata": {},
   "outputs": [],
   "source": [
    "optimizer = torch.optim.Adam(params=model.parameters(),lr=0.9)"
   ]
  },
  {
   "attachments": {},
   "cell_type": "markdown",
   "metadata": {},
   "source": [
    "# Train Function"
   ]
  },
  {
   "attachments": {},
   "cell_type": "markdown",
   "metadata": {},
   "source": [
    "This is multitask learning since there are multiple losses accessing common, hard parameters.  By separating the losses, Adam optimizer can use different learning rates of different parameter groups.  Each loss is associated with a key equation for solving circuits (e.g. KCL).  There are three ways to backpropagate the losses.  \n",
    "\n",
    "First is the common way.  Calculate all losses, sum them, then backpropogate from the final summed loss.  This does not work because larger losses overpower smaller losses.  A way to fix that is to add a scaling factor to each loss before summing.  Does not work in this scenario because the ranges for the losses change depending on the circuit and constraints.  The second way is to individually backpropagate each loss before one optimizer update.  The three models battle it this case.  The fix for this is to run an optimizer step after each loss backprop.  Therefore each loss is it's own model that takes shared parameters as input and returns an update of the parameters for use by the next loss backprop + opt step.\n",
    "\n",
    "Note:  At one point the `retain_graph = True` input for `loss.backward()` method was used to retain computation of the entire graph for all the losses before freeing from memory.  Useful for the case when having to call multiple loss.backward() in a row without an optimizer step.  Bascially adding all contributions of gradients from all losses to a shared parameter.  Unstable.\n",
    "\n",
    "Model struggles with large differences in values (1 vs 100 Ohms in the same circuit).  It needs some form of normalization.  Normalization needs to be treated as max of v_input is v_base and max of i_input is i_base and derive all other bases from i_base and v_base.  For example, r_base = v_base / i_base.\n",
    "\n",
    "Freezing parameters, especially resistance, allows the model to train itself from different perpectives.  This is done by zeroing the gradients for an entire set of parameters.  Freezing is always done for any \"known\" parameters."
   ]
  },
  {
   "attachments": {},
   "cell_type": "markdown",
   "metadata": {},
   "source": [
    "# Using combined losses is better than treating losses separately"
   ]
  },
  {
   "cell_type": "code",
   "execution_count": 15,
   "metadata": {},
   "outputs": [
    {
     "name": "stdout",
     "output_type": "stream",
     "text": [
      "epoch 0 loss: 3.551187515258789\n",
      "epoch 1000 loss: 0.9162282943725586\n",
      "epoch 2000 loss: 0.7305858731269836\n",
      "epoch 3000 loss: 0.6762403249740601\n",
      "epoch 4000 loss: 0.7276389598846436\n",
      "epoch 5000 loss: 0.6680200099945068\n",
      "epoch 6000 loss: 0.6680008769035339\n",
      "epoch 7000 loss: 0.6680126190185547\n",
      "epoch 8000 loss: 0.6680006384849548\n",
      "epoch 9000 loss: 0.6680006384849548\n",
      "Done!\n",
      "params = [Parameter containing:\n",
      "tensor([[0.6663],\n",
      "        [0.0010]], requires_grad=True), Parameter containing:\n",
      "tensor([[2.0000],\n",
      "        [1.9999]], requires_grad=True), Parameter containing:\n",
      "tensor([[-0.6781],\n",
      "        [ 1.3222]], requires_grad=True), Parameter containing:\n",
      "tensor([[2.0000e+00],\n",
      "        [2.0000e+03]], requires_grad=True)]\n"
     ]
    }
   ],
   "source": [
    "epochs = 10000\n",
    "\n",
    "prev_loss = 0.1\n",
    "lt_prev_loss = 1000\n",
    "\n",
    "for t in range(epochs):\n",
    "\n",
    "    #set training mode\n",
    "    model.train()\n",
    "\n",
    "    i_error, v_error, r_error = model()\n",
    "    i_loss = loss_fn(i_error, torch.zeros_like(i_error))\n",
    "    v_loss = loss_fn(v_error, torch.zeros_like(v_error))\n",
    "    r_loss = loss_fn(r_error, torch.zeros_like(r_error))\n",
    "\n",
    "    loss = i_loss + v_loss + r_loss\n",
    "\n",
    "    model.zero_grad()\n",
    "\n",
    "    loss.backward()\n",
    "\n",
    "    model.zero_known_grads()\n",
    "\n",
    "    optimizer.step()\n",
    "\n",
    "    # analyze steps and loss\n",
    "    loss_change = abs(loss - prev_loss) / prev_loss\n",
    "    prev_loss = loss\n",
    "\n",
    "    if (t % (epochs/10)) == 0:\n",
    "        print(f'epoch {t} loss: {loss.item()}')\n",
    "        if loss > lt_prev_loss:\n",
    "            for g in optimizer.param_groups:\n",
    "                g['lr'] /= 2\n",
    "        lt_prev_loss = loss\n",
    "\n",
    "    if (loss_change < 1e-50):\n",
    "        print(f'epoch {t} loss = {loss} finished early for loss change')\n",
    "        break\n",
    "\n",
    "    if loss < 1e-10:\n",
    "        print(f'epoch {t} loss = {loss} finished early for loss threshold')\n",
    "        break\n",
    "\n",
    "print(\"Done!\")\n",
    "print(f\"params = {list(model.parameters())}\")"
   ]
  }
 ],
 "metadata": {
  "kernelspec": {
   "display_name": "ml",
   "language": "python",
   "name": "python3"
  },
  "language_info": {
   "codemirror_mode": {
    "name": "ipython",
    "version": 3
   },
   "file_extension": ".py",
   "mimetype": "text/x-python",
   "name": "python",
   "nbconvert_exporter": "python",
   "pygments_lexer": "ipython3",
   "version": "3.10.8"
  },
  "orig_nbformat": 4,
  "vscode": {
   "interpreter": {
    "hash": "3217f10b4e7366dd1a6cbf73464f125221bf8686d6dfc23b58c931b1c5e4bd4d"
   }
  }
 },
 "nbformat": 4,
 "nbformat_minor": 2
}

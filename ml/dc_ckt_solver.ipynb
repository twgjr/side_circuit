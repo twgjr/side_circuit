{
 "cells": [
  {
   "cell_type": "code",
   "execution_count": 1,
   "metadata": {},
   "outputs": [],
   "source": [
    "import numpy as np\n",
    "import torch\n",
    "from torch import nn\n",
    "import torch.nn.utils.prune as prune\n",
    "import networkx as nx\n",
    "import copy\n",
    "import circuits as ckt"
   ]
  },
  {
   "cell_type": "code",
   "execution_count": 2,
   "metadata": {},
   "outputs": [
    {
     "name": "stdout",
     "output_type": "stream",
     "text": [
      "Using cpu device\n"
     ]
    }
   ],
   "source": [
    "# Get cpu or gpu device for training.\n",
    "# device = \"cuda\" if torch.cuda.is_available() else \"cpu\"\n",
    "device = \"cpu\"\n",
    "print(f\"Using {device} device\")\n",
    "\n",
    "# torch.autograd.set_detect_anomaly(True)"
   ]
  },
  {
   "attachments": {},
   "cell_type": "markdown",
   "metadata": {},
   "source": [
    "# Generate Input Data for a Simple Circuit\n",
    "Circuit is an independent voltage source and a resistor."
   ]
  },
  {
   "cell_type": "code",
   "execution_count": 3,
   "metadata": {},
   "outputs": [
    {
     "name": "stdout",
     "output_type": "stream",
     "text": [
      "Circuit with 2 nodes and 2 elements\n",
      "[0, 1]\n",
      "[(1 , 0), (1 , 0)]\n",
      "[(1, {}), (0, {})]\n",
      "[(1, 0, 0, {'kind': <Kinds.IVS: 0>, 'i': 0.1, 'v': None, 'attr': -2}), (1, 0, 1, {'kind': <Kinds.R: 2>, 'i': None, 'v': None, 'attr': None})]\n"
     ]
    },
    {
     "data": {
      "image/png": "[encoded data removed]",
      "text/plain": [
       "<Figure size 640x480 with 1 Axes>"
      ]
     },
     "metadata": {},
     "output_type": "display_data"
    }
   ],
   "source": [
    "vr = ckt.Circuit()\n",
    "v_source = vr.add_element(kind=ckt.Kinds.IVS)\n",
    "resistor = vr.add_element(kind=ckt.Kinds.R)\n",
    "v_source.connect(v_source.high, resistor.high)\n",
    "v_source.connect(v_source.low, resistor.low)\n",
    "v_source.attr = -2\n",
    "v_source.i = 0.1\n",
    "# resistor.i = 0.1\n",
    "print(vr)\n",
    "print(vr.nodes)\n",
    "print(vr.elements)\n",
    "vr.draw()\n",
    "print(vr.nx_graph().nodes().data())\n",
    "print(vr.nx_graph().edges(data=True,keys=True))"
   ]
  },
  {
   "attachments": {},
   "cell_type": "markdown",
   "metadata": {},
   "source": [
    "# Expected Sizes of Vectors"
   ]
  },
  {
   "cell_type": "code",
   "execution_count": 4,
   "metadata": {},
   "outputs": [
    {
     "name": "stdout",
     "output_type": "stream",
     "text": [
      "size of element currents, voltages, and attr = (2,1)\n",
      "size of node voltages = (2,1)\n"
     ]
    }
   ],
   "source": [
    "# create tensors for voltages, currents, and element attrs\n",
    "print(f'size of element currents, voltages, and attr = ({vr.num_elements()},1)')\n",
    "print(f'size of node voltages = ({vr.num_nodes()},1)')"
   ]
  },
  {
   "attachments": {},
   "cell_type": "markdown",
   "metadata": {},
   "source": [
    "# Extract Circuit Inputs for the Model"
   ]
  },
  {
   "cell_type": "code",
   "execution_count": 5,
   "metadata": {},
   "outputs": [
    {
     "name": "stdout",
     "output_type": "stream",
     "text": [
      "Kinds.IVS\n",
      "Kinds.R\n"
     ]
    },
    {
     "name": "stderr",
     "output_type": "stream",
     "text": [
      "c:\\Users\\terry\\OneDrive\\Documents\\GitHub\\side_circuit\\ml\\circuits.py:64: FutureWarning: incidence_matrix will return a scipy.sparse array instead of a matrix in Networkx 3.0.\n",
      "  M_scipy = nx.incidence_matrix(G=self.nx_graph(),oriented=True)\n"
     ]
    }
   ],
   "source": [
    "input = ckt.Input(vr)"
   ]
  },
  {
   "cell_type": "code",
   "execution_count": 6,
   "metadata": {},
   "outputs": [
    {
     "data": {
      "text/plain": [
       "tensor([[-1., -1.],\n",
       "        [ 1.,  1.]])"
      ]
     },
     "execution_count": 6,
     "metadata": {},
     "output_type": "execute_result"
    }
   ],
   "source": [
    "input.M"
   ]
  },
  {
   "cell_type": "code",
   "execution_count": 7,
   "metadata": {},
   "outputs": [
    {
     "data": {
      "text/plain": [
       "{<Kinds.IVS: 0>: [True, False],\n",
       " <Kinds.ICS: 1>: [False, False],\n",
       " <Kinds.R: 2>: [False, True]}"
      ]
     },
     "execution_count": 7,
     "metadata": {},
     "output_type": "execute_result"
    }
   ],
   "source": [
    "input.kinds_map"
   ]
  },
  {
   "cell_type": "code",
   "execution_count": 8,
   "metadata": {},
   "outputs": [
    {
     "data": {
      "text/plain": [
       "{<Props.I: 0>: [True, False],\n",
       " <Props.V: 1>: [True, False],\n",
       " <Props.Attr: 2>: [True, False]}"
      ]
     },
     "execution_count": 8,
     "metadata": {},
     "output_type": "execute_result"
    }
   ],
   "source": [
    "input.knowns_map"
   ]
  },
  {
   "cell_type": "code",
   "execution_count": 9,
   "metadata": {},
   "outputs": [
    {
     "data": {
      "text/plain": [
       "{<Props.I: 0>: [0.1, 0.4054874717700453],\n",
       " <Props.V: 1>: [-2.0, 0.9059380952114919],\n",
       " <Props.Attr: 2>: [-2.0, 0.6075679437146172]}"
      ]
     },
     "execution_count": 9,
     "metadata": {},
     "output_type": "execute_result"
    }
   ],
   "source": [
    "input.inputs_map"
   ]
  },
  {
   "cell_type": "code",
   "execution_count": 10,
   "metadata": {},
   "outputs": [
    {
     "data": {
      "text/plain": [
       "(tensor([[0.1000],\n",
       "         [0.4055]]),\n",
       " tensor([[-2.0000],\n",
       "         [ 0.9059]]),\n",
       " tensor([[0.5038],\n",
       "         [0.9933]]),\n",
       " tensor([[-2.0000],\n",
       "         [ 0.6076]]))"
      ]
     },
     "execution_count": 10,
     "metadata": {},
     "output_type": "execute_result"
    }
   ],
   "source": [
    "input.init_tensors()"
   ]
  },
  {
   "attachments": {},
   "cell_type": "markdown",
   "metadata": {},
   "source": [
    "# Define Models"
   ]
  },
  {
   "cell_type": "code",
   "execution_count": 11,
   "metadata": {},
   "outputs": [],
   "source": [
    "class Solver(nn.Module):\n",
    "    def __init__(self, input: ckt.Input):\n",
    "        super().__init__()\n",
    "        self.input = input\n",
    "        i_in, v_in, pot_in, attr_in = self.input.init_tensors()\n",
    "        self.i = nn.Parameter(i_in.clone().detach())\n",
    "        self.v = nn.Parameter(v_in.clone().detach())\n",
    "        self.pot = nn.Parameter(pot_in.clone().detach())\n",
    "        self.attr = nn.Parameter(attr_in.clone().detach())\n",
    "\n",
    "    def forward(self):\n",
    "        current_error = self.kcl(input.M, self.i)\n",
    "        voltage_error = self.kvl(input.M, self.v, self.pot)\n",
    "        resistor_error = self.resistor(self.i, self.v, self.attr,\n",
    "                                        self.input.kinds_map[ckt.Kinds.R])\n",
    "        return current_error, voltage_error, resistor_error\n",
    "\n",
    "    def kcl(self, M, i):\n",
    "        current_error = M @ i\n",
    "        return current_error\n",
    "\n",
    "    def kvl(self,M,v,pot):\n",
    "        kvl_error = v - M.T @ pot\n",
    "        return kvl_error\n",
    "\n",
    "    def resistor(self,i,v,r,res_mask):\n",
    "        resistor_v_error = i[res_mask] * r[res_mask] - v[res_mask]\n",
    "        return resistor_v_error\n",
    "\n",
    "    def zero_known_grads(self):\n",
    "        if(self.i.grad != None):\n",
    "            self.i.grad[self.input.knowns_map[ckt.Props.I]] = 0\n",
    "        if(self.v.grad != None):\n",
    "            self.v.grad[self.input.knowns_map[ckt.Props.V]] = 0\n",
    "        if(self.attr.grad != None):\n",
    "            self.attr.grad[self.input.knowns_map[ckt.Props.Attr]] = 0\n",
    "\n",
    "    def zero_res_grads(self):\n",
    "        if(self.i.grad != None):\n",
    "            self.i.grad[self.input.kinds_map[ckt.Kinds.R]] = 0\n",
    "        if(self.v.grad != None):\n",
    "            self.v.grad[self.input.kinds_map[ckt.Kinds.R]] = 0\n",
    "        if(self.attr.grad != None):\n",
    "            self.attr.grad[self.input.kinds_map[ckt.Kinds.R]] = 0\n",
    "\n",
    "    def freeze_i_v(self):\n",
    "        self.i.requires_grad = False\n",
    "        self.v.requires_grad = False\n",
    "\n",
    "    def unfreeze_i_v(self):\n",
    "        self.i.requires_grad = True\n",
    "        self.v.requires_grad = True\n",
    "\n",
    "    def freeze_attr(self):\n",
    "        self.attr.requires_grad = False\n",
    "\n",
    "    def unfreeze_attr(self):\n",
    "        self.attr.requires_grad = True\n",
    "    "
   ]
  },
  {
   "attachments": {},
   "cell_type": "markdown",
   "metadata": {},
   "source": [
    "# Create Instance of Models"
   ]
  },
  {
   "cell_type": "code",
   "execution_count": 12,
   "metadata": {},
   "outputs": [],
   "source": [
    "model = Solver(input = input).to(device)"
   ]
  },
  {
   "attachments": {},
   "cell_type": "markdown",
   "metadata": {},
   "source": [
    "# Loss"
   ]
  },
  {
   "cell_type": "code",
   "execution_count": 13,
   "metadata": {},
   "outputs": [],
   "source": [
    "loss_fn = nn.MSELoss()"
   ]
  },
  {
   "attachments": {},
   "cell_type": "markdown",
   "metadata": {},
   "source": [
    "# Optimizer"
   ]
  },
  {
   "cell_type": "code",
   "execution_count": 14,
   "metadata": {},
   "outputs": [],
   "source": [
    "optimizer = torch.optim.Adam(params=model.parameters(),lr=0.5)"
   ]
  },
  {
   "attachments": {},
   "cell_type": "markdown",
   "metadata": {},
   "source": [
    "# Train Function"
   ]
  },
  {
   "attachments": {},
   "cell_type": "markdown",
   "metadata": {},
   "source": [
    "# Using combined losses is better than treating losses separately"
   ]
  },
  {
   "cell_type": "code",
   "execution_count": 15,
   "metadata": {},
   "outputs": [],
   "source": [
    "def smooth_i():\n",
    "    #set training mode\n",
    "    model.train()\n",
    "\n",
    "    kcl_err, _, _ = model()\n",
    "    kcl_loss = loss_fn(kcl_err, torch.zeros_like(kcl_err))\n",
    "\n",
    "    loss = kcl_loss\n",
    "\n",
    "    model.zero_grad()\n",
    "    loss.backward()\n",
    "    model.zero_known_grads()\n",
    "    optimizer.step()\n",
    "    \n",
    "    params = torch.cat(tuple(model.parameters()))\n",
    "\n",
    "    return loss,params.clone().detach()"
   ]
  },
  {
   "cell_type": "code",
   "execution_count": 16,
   "metadata": {},
   "outputs": [],
   "source": [
    "def smooth_v():\n",
    "    #set training mode\n",
    "    model.train()\n",
    "\n",
    "    _, kvl_err, _ = model()\n",
    "    kvl_loss = loss_fn(kvl_err, torch.zeros_like(kvl_err))\n",
    "\n",
    "    loss = kvl_loss\n",
    "\n",
    "    model.zero_grad()\n",
    "    loss.backward()\n",
    "    model.zero_known_grads()\n",
    "    # model.zero_res_grads()\n",
    "    optimizer.step()\n",
    "    \n",
    "    params = torch.cat(tuple(model.parameters()))\n",
    "\n",
    "    return loss,params.clone().detach()"
   ]
  },
  {
   "cell_type": "code",
   "execution_count": 18,
   "metadata": {},
   "outputs": [],
   "source": [
    "def update_unkown_element_attr():\n",
    "    #set training mode\n",
    "    model.train()\n",
    "\n",
    "    _, _, res_err = model()\n",
    "    res_loss = loss_fn(res_err, torch.zeros_like(res_err))\n",
    "\n",
    "    loss = res_loss\n",
    "\n",
    "    model.zero_grad()\n",
    "    model.freeze_i_v()\n",
    "    loss.backward()\n",
    "    model.zero_known_grads()\n",
    "    optimizer.step()\n",
    "    model.unfreeze_i_v()\n",
    "\n",
    "    params = torch.cat(tuple(model.parameters()))\n",
    "\n",
    "    return loss,params.clone().detach()"
   ]
  },
  {
   "cell_type": "code",
   "execution_count": 19,
   "metadata": {},
   "outputs": [],
   "source": [
    "def backprop_i_v_from_element_attr():\n",
    "    #set training mode\n",
    "    model.train()\n",
    "\n",
    "    _, _, res_err = model()\n",
    "    res_loss = loss_fn(res_err, torch.zeros_like(res_err))\n",
    "\n",
    "    loss = res_loss\n",
    "\n",
    "    model.zero_grad()\n",
    "    loss.backward()\n",
    "    model.zero_known_grads()\n",
    "    optimizer.step()\n",
    "\n",
    "    params = torch.cat(tuple(model.parameters()))\n",
    "\n",
    "    return loss,params.clone().detach()"
   ]
  },
  {
   "cell_type": "code",
   "execution_count": 20,
   "metadata": {},
   "outputs": [],
   "source": [
    "def is_stable(prev:torch.Tensor,updated:torch.Tensor, pu_threshold:float):\n",
    "    abs_val = torch.abs(updated - prev)\n",
    "    prev_abs = torch.abs(prev)\n",
    "    pu_change = abs_val / prev_abs\n",
    "    # print(f' {abs_val} / {prev_abs} = {pu_change}')\n",
    "    pu_change_max = torch.max(pu_change)\n",
    "    ret_bool = pu_change_max < pu_threshold\n",
    "    return ret_bool"
   ]
  },
  {
   "cell_type": "code",
   "execution_count": 21,
   "metadata": {},
   "outputs": [
    {
     "name": "stdout",
     "output_type": "stream",
     "text": [
      "init state 0 loss: 0.2555176019668579\n",
      "Done! at 946 epochs\n",
      "current = Parameter containing:\n",
      "tensor([[ 0.1000],\n",
      "        [-0.0384]], requires_grad=True)\n",
      "voltage = Parameter containing:\n",
      "tensor([[-2.0000],\n",
      "        [ 0.1012]], requires_grad=True)\n",
      "potential = Parameter containing:\n",
      "tensor([[ 1.6546],\n",
      "        [-0.3454]], requires_grad=True)\n",
      "attributes = Parameter containing:\n",
      "tensor([[-2.0000],\n",
      "        [-2.6390]], requires_grad=True)\n"
     ]
    }
   ],
   "source": [
    "epochs = 10000\n",
    "state = 0\n",
    "th = 0.000001\n",
    "prev_loss = 0.1\n",
    "lt_prev_loss = 1000\n",
    "loss, params = smooth_i()\n",
    "print(f'init state {state} loss: {loss.item()}')\n",
    "\n",
    "prev_params = params\n",
    "\n",
    "model_is_stable = [False,False,False,False]\n",
    "\n",
    "# for t in range(epochs):\n",
    "t = 0\n",
    "while(False in model_is_stable):\n",
    "\n",
    "    if(t > epochs):\n",
    "        break\n",
    "    else:\n",
    "        t += 1\n",
    "\n",
    "    if(state == 0):\n",
    "        loss,params = smooth_i()\n",
    "        if(is_stable(prev_params, params, th)):\n",
    "            state = 1\n",
    "            model_is_stable[0] = True\n",
    "    elif(state == 1):\n",
    "        loss,params = smooth_v()\n",
    "        if(is_stable(prev_params, params, th)):\n",
    "            state = 2\n",
    "            model_is_stable[1] = True\n",
    "    elif(state == 2):\n",
    "        loss,params = update_unkown_element_attr()\n",
    "        if(is_stable(prev_params, params, th)):\n",
    "            state = 3\n",
    "            model_is_stable[2] = True\n",
    "    elif(state == 3):\n",
    "        # freeze previously updated element attr\n",
    "        # use element equation as loss function from v->i and i->v\n",
    "        loss,params = backprop_i_v_from_element_attr()\n",
    "        if(is_stable(prev_params, params, th)):\n",
    "            state = 0\n",
    "            model_is_stable[3] = True\n",
    "    else:\n",
    "        assert()\n",
    "\n",
    "    prev_params = params\n",
    "\n",
    "    # if (t % (epochs/10)) == 0:\n",
    "    #     state = ~state\n",
    "    \n",
    "    # analyze steps and loss\n",
    "    loss_change = abs(loss - prev_loss) / prev_loss\n",
    "    prev_loss = loss\n",
    "\n",
    "    if (t % (epochs/10)) == 0:\n",
    "        lt_prev_loss = loss\n",
    "\n",
    "print(f'Done! at {t} epochs')\n",
    "print(f\"current = {model.i}\")\n",
    "print(f\"voltage = {model.v}\")\n",
    "print(f\"potential = {model.pot}\")\n",
    "print(f\"attributes = {model.attr}\")"
   ]
  },
  {
   "attachments": {},
   "cell_type": "markdown",
   "metadata": {},
   "source": [
    "OUTPUT USING GRADIENT FREEZING\n",
    "\n",
    "1\n",
    "\n",
    "```python\n",
    "epoch 0 loss: 3.341080904006958\n",
    "epoch 1000 loss: 0.0\n",
    "epoch 2000 loss: 0.0\n",
    "epoch 3000 loss: 0.0\n",
    "epoch 4000 loss: 0.0\n",
    "epoch 5000 loss: 0.0\n",
    "epoch 6000 loss: 0.0\n",
    "epoch 7000 loss: 0.0\n",
    "epoch 8000 loss: 0.0\n",
    "epoch 9000 loss: 0.0\n",
    "Done!\n",
    "current = Parameter containing:\n",
    "tensor([[-0.5000],\n",
    "        [ 0.5000]], requires_grad=True)\n",
    "voltage = Parameter containing:\n",
    "tensor([[2.],\n",
    "        [2.]], requires_grad=True)\n",
    "potential = Parameter containing:\n",
    "tensor([[-0.7411],\n",
    "        [ 1.2589]], requires_grad=True)\n",
    "attributes = Parameter containing:\n",
    "tensor([[2.],\n",
    "        [4.]], requires_grad=True)\n",
    "```\n",
    "\n",
    "2\n",
    "\n",
    "\n",
    "```python\n",
    "epoch 0 loss: 5.810656547546387\n",
    "epoch 1000 loss: 3.552713678800501e-15\n",
    "epoch 2000 loss: 3.552713678800501e-15\n",
    "epoch 3000 loss: 2.7913847588934004e-07\n",
    "epoch 4000 loss: 1.4210854715202004e-14\n",
    "epoch 5000 loss: 1.7408297026122455e-11\n",
    "epoch 6000 loss: 0.0\n",
    "epoch 7000 loss: 0.0\n",
    "epoch 8000 loss: 0.0\n",
    "epoch 9000 loss: 0.0\n",
    "Done!\n",
    "params = [('i', Parameter containing:\n",
    "tensor([[-1.],\n",
    "        [ 1.]], requires_grad=True)), ('v', Parameter containing:\n",
    "tensor([[2.],\n",
    "        [2.]], requires_grad=True)), ('pot', Parameter containing:\n",
    "tensor([[-0.3692],\n",
    "        [ 1.6308]], requires_grad=True)), ('attr', Parameter containing:\n",
    "tensor([[2.],\n",
    "        [2.]], requires_grad=True))]\n",
    "```"
   ]
  },
  {
   "cell_type": "markdown",
   "metadata": {},
   "source": []
  }
 ],
 "metadata": {
  "kernelspec": {
   "display_name": "ml",
   "language": "python",
   "name": "python3"
  },
  "language_info": {
   "codemirror_mode": {
    "name": "ipython",
    "version": 3
   },
   "file_extension": ".py",
   "mimetype": "text/x-python",
   "name": "python",
   "nbconvert_exporter": "python",
   "pygments_lexer": "ipython3",
   "version": "3.10.8"
  },
  "orig_nbformat": 4,
  "vscode": {
   "interpreter": {
    "hash": "3217f10b4e7366dd1a6cbf73464f125221bf8686d6dfc23b58c931b1c5e4bd4d"
   }
  }
 },
 "nbformat": 4,
 "nbformat_minor": 2
}

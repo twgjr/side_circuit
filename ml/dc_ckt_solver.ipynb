{
 "cells": [
  {
   "cell_type": "code",
   "execution_count": 1,
   "metadata": {},
   "outputs": [],
   "source": [
    "import torch\n",
    "from torch import nn\n",
    "import circuits as ckt\n",
    "import learn as lrn\n",
    "import models as mdl"
   ]
  },
  {
   "cell_type": "code",
   "execution_count": 2,
   "metadata": {},
   "outputs": [
    {
     "name": "stdout",
     "output_type": "stream",
     "text": [
      "Using cpu device\n"
     ]
    }
   ],
   "source": [
    "# Get cpu or gpu device for training.\n",
    "# device = \"cuda\" if torch.cuda.is_available() else \"cpu\"\n",
    "device = \"cpu\"\n",
    "print(f\"Using {device} device\")\n",
    "\n",
    "# torch.autograd.set_detect_anomaly(True)"
   ]
  },
  {
   "attachments": {},
   "cell_type": "markdown",
   "metadata": {},
   "source": [
    "# Generate Circuit"
   ]
  },
  {
   "cell_type": "code",
   "execution_count": 3,
   "metadata": {},
   "outputs": [
    {
     "name": "stdout",
     "output_type": "stream",
     "text": [
      "Circuit with 2 nodes and 2 elements\n",
      "[0, 1]\n",
      "[(1 , 0), (1 , 0)]\n",
      "[(1, {}), (0, {})]\n",
      "[(1, 0, 0, {'kind': <Kinds.IVS: 0>, 'i': -1, 'v': None, 'attr': 1}), (1, 0, 1, {'kind': <Kinds.R: 2>, 'i': None, 'v': None, 'attr': None})]\n"
     ]
    },
    {
     "data": {
      "image/png": "[encoded data removed]",
      "text/plain": [
       "<Figure size 640x480 with 1 Axes>"
      ]
     },
     "metadata": {},
     "output_type": "display_data"
    }
   ],
   "source": [
    "vr = ckt.Circuit()\n",
    "v_source = vr.add_element(kind=ckt.Kinds.IVS)\n",
    "resistor = vr.add_element(kind=ckt.Kinds.R)\n",
    "v_source.connect(v_source.high, resistor.high)\n",
    "v_source.connect(v_source.low, resistor.low)\n",
    "v_source.attr = 1\n",
    "v_source.i = -1\n",
    "# resistor.i = 0.1\n",
    "# resistor.attr = 4\n",
    "print(vr)\n",
    "print(vr.nodes)\n",
    "print(vr.elements)\n",
    "vr.draw()\n",
    "print(vr.nx_graph().nodes().data())\n",
    "print(vr.nx_graph().edges(data=True,keys=True))"
   ]
  },
  {
   "attachments": {},
   "cell_type": "markdown",
   "metadata": {},
   "source": [
    "# Convert Circuit to Model Input"
   ]
  },
  {
   "cell_type": "code",
   "execution_count": 4,
   "metadata": {},
   "outputs": [
    {
     "name": "stdout",
     "output_type": "stream",
     "text": [
      "Kinds.IVS\n",
      "Kinds.R\n"
     ]
    },
    {
     "name": "stderr",
     "output_type": "stream",
     "text": [
      "c:\\Users\\terry\\OneDrive\\Documents\\GitHub\\side_circuit\\ml\\circuits.py:66: FutureWarning: incidence_matrix will return a scipy.sparse array instead of a matrix in Networkx 3.0.\n",
      "  M_scipy = nx.incidence_matrix(G=self.nx_graph(),oriented=True)\n"
     ]
    }
   ],
   "source": [
    "input = ckt.Input(vr)"
   ]
  },
  {
   "cell_type": "code",
   "execution_count": 5,
   "metadata": {},
   "outputs": [
    {
     "data": {
      "text/plain": [
       "tensor([[-1., -1.],\n",
       "        [ 1.,  1.]])"
      ]
     },
     "execution_count": 5,
     "metadata": {},
     "output_type": "execute_result"
    }
   ],
   "source": [
    "input.M"
   ]
  },
  {
   "cell_type": "code",
   "execution_count": 6,
   "metadata": {},
   "outputs": [
    {
     "data": {
      "text/plain": [
       "{<Kinds.IVS: 0>: [True, False],\n",
       " <Kinds.ICS: 1>: [False, False],\n",
       " <Kinds.R: 2>: [False, True]}"
      ]
     },
     "execution_count": 6,
     "metadata": {},
     "output_type": "execute_result"
    }
   ],
   "source": [
    "input.kinds_map"
   ]
  },
  {
   "cell_type": "code",
   "execution_count": 7,
   "metadata": {},
   "outputs": [
    {
     "data": {
      "text/plain": [
       "{<Props.I: 0>: [True, False],\n",
       " <Props.V: 1>: [True, False],\n",
       " <Props.Attr: 2>: [True, False]}"
      ]
     },
     "execution_count": 7,
     "metadata": {},
     "output_type": "execute_result"
    }
   ],
   "source": [
    "input.knowns_map"
   ]
  },
  {
   "cell_type": "code",
   "execution_count": 8,
   "metadata": {},
   "outputs": [
    {
     "data": {
      "text/plain": [
       "{<Props.I: 0>: [-1.0, 0.8381185745493608],\n",
       " <Props.V: 1>: [1.0, 0.5157238488483558],\n",
       " <Props.Attr: 2>: [1.0, 0.5178581700417973]}"
      ]
     },
     "execution_count": 8,
     "metadata": {},
     "output_type": "execute_result"
    }
   ],
   "source": [
    "input.inputs_map"
   ]
  },
  {
   "cell_type": "code",
   "execution_count": 9,
   "metadata": {},
   "outputs": [
    {
     "data": {
      "text/plain": [
       "(Parameter containing:\n",
       " tensor([[-1.0000],\n",
       "         [ 0.8381]], requires_grad=True),\n",
       " Parameter containing:\n",
       " tensor([[1.0000],\n",
       "         [0.5157]], requires_grad=True),\n",
       " Parameter containing:\n",
       " tensor([[0.1521],\n",
       "         [0.5118]], requires_grad=True),\n",
       " Parameter containing:\n",
       " tensor([[1.0000],\n",
       "         [0.5179]], requires_grad=True))"
      ]
     },
     "execution_count": 9,
     "metadata": {},
     "output_type": "execute_result"
    }
   ],
   "source": [
    "input.init_params()"
   ]
  },
  {
   "attachments": {},
   "cell_type": "markdown",
   "metadata": {},
   "source": [
    "# Training"
   ]
  },
  {
   "cell_type": "code",
   "execution_count": 10,
   "metadata": {},
   "outputs": [
    {
     "name": "stdout",
     "output_type": "stream",
     "text": [
      "init params: (Parameter containing:\n",
      "tensor([[-1.0000],\n",
      "        [ 0.9381]], requires_grad=True), tensor([[1.0000],\n",
      "        [0.5157]]), tensor([[0.3622],\n",
      "        [0.9998]]), tensor([[1.0000],\n",
      "        [0.5179]]))\n",
      "init state 0 loss: 0.026205603033304214\n",
      "Done! at 2 passes\n",
      "current = Parameter containing:\n",
      "tensor([[-1.0000],\n",
      "        [ 1.0000]], requires_grad=True)\n",
      "voltage = tensor([[1.0000],\n",
      "        [1.0000]])\n",
      "potential = tensor([[0.1810],\n",
      "        [1.1810]])\n",
      "attributes = tensor([[1.0000],\n",
      "        [1.0000]])\n"
     ]
    }
   ],
   "source": [
    "num_epochs = 100\n",
    "threshhold = 0.1\n",
    "state = 0\n",
    "max_state = 2\n",
    "prev_loss = 0.1\n",
    "params_glob = input.init_params()\n",
    "init_model = mdl.KCL(input,params_glob).to(device)\n",
    "init_opt = torch.optim.Adam(params=init_model.parameters(),lr=0.1)\n",
    "loss, params_glob = lrn.train(init_model,init_opt,nn.MSELoss())\n",
    "print(f'init params: {params_glob}')\n",
    "print(f'init state {state} loss: {loss.item()}')\n",
    "epoch = 0\n",
    "\n",
    "while(epoch < num_epochs):\n",
    "    if  (state == 0):\n",
    "        loss,state = lrn.process_state(params_glob,input,mdl.KCL,state,\n",
    "                                              max_state=max_state,device=device,\n",
    "                                              threshold = threshhold)\n",
    "    elif(state == 1):\n",
    "        loss,state = lrn.process_state(params_glob,input,mdl.KVL,state,\n",
    "                                              max_state=max_state,device=device,\n",
    "                                              threshold = threshhold)\n",
    "    elif(state == 2):\n",
    "        loss,state = lrn.process_state(params_glob,input,mdl.Full,state,\n",
    "                                              max_state=max_state,device=device,\n",
    "                                              threshold = threshhold)\n",
    "        threshhold /= 10\n",
    "        if(loss < 1e-3):\n",
    "            break\n",
    "    else:\n",
    "        assert()\n",
    "\n",
    "    epoch += 1\n",
    "    loss_change = abs(loss - prev_loss) / prev_loss\n",
    "    prev_loss = loss\n",
    "\n",
    "print(f'Done! at {epoch} passes')\n",
    "print(f\"current = {params_glob[0]}\")\n",
    "print(f\"voltage = {params_glob[1]}\")\n",
    "print(f\"potential = {params_glob[2]}\")\n",
    "print(f\"attributes = {params_glob[3]}\")"
   ]
  },
  {
   "cell_type": "markdown",
   "metadata": {},
   "source": []
  }
 ],
 "metadata": {
  "kernelspec": {
   "display_name": "ml",
   "language": "python",
   "name": "python3"
  },
  "language_info": {
   "codemirror_mode": {
    "name": "ipython",
    "version": 3
   },
   "file_extension": ".py",
   "mimetype": "text/x-python",
   "name": "python",
   "nbconvert_exporter": "python",
   "pygments_lexer": "ipython3",
   "version": "3.10.8"
  },
  "orig_nbformat": 4,
  "vscode": {
   "interpreter": {
    "hash": "3217f10b4e7366dd1a6cbf73464f125221bf8686d6dfc23b58c931b1c5e4bd4d"
   }
  }
 },
 "nbformat": 4,
 "nbformat_minor": 2
}

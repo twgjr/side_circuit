{
 "cells": [
  {
   "cell_type": "code",
   "execution_count": 1,
   "metadata": {},
   "outputs": [],
   "source": [
    "import numpy as np\n",
    "import torch\n",
    "from torch import nn\n",
    "import networkx as nx"
   ]
  },
  {
   "cell_type": "code",
   "execution_count": 2,
   "metadata": {},
   "outputs": [
    {
     "name": "stdout",
     "output_type": "stream",
     "text": [
      "Using cuda device\n"
     ]
    }
   ],
   "source": [
    "# Get cpu or gpu device for training.\n",
    "device = \"cuda\" if torch.cuda.is_available() else \"cpu\"\n",
    "print(f\"Using {device} device\")"
   ]
  },
  {
   "attachments": {},
   "cell_type": "markdown",
   "metadata": {},
   "source": [
    "# Generate Input Data for a Simple Circuit\n",
    "Circuit is an independent voltage source and a resistor."
   ]
  },
  {
   "cell_type": "code",
   "execution_count": 3,
   "metadata": {},
   "outputs": [
    {
     "name": "stdout",
     "output_type": "stream",
     "text": [
      "MultiGraph with 3 nodes and 3 edges\n",
      "(0, {'type': 'n', 'v': 0})\n",
      "(1, {'type': 'n', 'v': ''})\n",
      "(2, {'type': 'n', 'v': ''})\n",
      "(0, 1, {'type': 's', 'v': 1, 'i': '', 'p': 1})\n",
      "(0, 2, {'type': 'r', 'v': 0.5, 'i': '', 'p': ''})\n",
      "(1, 2, {'type': 'r', 'v': '', 'i': '', 'p': 10})\n"
     ]
    },
    {
     "data": {
      "image/png": "[encoded data removed]",
      "text/plain": [
       "<Figure size 640x480 with 1 Axes>"
      ]
     },
     "metadata": {},
     "output_type": "display_data"
    }
   ],
   "source": [
    "vr = nx.MultiGraph()\n",
    "vr.add_node(0,type='n',v=0)\n",
    "vr.add_node(1,type='n',v='')\n",
    "vr.add_node(2,type='n',v='')\n",
    "vr.add_edges_from(\n",
    "        [\n",
    "            (0,1,{'type':'s','v':1,'i':'','p':1}),\n",
    "            (2,1,{'type':'r','v':'','i':'','p':10}),\n",
    "            (2,0,{'type':'r','v':0.5,'i':'','p':''})\n",
    "        ]\n",
    "    )\n",
    "print(vr)\n",
    "for node in vr.nodes().data():\n",
    "    print(node)\n",
    "for edge in vr.edges.data():\n",
    "    print(edge)\n",
    "nx.draw(vr)"
   ]
  },
  {
   "attachments": {},
   "cell_type": "markdown",
   "metadata": {},
   "source": [
    "# Indidence Matrix (KCL loss)"
   ]
  },
  {
   "cell_type": "code",
   "execution_count": 4,
   "metadata": {},
   "outputs": [
    {
     "name": "stdout",
     "output_type": "stream",
     "text": [
      "shape of incidence array = (3, 3)\n",
      "[[-1. -1.  0.]\n",
      " [ 1.  0. -1.]\n",
      " [ 0.  1.  1.]]\n"
     ]
    },
    {
     "name": "stderr",
     "output_type": "stream",
     "text": [
      "C:\\Users\\terry\\AppData\\Local\\Temp\\ipykernel_8368\\1758355496.py:2: FutureWarning: incidence_matrix will return a scipy.sparse array instead of a matrix in Networkx 3.0.\n",
      "  M_tensor = nx.incidence_matrix(G=vr,oriented=True)\n"
     ]
    }
   ],
   "source": [
    "# generate the incidence matrix and convert to numpy array, then pytorch tensor\n",
    "M_tensor = nx.incidence_matrix(G=vr,oriented=True)\n",
    "M_tensor = M_tensor.toarray()\n",
    "print(f'shape of incidence array = {M_tensor.shape}')\n",
    "print(M_tensor)\n"
   ]
  },
  {
   "attachments": {},
   "cell_type": "markdown",
   "metadata": {},
   "source": [
    "# Expected Sizes of Vectors"
   ]
  },
  {
   "cell_type": "code",
   "execution_count": 5,
   "metadata": {},
   "outputs": [
    {
     "name": "stdout",
     "output_type": "stream",
     "text": [
      "size of element currents, voltages, and params = (3,1)\n",
      "size of node voltages = (3,1)\n"
     ]
    }
   ],
   "source": [
    "# create tensors for voltages, currents, and element params\n",
    "num_elements = vr.number_of_edges()\n",
    "num_nodes = vr.number_of_nodes()\n",
    "print(f'size of element currents, voltages, and params = ({num_elements},1)')\n",
    "print(f'size of node voltages = ({num_nodes},1)')\n",
    "\n"
   ]
  },
  {
   "attachments": {},
   "cell_type": "markdown",
   "metadata": {},
   "source": [
    "# Extract Circuit Parameters for the Model"
   ]
  },
  {
   "cell_type": "code",
   "execution_count": 6,
   "metadata": {},
   "outputs": [],
   "source": [
    "def extract(nx_list: list, params_order_map: dict, types_map: dict):\n",
    "    '''\n",
    "    input: node or edge list with data from nx graph. Key order is a list of maps \n",
    "    from the parameter key to the desired order in the ouput vectors [{str:int}]\n",
    "\n",
    "    output:  two matrices. \n",
    "                params matrix rows are each edge/node of graph.  Columns are\n",
    "                    each param value corresponding to key order\n",
    "                knowns matrix rows are each edge/node of graph.  Columns are \n",
    "                    boolean of if the param value is known\n",
    "    '''\n",
    "    param_matrix = []\n",
    "    knowns_matrix = []\n",
    "    type_matrix = []\n",
    "    num_params = len(next(iter(nx_list))[-1])-1\n",
    "    num_types = len(types_map)\n",
    "    print(f'len(key_order_map) = num_params => {len(params_order_map)}, {num_params}' )\n",
    "    assert(len(params_order_map) == num_params)\n",
    "    for item in nx_list: # each edge or node\n",
    "        last_element: dict = item[-1]\n",
    "        type_oh = [0]*(num_types) # one-hot encoding\n",
    "        values = [0]*(num_params)\n",
    "        knowns_oh = [0]*(num_params) # one-hot encoding\n",
    "        for parameter,value in last_element.items():\n",
    "            if(parameter == 'type'):\n",
    "                type_idx = types_map[value]\n",
    "                type_oh[type_idx] = 1\n",
    "                continue\n",
    "            \n",
    "            idx = params_order_map[parameter]\n",
    "            if(value==''):\n",
    "                values[idx] = 0.0\n",
    "                knowns_oh[idx] = 0\n",
    "            else:\n",
    "                values[idx] = float(value)\n",
    "                knowns_oh[idx] = 1\n",
    "        param_matrix.append(values)\n",
    "        knowns_matrix.append(knowns_oh)\n",
    "        type_matrix.append(type_oh)\n",
    "\n",
    "    param_matrix = np.array(param_matrix)\n",
    "    knowns_matrix = np.array(knowns_matrix)\n",
    "    type_matrix = np.array(type_matrix)\n",
    "        \n",
    "    return (type_matrix, param_matrix, knowns_matrix)\n"
   ]
  },
  {
   "cell_type": "code",
   "execution_count": 7,
   "metadata": {},
   "outputs": [
    {
     "name": "stdout",
     "output_type": "stream",
     "text": [
      "len(key_order_map) = num_params => 1, 1\n"
     ]
    },
    {
     "data": {
      "text/plain": [
       "(array([[1, 0, 0],\n",
       "        [1, 0, 0],\n",
       "        [1, 0, 0]]),\n",
       " array([[0.],\n",
       "        [0.],\n",
       "        [0.]]),\n",
       " array([[1],\n",
       "        [0],\n",
       "        [0]]))"
      ]
     },
     "execution_count": 7,
     "metadata": {},
     "output_type": "execute_result"
    }
   ],
   "source": [
    "\n",
    "node_map = {'v':0}\n",
    "types_map = {'n':0,'s':1, 'r':2}\n",
    "node_types, node_params, node_knowns = extract(vr.nodes().data(), node_map, types_map)\n",
    "node_types, node_params, node_knowns"
   ]
  },
  {
   "cell_type": "code",
   "execution_count": 8,
   "metadata": {},
   "outputs": [
    {
     "name": "stdout",
     "output_type": "stream",
     "text": [
      "len(key_order_map) = num_params => 3, 3\n"
     ]
    },
    {
     "data": {
      "text/plain": [
       "(array([[0, 1, 0],\n",
       "        [0, 0, 1],\n",
       "        [0, 0, 1]]),\n",
       " array([[ 1. ,  0. ,  1. ],\n",
       "        [ 0.5,  0. ,  0. ],\n",
       "        [ 0. ,  0. , 10. ]]),\n",
       " array([[1, 0, 1],\n",
       "        [1, 0, 0],\n",
       "        [0, 0, 1]]))"
      ]
     },
     "execution_count": 8,
     "metadata": {},
     "output_type": "execute_result"
    }
   ],
   "source": [
    "edge_map = {'v':0, 'i':1, 'p':2}\n",
    "element_types, element_params, element_knowns = extract(vr.edges.data(), edge_map, types_map)\n",
    "element_types, element_params, element_knowns"
   ]
  },
  {
   "attachments": {},
   "cell_type": "markdown",
   "metadata": {},
   "source": [
    "# Convert Input Data to Tensors"
   ]
  },
  {
   "cell_type": "code",
   "execution_count": 9,
   "metadata": {},
   "outputs": [],
   "source": [
    "pot_vector = node_params[:,0].reshape(num_nodes,1)\n",
    "v_vector = element_params[:,edge_map['v']].reshape(num_elements,1)\n",
    "i_vector = element_params[:,edge_map['i']].reshape(num_elements,1)\n",
    "param_vector = element_params[:,edge_map['p']].reshape(num_elements,1)"
   ]
  },
  {
   "cell_type": "code",
   "execution_count": 10,
   "metadata": {},
   "outputs": [
    {
     "data": {
      "text/plain": [
       "(tensor([[0.],\n",
       "         [0.],\n",
       "         [0.]], device='cuda:0', dtype=torch.float64),\n",
       " tensor([[1.0000],\n",
       "         [0.5000],\n",
       "         [0.0000]], device='cuda:0', dtype=torch.float64),\n",
       " tensor([[0.],\n",
       "         [0.],\n",
       "         [0.]], device='cuda:0', dtype=torch.float64),\n",
       " tensor([[ 1.],\n",
       "         [ 0.],\n",
       "         [10.]], device='cuda:0', dtype=torch.float64))"
      ]
     },
     "execution_count": 10,
     "metadata": {},
     "output_type": "execute_result"
    }
   ],
   "source": [
    "pot_tensor = torch.tensor(pot_vector,requires_grad=False,dtype=torch.double,device=device)\n",
    "v_tensor = torch.tensor(v_vector,requires_grad=False,dtype=torch.double,device=device)\n",
    "i_tensor = torch.tensor(i_vector,requires_grad=False,dtype=torch.double,device=device)\n",
    "param_tensor = torch.tensor(param_vector,requires_grad=False,dtype=torch.double,device=device)\n",
    "pot_tensor,v_tensor,i_tensor,param_tensor"
   ]
  },
  {
   "attachments": {},
   "cell_type": "markdown",
   "metadata": {},
   "source": [
    "# Masks"
   ]
  },
  {
   "cell_type": "code",
   "execution_count": 11,
   "metadata": {},
   "outputs": [
    {
     "data": {
      "text/plain": [
       "(tensor([[ True],\n",
       "         [False],\n",
       "         [False]], device='cuda:0'),\n",
       " tensor([[ True],\n",
       "         [ True],\n",
       "         [False]], device='cuda:0'),\n",
       " tensor([[False],\n",
       "         [False],\n",
       "         [False]], device='cuda:0'),\n",
       " tensor([[ True],\n",
       "         [False],\n",
       "         [ True]], device='cuda:0'))"
      ]
     },
     "execution_count": 11,
     "metadata": {},
     "output_type": "execute_result"
    }
   ],
   "source": [
    "# knowns masks\n",
    "pot_mask = node_knowns\n",
    "v_mask = element_knowns[:,edge_map['v']].reshape(num_elements,1)\n",
    "i_mask = element_knowns[:,edge_map['i']].reshape(num_elements,1)\n",
    "param_mask = element_knowns[:,edge_map['p']].reshape(num_elements,1)\n",
    "\n",
    "pot_mask = torch.tensor(pot_mask,dtype=bool, requires_grad=False,device=device)\n",
    "v_mask = torch.tensor(v_mask,dtype=bool,requires_grad=False,device=device)\n",
    "i_mask = torch.tensor(i_mask,dtype=bool,requires_grad=False,device=device)\n",
    "param_mask = torch.tensor(param_mask,dtype=bool,requires_grad=False,device=device)\n",
    "\n",
    "pot_mask, v_mask, i_mask, param_mask"
   ]
  },
  {
   "cell_type": "code",
   "execution_count": 12,
   "metadata": {},
   "outputs": [
    {
     "data": {
      "text/plain": [
       "(tensor([[False],\n",
       "         [ True],\n",
       "         [ True]], device='cuda:0'),\n",
       " tensor([[False],\n",
       "         [False],\n",
       "         [ True]], device='cuda:0'),\n",
       " tensor([[True],\n",
       "         [True],\n",
       "         [True]], device='cuda:0'),\n",
       " tensor([[False],\n",
       "         [ True],\n",
       "         [False]], device='cuda:0'))"
      ]
     },
     "execution_count": 12,
     "metadata": {},
     "output_type": "execute_result"
    }
   ],
   "source": [
    "# inverted knowns masks\n",
    "pot_mask_inv = ~pot_mask\n",
    "v_mask_inv = ~v_mask\n",
    "i_mask_inv = ~i_mask\n",
    "param_mask_inv = ~param_mask\n",
    "\n",
    "pot_mask_inv, v_mask_inv, i_mask_inv, param_mask_inv"
   ]
  },
  {
   "cell_type": "code",
   "execution_count": 13,
   "metadata": {},
   "outputs": [
    {
     "data": {
      "text/plain": [
       "tensor([0.], device='cuda:0', dtype=torch.float64)"
      ]
     },
     "execution_count": 13,
     "metadata": {},
     "output_type": "execute_result"
    }
   ],
   "source": [
    "param_tensor[param_mask_inv]"
   ]
  },
  {
   "cell_type": "code",
   "execution_count": 14,
   "metadata": {},
   "outputs": [
    {
     "data": {
      "text/plain": [
       "tensor([[0.],\n",
       "        [1.],\n",
       "        [1.]], device='cuda:0', dtype=torch.float64)"
      ]
     },
     "execution_count": 14,
     "metadata": {},
     "output_type": "execute_result"
    }
   ],
   "source": [
    "# resistor device equation\n",
    "resistor_mask = torch.tensor(element_types[:,types_map['r']],requires_grad=False,dtype=torch.double,device=device)\n",
    "resistor_mask = resistor_mask.reshape(num_elements,1)\n",
    "resistor_mask"
   ]
  },
  {
   "cell_type": "code",
   "execution_count": 15,
   "metadata": {},
   "outputs": [
    {
     "data": {
      "text/plain": [
       "tensor([[1.],\n",
       "        [0.],\n",
       "        [0.]], device='cuda:0', dtype=torch.float64)"
      ]
     },
     "execution_count": 15,
     "metadata": {},
     "output_type": "execute_result"
    }
   ],
   "source": [
    "# source device equation\n",
    "source_mask = torch.tensor(element_types[:,types_map['s']],requires_grad=False,dtype=torch.double,device=device)\n",
    "source_mask = source_mask.reshape(num_elements,1)\n",
    "source_mask"
   ]
  },
  {
   "cell_type": "code",
   "execution_count": 16,
   "metadata": {},
   "outputs": [
    {
     "data": {
      "text/plain": [
       "tensor([[-1.0000],\n",
       "        [-0.5000],\n",
       "        [ 0.0000]], device='cuda:0', dtype=torch.float64)"
      ]
     },
     "execution_count": 16,
     "metadata": {},
     "output_type": "execute_result"
    }
   ],
   "source": [
    "resistor_func = i_tensor * param_tensor - v_tensor\n",
    "resistor_func"
   ]
  },
  {
   "cell_type": "code",
   "execution_count": 17,
   "metadata": {},
   "outputs": [
    {
     "data": {
      "text/plain": [
       "tensor([[-0.0000],\n",
       "        [-0.5000],\n",
       "        [ 0.0000]], device='cuda:0', dtype=torch.float64)"
      ]
     },
     "execution_count": 17,
     "metadata": {},
     "output_type": "execute_result"
    }
   ],
   "source": [
    "masked_resistor = resistor_func * resistor_mask\n",
    "masked_resistor"
   ]
  },
  {
   "cell_type": "code",
   "execution_count": 18,
   "metadata": {},
   "outputs": [
    {
     "data": {
      "text/plain": [
       "tensor([[-1.0000],\n",
       "        [-0.5000],\n",
       "        [ 0.0000]], device='cuda:0', dtype=torch.float64)"
      ]
     },
     "execution_count": 18,
     "metadata": {},
     "output_type": "execute_result"
    }
   ],
   "source": [
    "i_tensor * param_tensor - v_tensor"
   ]
  },
  {
   "attachments": {},
   "cell_type": "markdown",
   "metadata": {},
   "source": [
    "# Circuit Theory Functions"
   ]
  },
  {
   "cell_type": "code",
   "execution_count": 19,
   "metadata": {},
   "outputs": [
    {
     "data": {
      "text/plain": [
       "tensor([[-1., -1.,  0.],\n",
       "        [ 1.,  0., -1.],\n",
       "        [ 0.,  1.,  1.]], device='cuda:0', dtype=torch.float64,\n",
       "       requires_grad=True)"
      ]
     },
     "execution_count": 19,
     "metadata": {},
     "output_type": "execute_result"
    }
   ],
   "source": [
    "M_tensor = torch.tensor(M_tensor,requires_grad=True,dtype=torch.double,device=device)\n",
    "M_tensor"
   ]
  },
  {
   "attachments": {},
   "cell_type": "markdown",
   "metadata": {},
   "source": [
    "# Models"
   ]
  },
  {
   "cell_type": "code",
   "execution_count": 20,
   "metadata": {},
   "outputs": [],
   "source": [
    "class KCL(nn.Module):\n",
    "    def __init__(self):\n",
    "        super().__init__()\n",
    "\n",
    "    def forward(self, M_tensor, i_tensor):\n",
    "        return M_tensor @ i_tensor"
   ]
  },
  {
   "cell_type": "code",
   "execution_count": 21,
   "metadata": {},
   "outputs": [],
   "source": [
    "class KVL(nn.Module):\n",
    "    def __init__(self):\n",
    "        super().__init__()\n",
    "\n",
    "    def forward(self, M_tensor, v_tensor, pot_tensor):\n",
    "        return M_tensor.T @ pot_tensor - v_tensor"
   ]
  },
  {
   "cell_type": "code",
   "execution_count": 22,
   "metadata": {},
   "outputs": [],
   "source": [
    "class Resistor(nn.Module):\n",
    "    def __init__(self):\n",
    "        super().__init__()\n",
    "\n",
    "    def forward(self, i_tensor, v_tensor, param_tensor, resistor_mask):\n",
    "        # zero out non-resistors\n",
    "        resistor_func = i_tensor * param_tensor - v_tensor\n",
    "        masked_resistor = resistor_func * resistor_mask\n",
    "        return masked_resistor"
   ]
  },
  {
   "cell_type": "code",
   "execution_count": 23,
   "metadata": {},
   "outputs": [],
   "source": [
    "class Source(nn.Module):\n",
    "    def __init__(self):\n",
    "        super().__init__()\n",
    "\n",
    "    def forward(self, v_tensor, param_tensor, source_mask):\n",
    "        # zero out non-sources\n",
    "        source_func = v_tensor - param_tensor\n",
    "        masked_resistor = resistor_func * source_mask\n",
    "        return masked_resistor"
   ]
  },
  {
   "cell_type": "code",
   "execution_count": 24,
   "metadata": {},
   "outputs": [
    {
     "name": "stdout",
     "output_type": "stream",
     "text": [
      "Solver(\n",
      "  (kcl): KCL()\n",
      "  (kvl): KVL()\n",
      "  (resistor): Resistor()\n",
      "  (source): Source()\n",
      ")\n"
     ]
    }
   ],
   "source": [
    "# Define model\n",
    "class Solver(nn.Module):\n",
    "    def __init__(self):\n",
    "        super().__init__()\n",
    "        # inputs with randomized unknowns\n",
    "        self.M = M_tensor # no unknowns\n",
    "        self.pot = nn.Parameter(pot_tensor + torch.rand_like(pot_tensor) * pot_mask_inv)\n",
    "        self.v = nn.Parameter(v_tensor + torch.rand_like(v_tensor) * v_mask_inv)\n",
    "        self.i = nn.Parameter(i_tensor + torch.rand_like(i_tensor) * i_mask_inv)\n",
    "        self.param = nn.Parameter(param_tensor + torch.rand_like(param_tensor) * param_mask_inv)\n",
    "\n",
    "        # declare custom layers\n",
    "        self.kcl = KCL()\n",
    "        self.kvl = KVL()\n",
    "        self.resistor = Resistor()\n",
    "        self.source = Source()\n",
    "\n",
    "    def forward(self): # no \"x\" or other inputs because no inference mode\n",
    "        resistor_out = self.resistor(self.i, self.v, self.param,\n",
    "                                         resistor_mask) # @TODO replace with dyanamic element function\n",
    "        source_out = self.source(self.v, self.param, source_mask)\n",
    "        kvl_out = self.kvl(self.M, self.v, self.pot)\n",
    "        kcl_out = self.kcl(self.M, self.i)\n",
    "\n",
    "        return torch.cat(tensors=(kcl_out, resistor_out, kvl_out, source_out))\n",
    "\n",
    "model = Solver().to(device)\n",
    "print(model)"
   ]
  },
  {
   "attachments": {},
   "cell_type": "markdown",
   "metadata": {},
   "source": [
    "# Loss"
   ]
  },
  {
   "cell_type": "code",
   "execution_count": 25,
   "metadata": {},
   "outputs": [],
   "source": [
    "loss_fn = nn.MSELoss()"
   ]
  },
  {
   "attachments": {},
   "cell_type": "markdown",
   "metadata": {},
   "source": [
    "# Optimizer"
   ]
  },
  {
   "cell_type": "code",
   "execution_count": 26,
   "metadata": {},
   "outputs": [
    {
     "data": {
      "text/plain": [
       "(tensor([0.3651, 0.1543], device='cuda:0', dtype=torch.float64,\n",
       "        grad_fn=<IndexBackward0>),\n",
       " tensor([0.4989], device='cuda:0', dtype=torch.float64,\n",
       "        grad_fn=<IndexBackward0>),\n",
       " tensor([0.0387, 0.9559, 0.9532], device='cuda:0', dtype=torch.float64,\n",
       "        grad_fn=<IndexBackward0>),\n",
       " tensor([0.3059], device='cuda:0', dtype=torch.float64,\n",
       "        grad_fn=<IndexBackward0>),\n",
       " tensor([0.3651, 0.1543, 0.4989, 0.0387, 0.9559, 0.9532, 0.3059],\n",
       "        device='cuda:0', dtype=torch.float64, grad_fn=<CatBackward0>))"
      ]
     },
     "execution_count": 26,
     "metadata": {},
     "output_type": "execute_result"
    }
   ],
   "source": [
    "# select the unknowns for optimization\n",
    "pot_opt = model.pot[pot_mask_inv]\n",
    "v_opt = model.v[v_mask_inv]\n",
    "i_opt = model.i[i_mask_inv]\n",
    "param_opt = model.param[param_mask_inv]\n",
    "opt_params_cat = torch.cat((pot_opt,v_opt,i_opt,param_opt))\n",
    "pot_opt,v_opt,i_opt,param_opt,opt_params_cat"
   ]
  },
  {
   "cell_type": "code",
   "execution_count": 27,
   "metadata": {},
   "outputs": [],
   "source": [
    "optimizer = torch.optim.Adam(params=model.parameters(),lr=0.01)"
   ]
  },
  {
   "attachments": {},
   "cell_type": "markdown",
   "metadata": {},
   "source": [
    "# Train Function"
   ]
  },
  {
   "cell_type": "code",
   "execution_count": null,
   "metadata": {},
   "outputs": [],
   "source": [
    "def get_errors():\n",
    "    pass"
   ]
  },
  {
   "cell_type": "code",
   "execution_count": null,
   "metadata": {},
   "outputs": [],
   "source": [
    "def apply_errors():\n",
    "    \n",
    "    pass"
   ]
  },
  {
   "cell_type": "code",
   "execution_count": 28,
   "metadata": {},
   "outputs": [],
   "source": [
    "def train(model, loss_fn, optimizer):\n",
    "    model.train()\n",
    "    \n",
    "    # Compute prediction error\n",
    "    pred = model() # model takes no inputs\n",
    "    loss = loss_fn(pred, torch.zeros_like(pred))\n",
    "\n",
    "    # zero out the cached set of gradients\n",
    "    optimizer.zero_grad()\n",
    "\n",
    "    # Backpropagation to produce gradients\n",
    "    loss.backward()\n",
    "\n",
    "    # zero out the gradients for knowns before stepping optimizer\n",
    "    model.pot.grad[pot_mask] = 0\n",
    "    model.v.grad[v_mask] = 0\n",
    "    model.i.grad[i_mask] = 0\n",
    "    model.param.grad[param_mask] = 0\n",
    "\n",
    "    # update the model parameters with gradients\n",
    "    optimizer.step()\n",
    "\n",
    "    # adjusting parameters with heuristics\n",
    "    with torch.no_grad():\n",
    "        # clipping parameters (e.g. resistance greater than zero)\n",
    "        torch.nn.functional.relu(model.param, inplace=True)\n",
    "        # perform correction (calculate errors, diffuse and update)\n",
    "\n",
    "    return loss"
   ]
  },
  {
   "attachments": {},
   "cell_type": "markdown",
   "metadata": {},
   "source": [
    "# Test Function "
   ]
  },
  {
   "attachments": {},
   "cell_type": "markdown",
   "metadata": {},
   "source": [
    "No inference therefore no testing!"
   ]
  },
  {
   "attachments": {},
   "cell_type": "markdown",
   "metadata": {},
   "source": [
    "# Run Train Loop"
   ]
  },
  {
   "cell_type": "code",
   "execution_count": 29,
   "metadata": {},
   "outputs": [
    {
     "name": "stdout",
     "output_type": "stream",
     "text": [
      "epoch 0 loss = 7.427595231751924 (73.27595231751924 per unit change)\n",
      "epoch 1000 loss = 0.08751732393875289 (0.00024226360357883196 per unit change)\n",
      "epoch 2000 loss = 0.08359953079107316 (2.20897627112182e-06 per unit change)\n",
      "epoch 3000 loss = 0.08347222223027106 (1.0721886185578871e-06 per unit change)\n",
      "epoch 4000 loss = 0.08340552423254952 (5.811375188700318e-07 per unit change)\n",
      "epoch 5000 loss = 0.08336911373781597 (3.1790872047257486e-07 per unit change)\n",
      "epoch 6000 loss = 0.08334948778643932 (1.6821245033276604e-07 per unit change)\n",
      "epoch 7000 loss = 0.083339607554477 (7.942757593104007e-08 per unit change)\n",
      "epoch 8000 loss = 0.08333527993122032 (3.171046109452233e-08 per unit change)\n",
      "epoch 9000 loss = 0.08333376543671696 (9.656627958613554e-09 per unit change)\n",
      "Done!\n",
      "potentials = Parameter containing:\n",
      "tensor([[0.0000],\n",
      "        [1.0016],\n",
      "        [0.4994]], device='cuda:0', dtype=torch.float64, requires_grad=True)\n",
      "voltages = Parameter containing:\n",
      "tensor([[ 1.0000],\n",
      "        [ 0.5000],\n",
      "        [-0.5003]], device='cuda:0', dtype=torch.float64, requires_grad=True)\n",
      "currents = Parameter containing:\n",
      "tensor([[-0.0503],\n",
      "        [ 0.0508],\n",
      "        [-0.0500]], device='cuda:0', dtype=torch.float64, requires_grad=True)\n",
      "parameters = Parameter containing:\n",
      "tensor([[ 1.0000],\n",
      "        [ 9.8554],\n",
      "        [10.0000]], device='cuda:0', dtype=torch.float64, requires_grad=True)\n"
     ]
    }
   ],
   "source": [
    "epochs = 10000\n",
    "\n",
    "loss = 0\n",
    "prev_loss = 0.1\n",
    "\n",
    "for t in range(epochs):\n",
    "    loss = train(model, loss_fn, optimizer)\n",
    "    loss_change = abs(loss - prev_loss) / prev_loss\n",
    "\n",
    "    prev_loss = loss\n",
    "\n",
    "    if t % 1000 == 0:\n",
    "        print(f'epoch {t} loss = {loss} ({loss_change} per unit change)')\n",
    "\n",
    "    if loss_change < 0.00000000001:\n",
    "        print(f'finished early for loss threshold with {t} epochs')\n",
    "        break\n",
    "\n",
    "print(\"Done!\")\n",
    "print(f'potentials = {model.pot}')\n",
    "print(f'voltages = {model.v}')\n",
    "print(f'currents = {model.i}')\n",
    "print(f'parameters = {model.param}')"
   ]
  },
  {
   "cell_type": "code",
   "execution_count": null,
   "metadata": {},
   "outputs": [],
   "source": []
  }
 ],
 "metadata": {
  "kernelspec": {
   "display_name": "ml",
   "language": "python",
   "name": "python3"
  },
  "language_info": {
   "codemirror_mode": {
    "name": "ipython",
    "version": 3
   },
   "file_extension": ".py",
   "mimetype": "text/x-python",
   "name": "python",
   "nbconvert_exporter": "python",
   "pygments_lexer": "ipython3",
   "version": "3.10.8"
  },
  "orig_nbformat": 4,
  "vscode": {
   "interpreter": {
    "hash": "3217f10b4e7366dd1a6cbf73464f125221bf8686d6dfc23b58c931b1c5e4bd4d"
   }
  }
 },
 "nbformat": 4,
 "nbformat_minor": 2
}

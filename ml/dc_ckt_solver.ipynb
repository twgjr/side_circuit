{
 "cells": [
  {
   "cell_type": "code",
   "execution_count": 1,
   "metadata": {},
   "outputs": [],
   "source": [
    "import numpy as np\n",
    "import torch\n",
    "from torch import nn\n",
    "import networkx as nx\n",
    "import copy"
   ]
  },
  {
   "cell_type": "code",
   "execution_count": 2,
   "metadata": {},
   "outputs": [
    {
     "name": "stdout",
     "output_type": "stream",
     "text": [
      "Using cpu device\n"
     ]
    }
   ],
   "source": [
    "# Get cpu or gpu device for training.\n",
    "# device = \"cuda\" if torch.cuda.is_available() else \"cpu\"\n",
    "device = \"cpu\"\n",
    "print(f\"Using {device} device\")"
   ]
  },
  {
   "attachments": {},
   "cell_type": "markdown",
   "metadata": {},
   "source": [
    "# Generate Input Data for a Simple Circuit\n",
    "Circuit is an independent voltage source and a resistor."
   ]
  },
  {
   "cell_type": "code",
   "execution_count": 3,
   "metadata": {},
   "outputs": [
    {
     "name": "stdout",
     "output_type": "stream",
     "text": [
      "MultiDiGraph with 2 nodes and 2 edges\n",
      "(0, {'type': 'n', 'v': 0})\n",
      "(1, {'type': 'n', 'v': ''})\n",
      "(0, 1, {'type': 's', 'v': '', 'i': 1, 'p': ''})\n",
      "(1, 0, {'type': 'r', 'v': '', 'i': '', 'p': 1000})\n"
     ]
    },
    {
     "data": {
      "image/png": "[encoded data removed]",
      "text/plain": [
       "<Figure size 640x480 with 1 Axes>"
      ]
     },
     "metadata": {},
     "output_type": "display_data"
    }
   ],
   "source": [
    "vr = nx.MultiDiGraph()\n",
    "vr.add_node(0,type='n',v=0)\n",
    "vr.add_node(1,type='n',v='')\n",
    "# tail of edge is starting node\n",
    "# head of edge is ending node\n",
    "vr.add_edges_from(\n",
    "        [\n",
    "            (0,1,{'type':'s','v':'','i':1,'p':''}),\n",
    "            (1,0,{'type':'r','v':'','i':'','p':1000}),\n",
    "        ]\n",
    "    )\n",
    "print(vr)\n",
    "for node in vr.nodes().data():\n",
    "    print(node)\n",
    "for edge in vr.edges.data():\n",
    "    print(edge)\n",
    "nx.draw(vr,with_labels = True)"
   ]
  },
  {
   "attachments": {},
   "cell_type": "markdown",
   "metadata": {},
   "source": [
    "# Expected Sizes of Vectors"
   ]
  },
  {
   "cell_type": "code",
   "execution_count": 4,
   "metadata": {},
   "outputs": [
    {
     "name": "stdout",
     "output_type": "stream",
     "text": [
      "size of element currents, voltages, and attr = (2,1)\n",
      "size of node voltages = (2,1)\n"
     ]
    }
   ],
   "source": [
    "# create tensors for voltages, currents, and element attrs\n",
    "num_elements = vr.number_of_edges()\n",
    "num_nodes = vr.number_of_nodes()\n",
    "print(f'size of element currents, voltages, and attr = ({num_elements},1)')\n",
    "print(f'size of node voltages = ({num_nodes},1)')"
   ]
  },
  {
   "attachments": {},
   "cell_type": "markdown",
   "metadata": {},
   "source": [
    "# Extract Circuit inputs for the Model"
   ]
  },
  {
   "cell_type": "code",
   "execution_count": 5,
   "metadata": {},
   "outputs": [],
   "source": [
    "def extract(nx_list: list, attr_order_map: dict, types_map: dict):\n",
    "    '''\n",
    "    input: node or edge list with data from nx graph. Key order is a list of maps \n",
    "    from the attr key to the desired order in the ouput vectors [{str:int}]\n",
    "\n",
    "    output:  two matrices. \n",
    "                attr matrix rows are each edge/node of graph.  Columns are\n",
    "                    each attr value corresponding to key order\n",
    "                knowns matrix rows are each edge/node of graph.  Columns are \n",
    "                    boolean of if the attr value is known\n",
    "    '''\n",
    "    attr_matrix = []\n",
    "    knowns_matrix = []\n",
    "    type_matrix = []\n",
    "    num_attr = len(next(iter(nx_list))[-1])-1\n",
    "    num_types = len(types_map)\n",
    "    print(f'len(key_order_map) = num_attr => {len(attr_order_map)}, {num_attr}' )\n",
    "    assert(len(attr_order_map) == num_attr)\n",
    "    for item in nx_list: # each edge or node\n",
    "        last_element: dict = item[-1]\n",
    "        type_oh = [0]*(num_types) # one-hot encoding\n",
    "        values = [0]*num_attr\n",
    "        knowns_oh = [0]*num_attr # one-hot encoding\n",
    "        for attr,value in last_element.items():\n",
    "            if(attr == 'type'):\n",
    "                type_idx = types_map[value]\n",
    "                type_oh[type_idx] = 1\n",
    "                continue\n",
    "            \n",
    "            idx = attr_order_map[attr]\n",
    "            if(value==''):\n",
    "                values[idx] = 0.0\n",
    "                knowns_oh[idx] = 0\n",
    "            else:\n",
    "                values[idx] = float(value)\n",
    "                knowns_oh[idx] = 1\n",
    "        attr_matrix.append(values)\n",
    "        knowns_matrix.append(knowns_oh)\n",
    "        type_matrix.append(type_oh)\n",
    "\n",
    "    attr_matrix = np.array(attr_matrix)\n",
    "    knowns_matrix = np.array(knowns_matrix)\n",
    "    type_matrix = np.array(type_matrix)\n",
    "        \n",
    "    return (type_matrix, attr_matrix, knowns_matrix)\n"
   ]
  },
  {
   "cell_type": "code",
   "execution_count": 6,
   "metadata": {},
   "outputs": [
    {
     "name": "stdout",
     "output_type": "stream",
     "text": [
      "len(key_order_map) = num_attr => 1, 1\n"
     ]
    },
    {
     "data": {
      "text/plain": [
       "(array([[1, 0, 0],\n",
       "        [1, 0, 0]]),\n",
       " array([[0.],\n",
       "        [0.]]),\n",
       " array([[1],\n",
       "        [0]]))"
      ]
     },
     "execution_count": 6,
     "metadata": {},
     "output_type": "execute_result"
    }
   ],
   "source": [
    "\n",
    "node_attr_order_map = {'v':0}\n",
    "types_map = {'n':0,'s':1, 'r':2}\n",
    "node_types, node_attr, node_knowns = extract(vr.nodes().data(), node_attr_order_map, types_map)\n",
    "node_types, node_attr, node_knowns"
   ]
  },
  {
   "cell_type": "code",
   "execution_count": 7,
   "metadata": {},
   "outputs": [
    {
     "name": "stdout",
     "output_type": "stream",
     "text": [
      "len(key_order_map) = num_attr => 3, 3\n"
     ]
    },
    {
     "data": {
      "text/plain": [
       "(array([[0, 1, 0],\n",
       "        [0, 0, 1]]),\n",
       " array([[   0.,    1.,    0.],\n",
       "        [   0.,    0., 1000.]]),\n",
       " array([[0, 1, 0],\n",
       "        [0, 0, 1]]))"
      ]
     },
     "execution_count": 7,
     "metadata": {},
     "output_type": "execute_result"
    }
   ],
   "source": [
    "edge_attr_order_map = {'v':0, 'i':1, 'p':2}\n",
    "element_types, element_attr, element_knowns = extract(vr.edges.data(), edge_attr_order_map, types_map)\n",
    "element_types, element_attr, element_knowns"
   ]
  },
  {
   "attachments": {},
   "cell_type": "markdown",
   "metadata": {},
   "source": [
    "# Indidence Matrix (KCL loss)"
   ]
  },
  {
   "attachments": {},
   "cell_type": "markdown",
   "metadata": {},
   "source": [
    "Incidence matrix has rows representing nodes and columns representing edges.\n",
    "\n",
    "An edge starting and ending node is determined when the edge is created.\n",
    "Starting node is the \"tail\".  Ending node is the \"head\".  Visualize an arrow \n",
    "from starting node (tail) to ending node (head).\n",
    "\n",
    "Matrix entries represent the head and tail connections:\n",
    "\n",
    "* +1 = head\n",
    "* -1 = tail\n",
    "\n",
    "The solutions to the circuit will need to be transformed to make sense with\n",
    "respect to the original definition of heads and tails."
   ]
  },
  {
   "cell_type": "code",
   "execution_count": 8,
   "metadata": {},
   "outputs": [
    {
     "name": "stdout",
     "output_type": "stream",
     "text": [
      "shape of incidence array = (2, 2)\n",
      "[[-1.  1.]\n",
      " [ 1. -1.]]\n"
     ]
    },
    {
     "name": "stderr",
     "output_type": "stream",
     "text": [
      "C:\\Users\\terry\\AppData\\Local\\Temp\\ipykernel_7188\\2172744076.py:2: FutureWarning: incidence_matrix will return a scipy.sparse array instead of a matrix in Networkx 3.0.\n",
      "  M_tensor = nx.incidence_matrix(G=vr,oriented=True)\n"
     ]
    }
   ],
   "source": [
    "# generate the incidence matrix and convert to numpy array, then pytorch tensor\n",
    "M_tensor = nx.incidence_matrix(G=vr,oriented=True)\n",
    "M_tensor = M_tensor.toarray()\n",
    "print(f'shape of incidence array = {M_tensor.shape}')\n",
    "print(M_tensor)"
   ]
  },
  {
   "attachments": {},
   "cell_type": "markdown",
   "metadata": {},
   "source": [
    "# Convert Input Data to Tensors"
   ]
  },
  {
   "cell_type": "code",
   "execution_count": 9,
   "metadata": {},
   "outputs": [],
   "source": [
    "pot_vector = node_attr[:,0].reshape(num_nodes,1)\n",
    "v_vector = element_attr[:,edge_attr_order_map['v']].reshape(num_elements,1)\n",
    "i_vector = element_attr[:,edge_attr_order_map['i']].reshape(num_elements,1)\n",
    "attr_vector = element_attr[:,edge_attr_order_map['p']].reshape(num_elements,1)"
   ]
  },
  {
   "cell_type": "code",
   "execution_count": 10,
   "metadata": {},
   "outputs": [
    {
     "data": {
      "text/plain": [
       "(tensor([[0.],\n",
       "         [0.]], dtype=torch.float64),\n",
       " tensor([[0.],\n",
       "         [0.]], dtype=torch.float64),\n",
       " tensor([[1.],\n",
       "         [0.]], dtype=torch.float64),\n",
       " tensor([[   0.],\n",
       "         [1000.]], dtype=torch.float64))"
      ]
     },
     "execution_count": 10,
     "metadata": {},
     "output_type": "execute_result"
    }
   ],
   "source": [
    "pot_tensor = torch.tensor(pot_vector,requires_grad=False,dtype=torch.double,device=device)\n",
    "v_tensor = torch.tensor(v_vector,requires_grad=False,dtype=torch.double,device=device)\n",
    "i_tensor = torch.tensor(i_vector,requires_grad=False,dtype=torch.double,device=device)\n",
    "attr_tensor = torch.tensor(attr_vector,requires_grad=False,dtype=torch.double,device=device)\n",
    "states = {}\n",
    "states['pot'] = pot_tensor\n",
    "states['v'] = v_tensor\n",
    "states['i'] = i_tensor\n",
    "states['attr'] = attr_tensor\n",
    "states['pot'],states['v'],states['i'],states['attr']"
   ]
  },
  {
   "attachments": {},
   "cell_type": "markdown",
   "metadata": {},
   "source": [
    "# Masks"
   ]
  },
  {
   "cell_type": "code",
   "execution_count": 11,
   "metadata": {},
   "outputs": [
    {
     "data": {
      "text/plain": [
       "(tensor([[ True],\n",
       "         [False]]),\n",
       " tensor([[False],\n",
       "         [False]]),\n",
       " tensor([[ True],\n",
       "         [False]]),\n",
       " tensor([[False],\n",
       "         [ True]]))"
      ]
     },
     "execution_count": 11,
     "metadata": {},
     "output_type": "execute_result"
    }
   ],
   "source": [
    "# knowns masks\n",
    "pot_mask = node_knowns\n",
    "v_mask = element_knowns[:,edge_attr_order_map['v']].reshape(num_elements,1)\n",
    "i_mask = element_knowns[:,edge_attr_order_map['i']].reshape(num_elements,1)\n",
    "attr_mask = element_knowns[:,edge_attr_order_map['p']].reshape(num_elements,1)\n",
    "\n",
    "pot_mask = torch.tensor(pot_mask,dtype=bool, requires_grad=False,device=device)\n",
    "v_mask = torch.tensor(v_mask,dtype=bool,requires_grad=False,device=device)\n",
    "i_mask = torch.tensor(i_mask,dtype=bool,requires_grad=False,device=device)\n",
    "attr_mask = torch.tensor(attr_mask,dtype=bool,requires_grad=False,device=device)\n",
    "\n",
    "pot_mask, v_mask, i_mask, attr_mask"
   ]
  },
  {
   "cell_type": "code",
   "execution_count": 12,
   "metadata": {},
   "outputs": [
    {
     "data": {
      "text/plain": [
       "(tensor([[False],\n",
       "         [ True]]),\n",
       " tensor([[True],\n",
       "         [True]]),\n",
       " tensor([[False],\n",
       "         [ True]]),\n",
       " tensor([[ True],\n",
       "         [False]]))"
      ]
     },
     "execution_count": 12,
     "metadata": {},
     "output_type": "execute_result"
    }
   ],
   "source": [
    "# inverted knowns masks\n",
    "pot_mask_inv = ~pot_mask\n",
    "v_mask_inv = ~v_mask\n",
    "i_mask_inv = ~i_mask\n",
    "attr_mask_inv = ~attr_mask\n",
    "\n",
    "pot_mask_inv, v_mask_inv, i_mask_inv, attr_mask_inv"
   ]
  },
  {
   "cell_type": "code",
   "execution_count": 13,
   "metadata": {},
   "outputs": [
    {
     "data": {
      "text/plain": [
       "tensor([[False],\n",
       "        [ True]])"
      ]
     },
     "execution_count": 13,
     "metadata": {},
     "output_type": "execute_result"
    }
   ],
   "source": [
    "# resistor device equation\n",
    "resistor_mask = torch.tensor(element_types[:,types_map['r']],requires_grad=False,dtype=torch.bool,device=device)\n",
    "resistor_mask = resistor_mask.reshape(num_elements,1)\n",
    "resistor_mask"
   ]
  },
  {
   "attachments": {},
   "cell_type": "markdown",
   "metadata": {},
   "source": [
    "# Circuit Theory Functions"
   ]
  },
  {
   "cell_type": "code",
   "execution_count": 14,
   "metadata": {},
   "outputs": [
    {
     "data": {
      "text/plain": [
       "tensor([[-1.,  1.],\n",
       "        [ 1., -1.]], dtype=torch.float64, requires_grad=True)"
      ]
     },
     "execution_count": 14,
     "metadata": {},
     "output_type": "execute_result"
    }
   ],
   "source": [
    "M_tensor = torch.tensor(M_tensor,requires_grad=True,dtype=torch.double,device=device)\n",
    "M_tensor"
   ]
  },
  {
   "attachments": {},
   "cell_type": "markdown",
   "metadata": {},
   "source": [
    "# Helper Functions"
   ]
  },
  {
   "cell_type": "code",
   "execution_count": 15,
   "metadata": {},
   "outputs": [],
   "source": [
    "def base(input_tensor):\n",
    "    std_val = torch.std(input_tensor)\n",
    "    if(std_val > 0):\n",
    "        return std_val\n",
    "    else:\n",
    "        return 1"
   ]
  },
  {
   "cell_type": "code",
   "execution_count": 16,
   "metadata": {},
   "outputs": [],
   "source": [
    "def normalize(input_tensor, base):\n",
    "    assert(base > 0)\n",
    "    return input_tensor / base"
   ]
  },
  {
   "cell_type": "code",
   "execution_count": 17,
   "metadata": {},
   "outputs": [],
   "source": [
    "def denormalize(input_tensor, base):\n",
    "    return input_tensor * base"
   ]
  },
  {
   "attachments": {},
   "cell_type": "markdown",
   "metadata": {},
   "source": [
    "# Define Models"
   ]
  },
  {
   "cell_type": "code",
   "execution_count": 18,
   "metadata": {},
   "outputs": [],
   "source": [
    "class KCL(nn.Module):\n",
    "    def __init__(self, M_init, i_init, i_mask):\n",
    "        super().__init__()\n",
    "        # inputs with randomized unknowns\n",
    "        self.M = M_init # no unknowns\n",
    "        self.i, self.i_base = i_init\n",
    "        self.register_parameter('i',self.i)\n",
    "        self.i_mask = i_mask\n",
    "\n",
    "    def forward(self):\n",
    "        current_error = self.M @ self.i\n",
    "        return current_error\n",
    "\n",
    "    def zero_known_grads(self):\n",
    "        self.i.grad[self.i_mask] = 0"
   ]
  },
  {
   "cell_type": "code",
   "execution_count": 19,
   "metadata": {},
   "outputs": [],
   "source": [
    "class KVL(nn.Module):\n",
    "    def __init__(self, M_init, pot_init, v_init, v_mask, pot_mask):\n",
    "        super().__init__()\n",
    "        # inputs with randomized unknowns\n",
    "        self.M = M_init # no unknowns\n",
    "        self.pot, self.pot_base = pot_init\n",
    "        self.register_parameter('pot',self.pot)\n",
    "        self.v, self.v_base = v_init\n",
    "        self.register_parameter('v',self.v)\n",
    "        self.v_mask = v_mask\n",
    "        self.pot_mask = pot_mask\n",
    "\n",
    "    def forward(self):\n",
    "        ''' \n",
    "        returns the loss between voltage tensor calculated voltages via KVL\n",
    "        vector\n",
    "        '''\n",
    "        kvl_error = self.M.T @ self.pot - self.v\n",
    "        return kvl_error\n",
    "\n",
    "    def zero_known_grads(self):\n",
    "        self.v.grad[self.v_mask] = 0\n",
    "        self.pot.grad[self.pot_mask] = 0"
   ]
  },
  {
   "cell_type": "code",
   "execution_count": 20,
   "metadata": {},
   "outputs": [],
   "source": [
    "class Resistor(nn.Module):\n",
    "    def __init__(self, v_init, i_init, attr_init, v_mask, i_mask, attr_mask):\n",
    "        super().__init__()\n",
    "        # inputs with randomized unknowns\n",
    "        self.v, self.v_base = v_init\n",
    "        self.register_parameter('v',self.v)\n",
    "        self.i, self.i_base = i_init\n",
    "        self.register_parameter('i',self.i)\n",
    "        self.attr, self.attr_base = attr_init\n",
    "        self.register_parameter('attr',self.attr)\n",
    "        self.v_mask = v_mask\n",
    "        self.i_mask = i_mask\n",
    "        self.attr_mask = attr_mask\n",
    "\n",
    "    def forward(self):\n",
    "        resistor_v_error = self.i * self.attr - self.v\n",
    "        return resistor_v_error\n",
    "            \n",
    "    def zero_known_grads(self):\n",
    "        self.v.grad[self.v_mask] = 0\n",
    "        self.i.grad[self.i_mask] = 0\n",
    "        self.attr.grad[self.attr_mask] = 0"
   ]
  },
  {
   "cell_type": "code",
   "execution_count": 21,
   "metadata": {},
   "outputs": [],
   "source": [
    "class Solver():\n",
    "    ''' \n",
    "    Manages the training and interactions between models\n",
    "    '''\n",
    "    def __init__(self) -> None:\n",
    "        pass\n",
    "    "
   ]
  },
  {
   "attachments": {},
   "cell_type": "markdown",
   "metadata": {},
   "source": [
    "# Initialize Shared Model Parameters"
   ]
  },
  {
   "cell_type": "code",
   "execution_count": 22,
   "metadata": {},
   "outputs": [],
   "source": [
    "def init_param(input_tensor, tensor_mask, base):\n",
    "    with torch.no_grad():\n",
    "        # initialize random parameter tensor same size as input tensor\n",
    "        param_init = nn.Parameter(torch.ones_like(input_tensor))\n",
    "\n",
    "        # zero knowns positions\n",
    "        param_init[tensor_mask] = 0\n",
    "\n",
    "        # normalize only the knowns\n",
    "        knowns_norm = normalize(input_tensor, base)\n",
    "\n",
    "        # replace the normalized knowns in the init param tensor\n",
    "        param_init[tensor_mask] = input_tensor[tensor_mask] #FIXME later to use normalization\n",
    "\n",
    "    return param_init"
   ]
  },
  {
   "attachments": {},
   "cell_type": "markdown",
   "metadata": {},
   "source": [
    "Model parameters are always normalized.  Parameters are initialized with normalized values.  During training, the parameters are periodically renormalized from outside the model instance.  The final result will need to be recovered from the normalized model parameters."
   ]
  },
  {
   "cell_type": "code",
   "execution_count": 23,
   "metadata": {},
   "outputs": [],
   "source": [
    "pot_base = base(states['pot'])\n",
    "v_base = base(states['v'])\n",
    "i_base = base(states['i'])\n",
    "attr_base = v_base / i_base\n",
    "\n",
    "pot_init_tensor = init_param(states['pot'], pot_mask, pot_base)\n",
    "v_init_tensor = init_param(states['v'], v_mask, v_base)\n",
    "i_init_tensor = init_param(states['i'], i_mask,i_base)\n",
    "attr_init_tensor = init_param(states['attr'], attr_mask, attr_base)\n",
    "\n",
    "pot_param = (pot_init_tensor, pot_base)\n",
    "v_param = (v_init_tensor, v_base)\n",
    "i_param = (i_init_tensor, i_base)\n",
    "attr_param = (attr_init_tensor, attr_base)"
   ]
  },
  {
   "attachments": {},
   "cell_type": "markdown",
   "metadata": {},
   "source": [
    "# Create Instance of Models"
   ]
  },
  {
   "cell_type": "code",
   "execution_count": 24,
   "metadata": {},
   "outputs": [],
   "source": [
    "kcl_model = KCL( M_init = M_tensor, \n",
    "                i_init = i_param,\n",
    "                i_mask=i_mask).to(device)"
   ]
  },
  {
   "cell_type": "code",
   "execution_count": 25,
   "metadata": {},
   "outputs": [],
   "source": [
    "kvl_model = KVL( M_init = M_tensor, \n",
    "                pot_init = pot_param, \n",
    "                v_init = v_param,\n",
    "                v_mask = v_mask,\n",
    "                pot_mask=pot_mask).to(device)"
   ]
  },
  {
   "cell_type": "code",
   "execution_count": 26,
   "metadata": {},
   "outputs": [],
   "source": [
    "res_model = Resistor( v_init = v_param, \n",
    "                i_init = i_param, \n",
    "                attr_init = attr_param,\n",
    "                v_mask = v_mask,\n",
    "                i_mask = i_mask,\n",
    "                attr_mask = attr_mask\n",
    "                ).to(device)"
   ]
  },
  {
   "attachments": {},
   "cell_type": "markdown",
   "metadata": {},
   "source": [
    "# Loss"
   ]
  },
  {
   "cell_type": "code",
   "execution_count": 27,
   "metadata": {},
   "outputs": [],
   "source": [
    "loss_fn = nn.MSELoss()"
   ]
  },
  {
   "attachments": {},
   "cell_type": "markdown",
   "metadata": {},
   "source": [
    "# Optimizer"
   ]
  },
  {
   "cell_type": "code",
   "execution_count": 28,
   "metadata": {},
   "outputs": [],
   "source": [
    "kcl_opt = torch.optim.Adam(params=kcl_model.parameters(),lr=0.9)\n",
    "kvl_opt = torch.optim.Adam(params=kvl_model.parameters(),lr=0.9)\n",
    "res_opt = torch.optim.Adam(params=res_model.parameters(),lr=0.9)"
   ]
  },
  {
   "attachments": {},
   "cell_type": "markdown",
   "metadata": {},
   "source": [
    "# Train Function"
   ]
  },
  {
   "attachments": {},
   "cell_type": "markdown",
   "metadata": {},
   "source": [
    "This is multitask learning since there are multiple losses accessing common, hard parameters.  By separating the losses, Adam optimizer can use different learning rates of different parameter groups.  Each loss is associated with a key equation for solving circuits (e.g. KCL).  There are three ways to backpropagate the losses.  \n",
    "\n",
    "First is the common way.  Calculate all losses, sum them, then backpropogate from the final summed loss.  This does not work because larger losses overpower smaller losses.  A way to fix that is to add a scaling factor to each loss before summing.  Does not work in this scenario because the ranges for the losses change depending on the circuit and constraints.  The second way is to individually backpropagate each loss before one optimizer update.  The three models battle it this case.  The fix for this is to run an optimizer step after each loss backprop.  Therefore each loss is it's own model that takes shared parameters as input and returns an update of the parameters for use by the next loss backprop + opt step.\n",
    "\n",
    "Note:  At one point the `retain_graph = True` input for `loss.backward()` method was used to retain computation of the entire graph for all the losses before freeing from memory.  Useful for the case when having to call multiple loss.backward() in a row without an optimizer step.  Bascially adding all contributions of gradients from all losses to a shared parameter.  Unstable.\n",
    "\n",
    "Model struggles with large differences in values (1 vs 100 Ohms in the same circuit).  It needs some form of normalization.  Normalization needs to be treated as max of v_input is v_base and max of i_input is i_base and derive all other bases from i_base and v_base.  For example, r_base = v_base / i_base.\n",
    "\n",
    "Freezing parameters, especially resistance, allows the model to train itself from different perpectives.  This is done by zeroing the gradients for an entire set of parameters.  Freezing is always done for any \"known\" parameters."
   ]
  },
  {
   "attachments": {},
   "cell_type": "markdown",
   "metadata": {},
   "source": [
    "# Test Function "
   ]
  },
  {
   "attachments": {},
   "cell_type": "markdown",
   "metadata": {},
   "source": [
    "No inference therefore no testing!"
   ]
  },
  {
   "attachments": {},
   "cell_type": "markdown",
   "metadata": {},
   "source": [
    "# Run Train Loop"
   ]
  },
  {
   "attachments": {},
   "cell_type": "markdown",
   "metadata": {},
   "source": [
    "# Using combined losses is better than treating losses separately"
   ]
  },
  {
   "cell_type": "code",
   "execution_count": 29,
   "metadata": {},
   "outputs": [
    {
     "name": "stdout",
     "output_type": "stream",
     "text": [
      "epoch 0 loss: 0.0,2.0,499000.5\n",
      "epoch 1000 loss: 0.9360088855805665,0.00028040991406367915,1.8683673853879654\n",
      "epoch 2000 loss: 0.814407203316894,0.0005827217538164508,1.6241059983873876\n",
      "epoch 3000 loss: 0.7250472319790913,0.0006482581322349121,26.758232248037565\n",
      "epoch 4000 loss: 0.6555947992608031,0.0002488246313664469,1.3094890996955781\n",
      "epoch 5000 loss: 0.5996939050659047,0.00010906859910935182,1.197356379212347\n",
      "epoch 6000 loss: 0.5456948228648583,8.733383470857446e-05,2.3940272668182163\n",
      "epoch 7000 loss: 0.5063168709958683,7.861372139992968e-05,0.9787320239205627\n",
      "epoch 8000 loss: 0.46661339984080236,6.89927845324326e-05,0.9321286686882279\n",
      "epoch 9000 loss: 0.4297326277229181,6.035284572667445e-05,0.8584464378027813\n",
      "Done!\n",
      "potentials = (Parameter containing:\n",
      "tensor([[   0.0000],\n",
      "        [-369.9632]], dtype=torch.float64, requires_grad=True), 1)\n",
      "voltages = (Parameter containing:\n",
      "tensor([[-369.9579],\n",
      "        [ 369.9722]], dtype=torch.float64, requires_grad=True), 1)\n",
      "currents = (Parameter containing:\n",
      "tensor([[1.0000],\n",
      "        [0.3712]], dtype=torch.float64, requires_grad=True), tensor(0.7071, dtype=torch.float64))\n",
      "attributes = (Parameter containing:\n",
      "tensor([[-369.9548],\n",
      "        [1000.0000]], dtype=torch.float64, requires_grad=True), tensor(1.4142, dtype=torch.float64))\n"
     ]
    }
   ],
   "source": [
    "epochs = 10000\n",
    "\n",
    "prev_loss = 0.1\n",
    "lt_prev_loss_kcl = 1000\n",
    "lt_prev_loss_kvl = 1000\n",
    "lt_prev_loss_res = 1000\n",
    "\n",
    "for t in range(epochs):\n",
    "\n",
    "    #set training mode\n",
    "    kcl_model.train()\n",
    "    kvl_model.train()\n",
    "    res_model.train()\n",
    "\n",
    "    # KVL\n",
    "    kvl_pred = kvl_model()\n",
    "    kvl_loss = loss_fn(kvl_pred, torch.zeros_like(kvl_pred))\n",
    "\n",
    "    # KCL\n",
    "    kcl_pred = kcl_model()\n",
    "    kcl_loss = loss_fn(kcl_pred, torch.zeros_like(kcl_pred))\n",
    "\n",
    "    # Elements\n",
    "    res_pred = res_model()\n",
    "    res_loss = loss_fn(res_pred, torch.zeros_like(res_pred))\n",
    "    \n",
    "    \n",
    "\n",
    "\n",
    "    total_loss = res_loss + 1000*kcl_loss + kvl_loss\n",
    "\n",
    "    res_model.zero_grad()\n",
    "    kcl_model.zero_grad()\n",
    "    kvl_model.zero_grad()\n",
    "\n",
    "    total_loss.backward()\n",
    "\n",
    "    res_model.zero_known_grads()\n",
    "    kcl_model.zero_known_grads()\n",
    "    kvl_model.zero_known_grads()\n",
    "\n",
    "    res_opt.step()\n",
    "    kcl_opt.step()\n",
    "    kvl_opt.step()\n",
    "\n",
    "    # analyze steps and loss\n",
    "    max_loss = max(kcl_loss, kvl_loss, res_loss)\n",
    "    loss_change = abs(max_loss - prev_loss) / prev_loss\n",
    "    prev_loss = max_loss\n",
    "\n",
    "    if (t % (epochs/10)) == 0:\n",
    "        # print(f'epoch {t} loss = {max_loss} ({loss_change} per unit change)')\n",
    "        print(f'epoch {t} loss: {kcl_loss.item()},{kvl_loss.item()},{res_loss.item()}')\n",
    "        if kcl_loss > lt_prev_loss_kcl:\n",
    "            for g in kcl_opt.param_groups:\n",
    "                g['lr'] /= 2\n",
    "            # print(f'reducing kcl learning rate')\n",
    "        lt_prev_loss_kcl = kcl_loss\n",
    "\n",
    "        if kvl_loss > lt_prev_loss_kvl:\n",
    "            for g in kvl_opt.param_groups:\n",
    "                g['lr'] /= 2\n",
    "            # print(f'reducing kcl learning rate')\n",
    "        lt_prev_loss_kvl = kvl_loss\n",
    "\n",
    "        if res_loss > lt_prev_loss_res:\n",
    "            for g in res_opt.param_groups:\n",
    "                g['lr'] /= 2\n",
    "            # print(f'reducing res learning rate')\n",
    "        lt_prev_loss_res = res_loss\n",
    "\n",
    "    if max_loss < 1e-10:\n",
    "        print(f'epoch {t} loss = {max_loss} finished early for loss threshold')\n",
    "        break\n",
    "\n",
    "print(\"Done!\")\n",
    "print(f\"potentials = {pot_param}\")\n",
    "print(f\"voltages = {v_param}\")\n",
    "print(f\"currents = {i_param}\")\n",
    "print(f\"attributes = {attr_param}\")"
   ]
  }
 ],
 "metadata": {
  "kernelspec": {
   "display_name": "ml",
   "language": "python",
   "name": "python3"
  },
  "language_info": {
   "codemirror_mode": {
    "name": "ipython",
    "version": 3
   },
   "file_extension": ".py",
   "mimetype": "text/x-python",
   "name": "python",
   "nbconvert_exporter": "python",
   "pygments_lexer": "ipython3",
   "version": "3.10.8 | packaged by conda-forge | (main, Nov 22 2022, 08:16:53) [MSC v.1929 64 bit (AMD64)]"
  },
  "orig_nbformat": 4,
  "vscode": {
   "interpreter": {
    "hash": "3217f10b4e7366dd1a6cbf73464f125221bf8686d6dfc23b58c931b1c5e4bd4d"
   }
  }
 },
 "nbformat": 4,
 "nbformat_minor": 2
}

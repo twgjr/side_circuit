{
 "cells": [
  {
   "cell_type": "code",
   "execution_count": 1,
   "metadata": {},
   "outputs": [],
   "source": [
    "import numpy as np\n",
    "import torch\n",
    "from torch import nn\n",
    "import networkx as nx\n",
    "import copy\n",
    "import circuits as ckt"
   ]
  },
  {
   "cell_type": "code",
   "execution_count": 2,
   "metadata": {},
   "outputs": [
    {
     "name": "stdout",
     "output_type": "stream",
     "text": [
      "Using cpu device\n"
     ]
    }
   ],
   "source": [
    "# Get cpu or gpu device for training.\n",
    "# device = \"cuda\" if torch.cuda.is_available() else \"cpu\"\n",
    "device = \"cpu\"\n",
    "print(f\"Using {device} device\")\n",
    "\n",
    "# torch.autograd.set_detect_anomaly(True)"
   ]
  },
  {
   "attachments": {},
   "cell_type": "markdown",
   "metadata": {},
   "source": [
    "# Generate Input Data for a Simple Circuit\n",
    "Circuit is an independent voltage source and a resistor."
   ]
  },
  {
   "cell_type": "code",
   "execution_count": 3,
   "metadata": {},
   "outputs": [
    {
     "name": "stdout",
     "output_type": "stream",
     "text": [
      "Circuit with 2 nodes and 2 elements\n",
      "[0, 1]\n",
      "[(0 , 1), (1 , 0)]\n",
      "[(0, {}), (1, {})]\n",
      "[(0, 1, 0, {'kind': 0, 'i': None, 'v': None, 'attr': 10}), (1, 0, 0, {'kind': 1, 'i': None, 'v': None, 'attr': 5})]\n"
     ]
    },
    {
     "data": {
      "image/png": "[encoded data removed]",
      "text/plain": [
       "<Figure size 640x480 with 1 Axes>"
      ]
     },
     "metadata": {},
     "output_type": "display_data"
    }
   ],
   "source": [
    "vr = ckt.Circuit()\n",
    "v_source = vr.add_element(kind=ckt.Kinds.IVS.value)\n",
    "resistor = vr.add_element(kind=ckt.Kinds.R.value)\n",
    "v_source.connect(v_source.high, resistor.low)\n",
    "v_source.connect(v_source.low, resistor.high)\n",
    "v_source.attr = 10\n",
    "resistor.attr = 5\n",
    "# v_source.low.p = 0\n",
    "print(vr)\n",
    "print(vr.nodes)\n",
    "print(vr.elements)\n",
    "vr.draw()\n",
    "print(vr.nx_graph().nodes().data())\n",
    "print(vr.nx_graph().edges(data=True,keys=True))"
   ]
  },
  {
   "attachments": {},
   "cell_type": "markdown",
   "metadata": {},
   "source": [
    "# Expected Sizes of Vectors"
   ]
  },
  {
   "cell_type": "code",
   "execution_count": 4,
   "metadata": {},
   "outputs": [
    {
     "name": "stdout",
     "output_type": "stream",
     "text": [
      "size of element currents, voltages, and attr = (2,1)\n",
      "size of node voltages = (2,1)\n"
     ]
    }
   ],
   "source": [
    "print(f'size of element currents, voltages, and attr = ({vr.num_elements()},1)')\n",
    "print(f'size of node voltages = ({vr.num_nodes()},1)')"
   ]
  },
  {
   "attachments": {},
   "cell_type": "markdown",
   "metadata": {},
   "source": [
    "# Inputs"
   ]
  },
  {
   "cell_type": "code",
   "execution_count": 5,
   "metadata": {},
   "outputs": [
    {
     "name": "stderr",
     "output_type": "stream",
     "text": [
      "c:\\Users\\terry\\OneDrive\\Documents\\GitHub\\side_circuit\\ml\\circuits.py:77: FutureWarning: incidence_matrix will return a scipy.sparse array instead of a matrix in Networkx 3.0.\n",
      "  M_scipy = nx.incidence_matrix(G=self.nx_graph(),oriented=True)\n"
     ]
    }
   ],
   "source": [
    "input_test = ckt.Input(vr)"
   ]
  },
  {
   "cell_type": "code",
   "execution_count": 6,
   "metadata": {},
   "outputs": [
    {
     "data": {
      "text/plain": [
       "tensor([[-1.,  1.],\n",
       "        [ 1., -1.]])"
      ]
     },
     "execution_count": 6,
     "metadata": {},
     "output_type": "execute_result"
    }
   ],
   "source": [
    "input_test.M"
   ]
  },
  {
   "attachments": {},
   "cell_type": "markdown",
   "metadata": {},
   "source": [
    "# Circuit Theory Functions"
   ]
  },
  {
   "cell_type": "code",
   "execution_count": 7,
   "metadata": {},
   "outputs": [
    {
     "data": {
      "text/plain": [
       "(tensor([[0.],\n",
       "         [0.]]),\n",
       " tensor([[0.],\n",
       "         [0.]]),\n",
       " tensor([[0.],\n",
       "         [0.]]),\n",
       " tensor([[10.],\n",
       "         [ 5.]]))"
      ]
     },
     "execution_count": 7,
     "metadata": {},
     "output_type": "execute_result"
    }
   ],
   "source": [
    "input_test.prop_tensors()"
   ]
  },
  {
   "cell_type": "code",
   "execution_count": 8,
   "metadata": {},
   "outputs": [
    {
     "data": {
      "text/plain": [
       "tensor([[ 0.,  0.,  1.,  0.,  0.,  0.],\n",
       "        [ 0., -5.,  0.,  1.,  0.,  0.]])"
      ]
     },
     "execution_count": 8,
     "metadata": {},
     "output_type": "execute_result"
    }
   ],
   "source": [
    "input_test.element_row()"
   ]
  },
  {
   "cell_type": "code",
   "execution_count": 9,
   "metadata": {},
   "outputs": [
    {
     "data": {
      "text/plain": [
       "{0: tensor([[1.],\n",
       "         [0.]]),\n",
       " 1: tensor([[0.],\n",
       "         [1.]])}"
      ]
     },
     "execution_count": 9,
     "metadata": {},
     "output_type": "execute_result"
    }
   ],
   "source": [
    "input_test.kind_map()"
   ]
  },
  {
   "cell_type": "code",
   "execution_count": 10,
   "metadata": {},
   "outputs": [
    {
     "data": {
      "text/plain": [
       "tensor([[10.],\n",
       "        [ 0.]])"
      ]
     },
     "execution_count": 10,
     "metadata": {},
     "output_type": "execute_result"
    }
   ],
   "source": [
    "input_test.s()"
   ]
  },
  {
   "attachments": {},
   "cell_type": "markdown",
   "metadata": {},
   "source": [
    "# Define Models"
   ]
  },
  {
   "cell_type": "code",
   "execution_count": 11,
   "metadata": {},
   "outputs": [],
   "source": [
    "class Solve(nn.Module):\n",
    "    ''' \n",
    "    Sparse Tableau Formulation of circuit analysis, modeled as a machine learning\n",
    "    problem to learn element attributes using backprop and optimization.\n",
    "    '''\n",
    "    def __init__(self, input: ckt.Input):\n",
    "        super().__init__()\n",
    "        self.input = input\n",
    "        i_in, v_in, pot_in, attr_in = self.input.prop_tensors()\n",
    "        self.attr = nn.Parameter(attr_in)\n",
    "\n",
    "    def forward(self):\n",
    "        A,b = self.build()\n",
    "        print(f'A {A}')\n",
    "        print(f'b {b}')\n",
    "        solution = torch.linalg.lstsq(A,b).solution\n",
    "        print(f'x {solution}')\n",
    "        calc_attrs = self.calc_attrs(solution)\n",
    "        return calc_attrs\n",
    "            \n",
    "    def zero_known_grads(self, attr_known):\n",
    "        self.attr.grad[attr_known] = 0\n",
    "\n",
    "    def build(self):\n",
    "        # inputs\n",
    "        i_in, v_in, pot_in, attr_in = self.input.prop_tensors()\n",
    "        kind_map = self.input.kind_map()\n",
    "        is_s_mask = kind_map[ckt.Kinds.IVS.value]\n",
    "        is_r_mask = kind_map[ckt.Kinds.R.value]\n",
    "        i_known, v_known, pot_known , attr_known = self.input.known_masks()\n",
    "        attr_known = attr_known.to(torch.bool)\n",
    "        is_r_mask_z, is_r_mask_y, is_s_mask_y = self.input.rs_mask(kind_map)\n",
    "        s = self.input.s()\n",
    "        M = self.input.M\n",
    "        num_elements = M.shape[1]\n",
    "                \n",
    "        # A matrix\n",
    "        kcl_row = torch.cat(tensors=(M,\n",
    "                                    torch.zeros_like(M),\n",
    "                                    torch.zeros_like(M)),dim=1)\n",
    "        kvl_row = torch.cat(tensors=(torch.zeros_like(M),\n",
    "                                    torch.eye(num_elements),\n",
    "                                    -M.T),dim=1)\n",
    "        e_row = self.input.element_row()\n",
    "        A = torch.cat(tensors=(kcl_row,kvl_row,e_row), dim=0)\n",
    "\n",
    "        # b matrix\n",
    "        kcl_zeros = torch.zeros_like(i_in)\n",
    "        kvl_zeros = torch.zeros_like(v_in)\n",
    "        b = torch.cat(tensors=(kvl_zeros,kcl_zeros,s), dim=0)\n",
    "        \n",
    "        return A,b\n",
    "\n",
    "    def calc_attrs(self, solution: torch.Tensor):\n",
    "        kind_masks = self.input.kind_map()\n",
    "        ivs_mask: torch.Tensor = kind_masks[ckt.Kinds.IVS.value].to(torch.bool)\n",
    "        r_mask: torch.Tensor  = kind_masks[ckt.Kinds.R.value].to(torch.bool)\n",
    "        num_elements = r_mask.shape[0]\n",
    "        \n",
    "        i = solution[:num_elements,:]\n",
    "        v = solution[num_elements:2*num_elements,:]\n",
    "        \n",
    "        ret_attrs = torch.zeros(size=(num_elements,1))\n",
    "\n",
    "        ret_attrs[ivs_mask] = v[ivs_mask]\n",
    "        ret_attrs[r_mask] = i[r_mask]*v[r_mask]\n",
    "\n",
    "        return ret_attrs"
   ]
  },
  {
   "attachments": {},
   "cell_type": "markdown",
   "metadata": {},
   "source": [
    "# Create Instance of Models"
   ]
  },
  {
   "cell_type": "code",
   "execution_count": 12,
   "metadata": {},
   "outputs": [
    {
     "data": {
      "text/plain": [
       "[Parameter containing:\n",
       " tensor([[10.],\n",
       "         [ 5.]], requires_grad=True)]"
      ]
     },
     "execution_count": 12,
     "metadata": {},
     "output_type": "execute_result"
    }
   ],
   "source": [
    "input = ckt.Input(vr)\n",
    "model = Solve(input=input)\n",
    "list(model.parameters())"
   ]
  },
  {
   "attachments": {},
   "cell_type": "markdown",
   "metadata": {},
   "source": [
    "# Loss"
   ]
  },
  {
   "cell_type": "code",
   "execution_count": 13,
   "metadata": {},
   "outputs": [],
   "source": [
    "loss_fn = nn.MSELoss()"
   ]
  },
  {
   "attachments": {},
   "cell_type": "markdown",
   "metadata": {},
   "source": [
    "# Optimizer"
   ]
  },
  {
   "cell_type": "code",
   "execution_count": 14,
   "metadata": {},
   "outputs": [],
   "source": [
    "optimizer = torch.optim.Adam(params=model.parameters(),lr=0.1)"
   ]
  },
  {
   "attachments": {},
   "cell_type": "markdown",
   "metadata": {},
   "source": [
    "# Train Function"
   ]
  },
  {
   "attachments": {},
   "cell_type": "markdown",
   "metadata": {},
   "source": [
    "# Test Function "
   ]
  },
  {
   "attachments": {},
   "cell_type": "markdown",
   "metadata": {},
   "source": [
    "No inference therefore no testing!"
   ]
  },
  {
   "attachments": {},
   "cell_type": "markdown",
   "metadata": {},
   "source": [
    "# Run Train Loop"
   ]
  },
  {
   "cell_type": "code",
   "execution_count": 15,
   "metadata": {},
   "outputs": [],
   "source": [
    "def attr_known_mask():\n",
    "    _, _, _, attr_known = input.known_masks()\n",
    "    attr_bool = attr_known.to(torch.bool)\n",
    "    return attr_bool\n"
   ]
  },
  {
   "cell_type": "code",
   "execution_count": 16,
   "metadata": {},
   "outputs": [],
   "source": [
    "def attr_truth():\n",
    "    _, _, _, attr_in = input.prop_tensors()\n",
    "    return attr_in"
   ]
  },
  {
   "cell_type": "code",
   "execution_count": 17,
   "metadata": {},
   "outputs": [
    {
     "data": {
      "text/plain": [
       "tensor([10.,  5.])"
      ]
     },
     "execution_count": 17,
     "metadata": {},
     "output_type": "execute_result"
    }
   ],
   "source": [
    "attr_truth()[attr_known_mask()]"
   ]
  },
  {
   "cell_type": "code",
   "execution_count": 18,
   "metadata": {},
   "outputs": [
    {
     "name": "stdout",
     "output_type": "stream",
     "text": [
      "A tensor tensor([[-1.,  1.,  0.,  0.,  0.,  0.],\n",
      "        [ 1., -1.,  0.,  0.,  0.,  0.],\n",
      "        [ 0.,  0.,  1.,  0.,  1., -1.],\n",
      "        [ 0.,  0.,  0.,  1., -1.,  1.],\n",
      "        [ 0.,  0.,  1.,  0.,  0.,  0.],\n",
      "        [ 0., -5.,  0.,  1.,  0.,  0.]])\n",
      "b tensor tensor([[ 0.],\n",
      "        [ 0.],\n",
      "        [ 0.],\n",
      "        [ 0.],\n",
      "        [10.],\n",
      "        [ 0.]])\n",
      "solution tensor([[ -2.0000],\n",
      "        [ -2.0000],\n",
      "        [ 10.0000],\n",
      "        [-10.0000],\n",
      "        [ -5.0000],\n",
      "        [  5.0000]])\n",
      "tensor([10.0000, 20.0000])\n",
      "tensor([10.,  5.])\n"
     ]
    },
    {
     "ename": "RuntimeError",
     "evalue": "element 0 of tensors does not require grad and does not have a grad_fn",
     "output_type": "error",
     "traceback": [
      "\u001b[1;31m---------------------------------------------------------------------------\u001b[0m",
      "\u001b[1;31mRuntimeError\u001b[0m                              Traceback (most recent call last)",
      "Cell \u001b[1;32mIn [18], line 23\u001b[0m\n\u001b[0;32m     20\u001b[0m model\u001b[39m.\u001b[39mzero_grad()\n\u001b[0;32m     22\u001b[0m \u001b[39m# loss.backward(retain_graph=True)\u001b[39;00m\n\u001b[1;32m---> 23\u001b[0m loss\u001b[39m.\u001b[39;49mbackward(retain_graph\u001b[39m=\u001b[39;49m\u001b[39mTrue\u001b[39;49;00m)\n\u001b[0;32m     25\u001b[0m model\u001b[39m.\u001b[39mzero_known_grads()\n\u001b[0;32m     27\u001b[0m optimizer\u001b[39m.\u001b[39mstep()\n",
      "File \u001b[1;32mc:\\Users\\terry\\.conda\\envs\\ml\\lib\\site-packages\\torch\\_tensor.py:487\u001b[0m, in \u001b[0;36mTensor.backward\u001b[1;34m(self, gradient, retain_graph, create_graph, inputs)\u001b[0m\n\u001b[0;32m    477\u001b[0m \u001b[39mif\u001b[39;00m has_torch_function_unary(\u001b[39mself\u001b[39m):\n\u001b[0;32m    478\u001b[0m     \u001b[39mreturn\u001b[39;00m handle_torch_function(\n\u001b[0;32m    479\u001b[0m         Tensor\u001b[39m.\u001b[39mbackward,\n\u001b[0;32m    480\u001b[0m         (\u001b[39mself\u001b[39m,),\n\u001b[1;32m   (...)\u001b[0m\n\u001b[0;32m    485\u001b[0m         inputs\u001b[39m=\u001b[39minputs,\n\u001b[0;32m    486\u001b[0m     )\n\u001b[1;32m--> 487\u001b[0m torch\u001b[39m.\u001b[39;49mautograd\u001b[39m.\u001b[39;49mbackward(\n\u001b[0;32m    488\u001b[0m     \u001b[39mself\u001b[39;49m, gradient, retain_graph, create_graph, inputs\u001b[39m=\u001b[39;49minputs\n\u001b[0;32m    489\u001b[0m )\n",
      "File \u001b[1;32mc:\\Users\\terry\\.conda\\envs\\ml\\lib\\site-packages\\torch\\autograd\\__init__.py:197\u001b[0m, in \u001b[0;36mbackward\u001b[1;34m(tensors, grad_tensors, retain_graph, create_graph, grad_variables, inputs)\u001b[0m\n\u001b[0;32m    192\u001b[0m     retain_graph \u001b[39m=\u001b[39m create_graph\n\u001b[0;32m    194\u001b[0m \u001b[39m# The reason we repeat same the comment below is that\u001b[39;00m\n\u001b[0;32m    195\u001b[0m \u001b[39m# some Python versions print out the first line of a multi-line function\u001b[39;00m\n\u001b[0;32m    196\u001b[0m \u001b[39m# calls in the traceback and some print out the last line\u001b[39;00m\n\u001b[1;32m--> 197\u001b[0m Variable\u001b[39m.\u001b[39;49m_execution_engine\u001b[39m.\u001b[39;49mrun_backward(  \u001b[39m# Calls into the C++ engine to run the backward pass\u001b[39;49;00m\n\u001b[0;32m    198\u001b[0m     tensors, grad_tensors_, retain_graph, create_graph, inputs,\n\u001b[0;32m    199\u001b[0m     allow_unreachable\u001b[39m=\u001b[39;49m\u001b[39mTrue\u001b[39;49;00m, accumulate_grad\u001b[39m=\u001b[39;49m\u001b[39mTrue\u001b[39;49;00m)\n",
      "\u001b[1;31mRuntimeError\u001b[0m: element 0 of tensors does not require grad and does not have a grad_fn"
     ]
    }
   ],
   "source": [
    "epochs = 2\n",
    "\n",
    "prev_loss = 0.1\n",
    "lt_prev_loss = 1000\n",
    "\n",
    "attr_true = attr_truth()\n",
    "\n",
    "knowns_cat = attr_known_mask()\n",
    "\n",
    "for t in range(epochs):\n",
    "\n",
    "    #set training mode\n",
    "    model.train()\n",
    "\n",
    "    pred = model()\n",
    "    print(pred[knowns_cat])\n",
    "    print(attr_true[knowns_cat])\n",
    "    loss = loss_fn(pred[knowns_cat], attr_true[knowns_cat])\n",
    "\n",
    "    model.zero_grad()\n",
    "\n",
    "    # loss.backward(retain_graph=True)\n",
    "    loss.backward(retain_graph=True)\n",
    "\n",
    "    model.zero_known_grads()\n",
    "\n",
    "    optimizer.step()\n",
    "\n",
    "    # analyze steps and loss\n",
    "    loss_change = abs(loss - prev_loss) / prev_loss\n",
    "    prev_loss = loss\n",
    "\n",
    "    if (t % (epochs/10)) == 0:\n",
    "        # print(f'epoch {t} loss = {max_loss} ({loss_change} per unit change)')\n",
    "        print(f'epoch {t} loss: {loss.item()}')\n",
    "        if loss > lt_prev_loss:\n",
    "            for g in optimizer.param_groups:\n",
    "                g['lr'] /= 2\n",
    "            # print(f'reducing kcl learning rate')\n",
    "        lt_prev_loss = loss\n",
    "\n",
    "    if loss < 1e-10:\n",
    "        print(f'epoch {t} loss = {loss} finished early for loss threshold')\n",
    "        break\n",
    "\n",
    "print(\"Done!\")"
   ]
  },
  {
   "cell_type": "code",
   "execution_count": null,
   "metadata": {},
   "outputs": [],
   "source": []
  }
 ],
 "metadata": {
  "kernelspec": {
   "display_name": "ml",
   "language": "python",
   "name": "python3"
  },
  "language_info": {
   "codemirror_mode": {
    "name": "ipython",
    "version": 3
   },
   "file_extension": ".py",
   "mimetype": "text/x-python",
   "name": "python",
   "nbconvert_exporter": "python",
   "pygments_lexer": "ipython3",
   "version": "3.10.8"
  },
  "orig_nbformat": 4,
  "vscode": {
   "interpreter": {
    "hash": "3217f10b4e7366dd1a6cbf73464f125221bf8686d6dfc23b58c931b1c5e4bd4d"
   }
  }
 },
 "nbformat": 4,
 "nbformat_minor": 2
}

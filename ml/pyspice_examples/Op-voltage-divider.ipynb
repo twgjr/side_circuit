{
 "cells": [
  {
   "cell_type": "markdown",
   "metadata": {},
   "source": [
    "This example shows the computation of the DC bias and sensitivity in a\n",
    "voltage divider.\n"
   ]
  },
  {
   "cell_type": "code",
   "execution_count": 6,
   "metadata": {},
   "outputs": [],
   "source": [
    "import sys\n",
    "sys.path.insert(0, '..')\n",
    "\n",
    "from modules.simulator import Simulator\n",
    "from modules.system import System, Wire\n",
    "from modules.elements import *\n",
    "\n",
    "import PySpice.Logging.Logging as Logging\n",
    "\n",
    "logger = Logging.setup_logging()"
   ]
  },
  {
   "attachments": {
    "voltage-divider.png": {
     "image/png": "[encoded data removed]"
    }
   },
   "cell_type": "markdown",
   "metadata": {},
   "source": [
    "![voltage-divider.png](attachment:voltage-divider.png)"
   ]
  },
  {
   "cell_type": "code",
   "execution_count": 7,
   "metadata": {},
   "outputs": [
    {
     "data": {
      "text/plain": [
       "Wire(3->0)"
      ]
     },
     "execution_count": 7,
     "metadata": {},
     "output_type": "execute_result"
    }
   ],
   "source": [
    "system = System()\n",
    "voltage = Voltage(system).DC(10)\n",
    "top_resistor = Resistor(system, 9)\n",
    "bottom_resistor = Resistor(system, 1)\n",
    "Wire(system, voltage.p, top_resistor.p)\n",
    "Wire(system, voltage.n, system.ground)\n",
    "Wire(system, top_resistor.n, bottom_resistor.p)\n",
    "Wire(system, bottom_resistor.n, system.ground)"
   ]
  },
  {
   "cell_type": "code",
   "execution_count": 8,
   "metadata": {},
   "outputs": [],
   "source": [
    "# convert to PySpice\n",
    "sim = Simulator(system)"
   ]
  },
  {
   "cell_type": "code",
   "execution_count": 9,
   "metadata": {},
   "outputs": [],
   "source": [
    "circuit = sim.system_to_pyspice()"
   ]
  },
  {
   "cell_type": "code",
   "execution_count": 10,
   "metadata": {},
   "outputs": [
    {
     "name": "stdout",
     "output_type": "stream",
     "text": [
      "\n",
      "\n",
      "Node 4: 10.0 V\n",
      "Node 5: 1.0 V\n"
     ]
    },
    {
     "name": "stderr",
     "output_type": "stream",
     "text": [
      "C:\\Users\\terry\\AppData\\Local\\Temp\\ipykernel_6912\\1012765031.py:6: DeprecationWarning: Conversion of an array with ndim > 0 to a scalar is deprecated, and will error in future. Ensure you extract a single element from your array before performing this operation. (Deprecated NumPy 1.25.)\n",
      "  print('Node {}: {} V'.format(str(node), float(node)))\n"
     ]
    }
   ],
   "source": [
    "simulator = circuit.simulator(temperature=25, nominal_temperature=25)\n",
    "\n",
    "analysis = simulator.operating_point()\n",
    "print('\\n')\n",
    "for node in (analysis[voltage.p.neighbor().deep_id()], analysis[bottom_resistor.p.neighbor().deep_id()]):\n",
    "    print('Node {}: {} V'.format(str(node), float(node)))"
   ]
  }
 ],
 "metadata": {
  "kernelspec": {
   "display_name": "Python 3",
   "language": "python",
   "name": "python3"
  },
  "language_info": {
   "codemirror_mode": {
    "name": "ipython",
    "version": 3
   },
   "file_extension": ".py",
   "mimetype": "text/x-python",
   "name": "python",
   "nbconvert_exporter": "python",
   "pygments_lexer": "ipython3",
   "version": "3.10.13"
  }
 },
 "nbformat": 4,
 "nbformat_minor": 2
}

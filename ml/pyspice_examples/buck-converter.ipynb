{
 "cells": [
  {
   "cell_type": "code",
   "execution_count": null,
   "metadata": {},
   "outputs": [
    {
     "name": "stdout",
     "output_type": "stream",
     "text": [
      "ratio = 0.4166666666666667 sr\n",
      "RLoad = 3.125 Ω\n",
      "period = 2.5000000000000004 μs\n",
      "duty_cycle = 1.0416666666666667 μs\n",
      "ripple_current = 0.6 A\n"
     ]
    }
   ],
   "source": [
    "\n",
    "import matplotlib.pyplot as plt\n",
    "\n",
    "\n",
    "import PySpice.Logging.Logging as Logging\n",
    "logger = Logging.setup_logging()\n",
    "\n",
    "\n",
    "from PySpice.Doc.ExampleTools import find_libraries\n",
    "from PySpice.Probe.Plot import plot\n",
    "from PySpice.Spice.Library import SpiceLibrary\n",
    "from PySpice.Spice.Netlist import Circuit\n",
    "from PySpice.Unit import *\n",
    "\n",
    "\n",
    "libraries_path = find_libraries()\n",
    "spice_library = SpiceLibrary(libraries_path)\n",
    "\n",
    "\n",
    "\n",
    "circuit = Circuit('Buck Converter')\n",
    "\n",
    "circuit.include(spice_library['1N5822']) # Schottky diode\n",
    "circuit.include(spice_library['irf150'])\n",
    "\n",
    "# From Microchip WebSeminars - Buck Converter Design Example\n",
    "\n",
    "Vin = 12@u_V\n",
    "Vout = 5@u_V\n",
    "ratio = Vout / Vin\n",
    "\n",
    "Iload = 2@u_A\n",
    "Rload = Vout / (.8 * Iload)\n",
    "\n",
    "frequency = 400@u_kHz\n",
    "period = frequency.period\n",
    "duty_cycle = ratio * period\n",
    "\n",
    "ripple_current = .3 * Iload # typically 30 %\n",
    "ripple_voltage = 50@u_mV\n",
    "\n",
    "print('ratio =', ratio)\n",
    "print('RLoad =', Rload)\n",
    "print('period =', period.canonise())\n",
    "print('duty_cycle =', duty_cycle.canonise())\n",
    "print('ripple_current =', ripple_current)\n",
    "\n"
   ]
  },
  {
   "cell_type": "markdown",
   "metadata": {},
   "source": [
    "\n"
   ]
  },
  {
   "cell_type": "code",
   "execution_count": null,
   "metadata": {},
   "outputs": [],
   "source": [
    "\n",
    "L = (Vin - Vout) * duty_cycle / ripple_current\n",
    "RL = 37@u_mΩ\n",
    "\n"
   ]
  },
  {
   "cell_type": "markdown",
   "metadata": {},
   "source": [
    "\n"
   ]
  },
  {
   "cell_type": "code",
   "execution_count": null,
   "metadata": {},
   "outputs": [
    {
     "name": "stdout",
     "output_type": "stream",
     "text": [
      "L = 12.152777777777779 μH\n",
      "Cout = 19.53125 μF\n",
      "Cint = 13.020833333333332 μF\n"
     ]
    }
   ],
   "source": [
    "\n",
    "ESR = 30@u_mΩ\n",
    "ESL = 0\n",
    "Cout = (ripple_current * duty_cycle) / (ripple_voltage - ripple_current * ESR)\n",
    "\n",
    "ripple_current_in = Iload / 2\n",
    "ripple_voltage_in = 200@u_mV\n",
    "ESR_in = 120@u_mΩ\n",
    "Cin = duty_cycle / (ripple_voltage_in / ripple_current_in - ESR_in)\n",
    "\n",
    "L = L.canonise()\n",
    "Cout = Cout.canonise()\n",
    "Cin = Cin.canonise()\n",
    "\n",
    "print('L =', L)\n",
    "print('Cout =', Cout)\n",
    "print('Cint =', Cin)\n",
    "\n",
    "circuit.V('in', 'in', circuit.gnd, Vin)\n",
    "circuit.C('in', 'in', circuit.gnd, Cin)\n",
    "\n",
    "# Fixme: out drop from 12V to 4V\n",
    "# circuit.VCS('switch', 'gate', circuit.gnd, 'in', 'source', model='Switch', initial_state='off')\n",
    "# circuit.PulseVoltageSource('pulse', 'gate', circuit.gnd, 0@u_V, Vin, duty_cycle, period)\n",
    "# circuit.model('Switch', 'SW', ron=1@u_mΩ, roff=10@u_MΩ)\n",
    "\n",
    "# Fixme: Vgate => Vout ???\n",
    "circuit.X('Q', 'irf150', 'in', 'gate', 'source')\n",
    "# circuit.PulseVoltageSource('pulse', 'gate', 'source', 0@u_V, Vin, duty_cycle, period)\n",
    "circuit.R('gate', 'gate', 'clock', 1@u_Ω)\n",
    "circuit.PulseVoltageSource('pulse', 'clock', circuit.gnd, 0@u_V, 2.*Vin, duty_cycle, period)\n",
    "\n",
    "circuit.X('D', '1N5822', circuit.gnd, 'source')\n",
    "circuit.L(1, 'source', 1, L)\n",
    "circuit.R('L', 1, 'out', RL)\n",
    "circuit.C(1, 'out', circuit.gnd, Cout) # , initial_condition=0@u_V\n",
    "circuit.R('load', 'out', circuit.gnd, Rload)\n",
    "\n",
    "simulator = circuit.simulator(temperature=25, nominal_temperature=25)\n",
    "analysis = simulator.transient(step_time=period/300, end_time=period*150)\n",
    "\n",
    "figure, ax = plt.subplots(figsize=(20, 10))\n",
    "\n",
    "ax.plot(analysis.out)\n",
    "ax.plot(analysis['source'])\n",
    "# ax.plot(analysis['source'] - analysis['out'])\n",
    "# ax.plot(analysis['gate'])\n",
    "ax.axhline(y=float(Vout), color='red')\n",
    "ax.legend(('Vout [V]', 'Vsource [V]'), loc=(.8,.8))\n",
    "ax.grid()\n",
    "ax.set_xlabel('t [s]')\n",
    "ax.set_ylabel('[V]')\n",
    "\n",
    "plt.tight_layout()\n",
    "\n"
   ]
  }
 ],
 "metadata": {
  "kernelspec": {
   "display_name": "Python 3",
   "language": "python",
   "name": "python3"
  },
  "language_info": {
   "file_extension": ".py",
   "mimetype": "text/x-python",
   "name": "python",
   "nbconvert_exporter": "python",
   "pygments_lexer": "ipython3",
   "version": "3.10.13"
  }
 },
 "nbformat": 4,
 "nbformat_minor": 2
}

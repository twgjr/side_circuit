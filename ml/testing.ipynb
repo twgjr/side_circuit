{
 "cells": [
  {
   "cell_type": "code",
   "execution_count": 1,
   "metadata": {},
   "outputs": [],
   "source": [
    "import torch\n",
    "from torch import nn\n",
    "from circuits import Circuit,Kinds\n",
    "from learn import Trainer\n",
    "from models import Solver\n",
    "from models import State\n",
    "from data import Preprocess"
   ]
  },
  {
   "cell_type": "code",
   "execution_count": 2,
   "metadata": {},
   "outputs": [
    {
     "name": "stdout",
     "output_type": "stream",
     "text": [
      "Using cpu device\n"
     ]
    }
   ],
   "source": [
    "# Get cpu or gpu device for training.\n",
    "# device = \"cuda\" if torch.cuda.is_available() else \"cpu\"\n",
    "device = \"cpu\"\n",
    "print(f\"Using {device} device\")\n",
    "\n",
    "# torch.autograd.set_detect_anomaly(True)\n",
    "torch.set_printoptions(precision=3, linewidth=200)"
   ]
  },
  {
   "cell_type": "code",
   "execution_count": 3,
   "metadata": {},
   "outputs": [],
   "source": [
    "vr = Circuit()\n",
    "vr.ring(Kinds.IVS,Kinds.R,1)\n",
    "vr.elements[0].attr = 2\n",
    "vr.elements[-1].i = 1e6"
   ]
  },
  {
   "cell_type": "code",
   "execution_count": 4,
   "metadata": {},
   "outputs": [
    {
     "name": "stdout",
     "output_type": "stream",
     "text": [
      "1000000.0\n",
      "2\n",
      "2\n"
     ]
    },
    {
     "name": "stderr",
     "output_type": "stream",
     "text": [
      "c:\\Users\\terry\\OneDrive\\Documents\\GitHub\\side_circuit\\ml\\circuits.py:104: FutureWarning: incidence_matrix will return a scipy.sparse array instead of a matrix in Networkx 3.0.\n",
      "  M_scipy = nx.incidence_matrix(G=self.nx_graph(),oriented=True)\n"
     ]
    },
    {
     "name": "stdout",
     "output_type": "stream",
     "text": [
      "init target: [-1.0, 1e-06, 1.0, 0.5, 1.0, 1.0]\n",
      "init params: Parameter containing:\n",
      "tensor([1.000, 0.600], requires_grad=True)\n",
      "init loss: 0.5\n"
     ]
    }
   ],
   "source": [
    "input = Preprocess(vr)\n",
    "model = Solver(input=input, state=State.Solve)\n",
    "optimizer = torch.optim.Adam(params=model.parameters(),lr=0.1)\n",
    "trainer = Trainer(model,optimizer,nn.MSELoss())\n",
    "loss, _ = trainer.train()\n",
    "print(f'init target: {model.input.target}')\n",
    "print(f'init params: {model.attr}')\n",
    "print(f'init loss: {loss.item()}')"
   ]
  },
  {
   "cell_type": "code",
   "execution_count": 5,
   "metadata": {},
   "outputs": [
    {
     "name": "stdout",
     "output_type": "stream",
     "text": [
      "Done! at 72 passes, 1.1368683772161603e-13 loss\n",
      "norm i\n",
      "tensor([[-0.997],\n",
      "        [ 0.997]], grad_fn=<SliceBackward0>)\n",
      "norm v\n",
      "tensor([[1.],\n",
      "        [1.]], grad_fn=<SliceBackward0>)\n",
      "real i\n",
      "tensor([[-997160.312],\n",
      "        [ 997160.312]], grad_fn=<MulBackward0>)\n",
      "real v\n",
      "tensor([[2.],\n",
      "        [2.]], grad_fn=<MulBackward0>)\n",
      "norm attr\n",
      "Parameter containing:\n",
      "tensor([1.000, 1.003], requires_grad=True)\n",
      "real attributes\n",
      "tensor([2.000e-06, 2.006e-06], grad_fn=<MulBackward0>)\n"
     ]
    }
   ],
   "source": [
    "num_epochs = 1000\n",
    "prev_loss = 0.1\n",
    "\n",
    "epoch = 0\n",
    "while(epoch < num_epochs):\n",
    "    loss, _ = trainer.train()\n",
    "    if(loss < 1e-10):\n",
    "            break\n",
    "    epoch += 1\n",
    "    loss_change = abs(loss - prev_loss) / prev_loss\n",
    "    prev_loss = loss\n",
    "\n",
    "print(f'Done! at {epoch} passes, {loss.item()} loss')\n",
    "solution = model()\n",
    "i_norm, v_norm = model.split_solution(solution)\n",
    "print('norm i')\n",
    "print(i_norm)\n",
    "print('norm v')\n",
    "print(v_norm)\n",
    "i_real, v_real = model.denorm_solution(solution)\n",
    "print('real i')\n",
    "print(i_real)\n",
    "print('real v')\n",
    "print(v_real)\n",
    "print('norm attr')\n",
    "print(model.attr)\n",
    "print('real attributes')\n",
    "print(model.attr*model.r_base_from_i_v())"
   ]
  }
 ],
 "metadata": {
  "kernelspec": {
   "display_name": "ml",
   "language": "python",
   "name": "python3"
  },
  "language_info": {
   "codemirror_mode": {
    "name": "ipython",
    "version": 3
   },
   "file_extension": ".py",
   "mimetype": "text/x-python",
   "name": "python",
   "nbconvert_exporter": "python",
   "pygments_lexer": "ipython3",
   "version": "3.10.8"
  },
  "orig_nbformat": 4,
  "vscode": {
   "interpreter": {
    "hash": "3217f10b4e7366dd1a6cbf73464f125221bf8686d6dfc23b58c931b1c5e4bd4d"
   }
  }
 },
 "nbformat": 4,
 "nbformat_minor": 2
}

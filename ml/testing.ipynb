{
 "cells": [
  {
   "cell_type": "code",
   "execution_count": 1,
   "metadata": {},
   "outputs": [],
   "source": [
    "import torch\n",
    "from torch import nn\n",
    "import circuits as ckt\n",
    "from circuits import Element,Kinds\n",
    "import learn as lrn\n",
    "from models import Solver\n",
    "from models import State\n",
    "from data import Input"
   ]
  },
  {
   "cell_type": "code",
   "execution_count": 2,
   "metadata": {},
   "outputs": [
    {
     "name": "stdout",
     "output_type": "stream",
     "text": [
      "Using cpu device\n"
     ]
    }
   ],
   "source": [
    "# Get cpu or gpu device for training.\n",
    "# device = \"cuda\" if torch.cuda.is_available() else \"cpu\"\n",
    "device = \"cpu\"\n",
    "print(f\"Using {device} device\")\n",
    "\n",
    "# torch.autograd.set_detect_anomaly(True)\n",
    "torch.set_printoptions(precision=2, linewidth=200)"
   ]
  },
  {
   "attachments": {},
   "cell_type": "markdown",
   "metadata": {},
   "source": [
    "# Generate Input Data for a Simple Circuit\n",
    "Circuit is an independent voltage source and a resistor."
   ]
  },
  {
   "cell_type": "code",
   "execution_count": 3,
   "metadata": {},
   "outputs": [
    {
     "name": "stdout",
     "output_type": "stream",
     "text": [
      "Circuit with 4 nodes and 4 elements\n",
      "[0, 1, 2, 3]\n",
      "[(IVS, 3, 0), (R, 1, 0), (R, 2, 1), (R, 3, 2)]\n",
      "[(3, {}), (0, {}), (1, {}), (2, {})]\n",
      "[(3, 0, 0, {'kind': <Kinds.IVS: 0>, 'i': -10, 'v': None, 'attr': 1}), (3, 2, 0, {'kind': <Kinds.R: 2>, 'i': None, 'v': None, 'attr': None}), (1, 0, 0, {'kind': <Kinds.R: 2>, 'i': None, 'v': None, 'attr': None}), (2, 1, 0, {'kind': <Kinds.R: 2>, 'i': None, 'v': None, 'attr': None})]\n"
     ]
    },
    {
     "data": {
      "image/png": "[encoded data removed]",
      "text/plain": [
       "<Figure size 640x480 with 1 Axes>"
      ]
     },
     "metadata": {},
     "output_type": "display_data"
    }
   ],
   "source": [
    "vr = ckt.Circuit()\n",
    "\n",
    "source = Element(circuit=vr,kind=Kinds.IVS,attr=1,i=-10)\n",
    "load =Element(circuit=vr,kind=Kinds.R)\n",
    "\n",
    "vr.ring(source,load,3)\n",
    "vr\n",
    "\n",
    "print(vr)\n",
    "print(vr.nodes)\n",
    "print(vr.elements)\n",
    "vr.draw()\n",
    "print(vr.nx_graph().nodes().data())\n",
    "print(vr.nx_graph().edges(data=True,keys=True))"
   ]
  },
  {
   "attachments": {},
   "cell_type": "markdown",
   "metadata": {},
   "source": [
    "# Create Solver"
   ]
  },
  {
   "cell_type": "code",
   "execution_count": 4,
   "metadata": {},
   "outputs": [
    {
     "name": "stderr",
     "output_type": "stream",
     "text": [
      "c:\\Users\\terry\\OneDrive\\Documents\\GitHub\\side_circuit\\ml\\circuits.py:73: FutureWarning: incidence_matrix will return a scipy.sparse array instead of a matrix in Networkx 3.0.\n",
      "  M_scipy = nx.incidence_matrix(G=self.nx_graph(),oriented=True)\n"
     ]
    }
   ],
   "source": [
    "input = Input(vr)"
   ]
  },
  {
   "cell_type": "code",
   "execution_count": 5,
   "metadata": {},
   "outputs": [
    {
     "data": {
      "text/plain": [
       "tensor([[-0.80],\n",
       "        [ 0.80],\n",
       "        [ 0.80],\n",
       "        [ 0.80],\n",
       "        [ 1.00],\n",
       "        [ 0.22],\n",
       "        [ 0.14],\n",
       "        [ 0.64],\n",
       "        [-0.22],\n",
       "        [ 0.78],\n",
       "        [ 0.64]], grad_fn=<LinalgSolveExBackward0>)"
      ]
     },
     "execution_count": 5,
     "metadata": {},
     "output_type": "execute_result"
    }
   ],
   "source": [
    "import time\n",
    "\n",
    "model = Solver(input=input,attr=input.attr_param, state=State.Solve)\n",
    "start_time = time.time()\n",
    "X = model()\n",
    "end_time = time.time()\n",
    "X"
   ]
  },
  {
   "cell_type": "code",
   "execution_count": 6,
   "metadata": {},
   "outputs": [
    {
     "name": "stdout",
     "output_type": "stream",
     "text": [
      "execution time = 1.9996166229248047 ms\n"
     ]
    }
   ],
   "source": [
    "print(f'execution time = {(end_time - start_time)*1000} ms')"
   ]
  },
  {
   "attachments": {},
   "cell_type": "markdown",
   "metadata": {},
   "source": [
    "# Learn attributes"
   ]
  },
  {
   "cell_type": "code",
   "execution_count": 7,
   "metadata": {},
   "outputs": [
    {
     "name": "stdout",
     "output_type": "stream",
     "text": [
      "init params: Parameter containing:\n",
      "tensor([[1.00],\n",
      "        [0.27],\n",
      "        [0.16],\n",
      "        [0.79]], requires_grad=True)\n",
      "init loss: 42.36415100097656\n",
      "Done! at 171 passes\n",
      "solution = tensor([10.00], grad_fn=<SelectBackward0>)\n",
      "attributes = Parameter containing:\n",
      "tensor([[ 1.00],\n",
      "        [-0.10],\n",
      "        [-0.21],\n",
      "        [ 0.42]], requires_grad=True)\n"
     ]
    }
   ],
   "source": [
    "num_epochs = 1000\n",
    "prev_loss = 0.1\n",
    "\n",
    "model = Solver(input=input, attr=input.attr_param, state=State.Solve)\n",
    "optimizer = torch.optim.Adam(params=model.parameters(),lr=0.01)\n",
    "loss, _ = lrn.train(model,optimizer,nn.MSELoss())\n",
    "print(f'init params: {input.attr_param}')\n",
    "print(f'init loss: {loss.item()}')\n",
    "\n",
    "epoch = 0\n",
    "\n",
    "while(epoch < num_epochs):\n",
    "    loss, _ = lrn.train(model,optimizer,nn.MSELoss())\n",
    "    if(loss < 1e-8):\n",
    "            break\n",
    "    epoch += 1\n",
    "    loss_change = abs(loss - prev_loss) / prev_loss\n",
    "    prev_loss = loss\n",
    "\n",
    "print(f'Done! at {epoch} passes')\n",
    "print(f'solution = {model()[1]}')\n",
    "print(f\"attributes = {input.attr_param}\")"
   ]
  }
 ],
 "metadata": {
  "kernelspec": {
   "display_name": "ml",
   "language": "python",
   "name": "python3"
  },
  "language_info": {
   "codemirror_mode": {
    "name": "ipython",
    "version": 3
   },
   "file_extension": ".py",
   "mimetype": "text/x-python",
   "name": "python",
   "nbconvert_exporter": "python",
   "pygments_lexer": "ipython3",
   "version": "3.10.8"
  },
  "orig_nbformat": 4,
  "vscode": {
   "interpreter": {
    "hash": "3217f10b4e7366dd1a6cbf73464f125221bf8686d6dfc23b58c931b1c5e4bd4d"
   }
  }
 },
 "nbformat": 4,
 "nbformat_minor": 2
}

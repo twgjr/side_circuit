{
 "cells": [
  {
   "cell_type": "code",
   "execution_count": 1,
   "metadata": {},
   "outputs": [],
   "source": [
    "import torch\n",
    "from circuits import Circuit,Kinds\n",
    "from learn import Trainer\n",
    "from data import Data"
   ]
  },
  {
   "cell_type": "code",
   "execution_count": 2,
   "metadata": {},
   "outputs": [
    {
     "name": "stdout",
     "output_type": "stream",
     "text": [
      "Using cpu device\n"
     ]
    }
   ],
   "source": [
    "# Get cpu or gpu device for training.\n",
    "# device = \"cuda\" if torch.cuda.is_available() else \"cpu\"\n",
    "device = \"cpu\"\n",
    "print(f\"Using {device} device\")\n",
    "\n",
    "# torch.autograd.set_detect_anomaly(True)\n",
    "torch.set_printoptions(precision=3, linewidth=200)"
   ]
  },
  {
   "cell_type": "code",
   "execution_count": 3,
   "metadata": {},
   "outputs": [
    {
     "name": "stdout",
     "output_type": "stream",
     "text": [
      "[(IVS, 1, 0), (R, 1, 0), (R, 1, 0)]\n"
     ]
    },
    {
     "data": {
      "image/png": "[encoded data removed]",
      "text/plain": [
       "<Figure size 640x480 with 1 Axes>"
      ]
     },
     "metadata": {},
     "output_type": "display_data"
    }
   ],
   "source": [
    "vr = Circuit()\n",
    "# vr.ring(Kinds.IVS,Kinds.R,2)\n",
    "vr.ladder(Kinds.IVS,Kinds.R,2)\n",
    "vr.elements[0].attr = 1e6\n",
    "vr.elements[-1].v = 1\n",
    "print(vr.elements)\n",
    "vr.draw()"
   ]
  },
  {
   "cell_type": "code",
   "execution_count": 4,
   "metadata": {},
   "outputs": [
    {
     "name": "stderr",
     "output_type": "stream",
     "text": [
      "c:\\Users\\terry\\OneDrive\\Documents\\GitHub\\side_circuit\\ml\\circuits.py:111: FutureWarning: incidence_matrix will return a scipy.sparse array instead of a matrix in Networkx 3.0.\n",
      "  M_scipy = nx.incidence_matrix(G=self.nx_graph(),oriented=True)\n"
     ]
    }
   ],
   "source": [
    "data = Data(vr)\n",
    "trainer = Trainer(data, 1e-1)"
   ]
  },
  {
   "cell_type": "code",
   "execution_count": 5,
   "metadata": {},
   "outputs": [
    {
     "ename": "IndexError",
     "evalue": "The shape of the mask [5, 1] at index 0 does not match the shape of the indexed tensor [6, 1] at index 0",
     "output_type": "error",
     "traceback": [
      "\u001b[1;31m---------------------------------------------------------------------------\u001b[0m",
      "\u001b[1;31mIndexError\u001b[0m                                Traceback (most recent call last)",
      "\u001b[1;32mc:\\Users\\terry\\OneDrive\\Documents\\GitHub\\side_circuit\\ml\\testing.ipynb Cell 5\u001b[0m in \u001b[0;36m3\n\u001b[0;32m      <a href='vscode-notebook-cell:/c%3A/Users/terry/OneDrive/Documents/GitHub/side_circuit/ml/testing.ipynb#W4sZmlsZQ%3D%3D?line=0'>1</a>\u001b[0m stable_threshold \u001b[39m=\u001b[39m \u001b[39m1e-5\u001b[39m\n\u001b[0;32m      <a href='vscode-notebook-cell:/c%3A/Users/terry/OneDrive/Documents/GitHub/side_circuit/ml/testing.ipynb#W4sZmlsZQ%3D%3D?line=1'>2</a>\u001b[0m loss_threshold \u001b[39m=\u001b[39m \u001b[39m1e-20\u001b[39m\n\u001b[1;32m----> <a href='vscode-notebook-cell:/c%3A/Users/terry/OneDrive/Documents/GitHub/side_circuit/ml/testing.ipynb#W4sZmlsZQ%3D%3D?line=2'>3</a>\u001b[0m i_sol,v_sol,a_sol,loss,epoch \u001b[39m=\u001b[39m trainer\u001b[39m.\u001b[39;49mrun(\u001b[39m1000\u001b[39;49m, stable_threshold, loss_threshold)\n\u001b[0;32m      <a href='vscode-notebook-cell:/c%3A/Users/terry/OneDrive/Documents/GitHub/side_circuit/ml/testing.ipynb#W4sZmlsZQ%3D%3D?line=3'>4</a>\u001b[0m vr\u001b[39m.\u001b[39mload(i_sol,v_sol,a_sol)\n\u001b[0;32m      <a href='vscode-notebook-cell:/c%3A/Users/terry/OneDrive/Documents/GitHub/side_circuit/ml/testing.ipynb#W4sZmlsZQ%3D%3D?line=4'>5</a>\u001b[0m i_sol,v_sol,a_sol,epoch\n",
      "File \u001b[1;32mc:\\Users\\terry\\OneDrive\\Documents\\GitHub\\side_circuit\\ml\\learn.py:40\u001b[0m, in \u001b[0;36mTrainer.run\u001b[1;34m(self, epochs, stable_threshold, loss_threshold)\u001b[0m\n\u001b[0;32m     34\u001b[0m target \u001b[39m=\u001b[39m torch\u001b[39m.\u001b[39mtensor(\n\u001b[0;32m     35\u001b[0m     \u001b[39mself\u001b[39m\u001b[39m.\u001b[39mmodel\u001b[39m.\u001b[39mdata\u001b[39m.\u001b[39mtarget_list(\n\u001b[0;32m     36\u001b[0m         \u001b[39mself\u001b[39m\u001b[39m.\u001b[39mmodel\u001b[39m.\u001b[39mi_base, \u001b[39mself\u001b[39m\u001b[39m.\u001b[39mmodel\u001b[39m.\u001b[39mv_base\n\u001b[0;32m     37\u001b[0m     ))\u001b[39m.\u001b[39mto(torch\u001b[39m.\u001b[39mfloat)\u001b[39m.\u001b[39munsqueeze(dim\u001b[39m=\u001b[39m\u001b[39m1\u001b[39m)\n\u001b[0;32m     38\u001b[0m target_mask \u001b[39m=\u001b[39m torch\u001b[39m.\u001b[39mtensor(\n\u001b[0;32m     39\u001b[0m     \u001b[39mself\u001b[39m\u001b[39m.\u001b[39mmodel\u001b[39m.\u001b[39mdata\u001b[39m.\u001b[39mtarget_mask_list())\u001b[39m.\u001b[39mto(torch\u001b[39m.\u001b[39mbool)\u001b[39m.\u001b[39munsqueeze(dim\u001b[39m=\u001b[39m\u001b[39m1\u001b[39m)\n\u001b[1;32m---> 40\u001b[0m loss, attr, preds \u001b[39m=\u001b[39m \u001b[39mself\u001b[39;49m\u001b[39m.\u001b[39;49mstep(target,target_mask)\n\u001b[0;32m     41\u001b[0m attr_stability \u001b[39m=\u001b[39m Stability(attr, stable_threshold)\n\u001b[0;32m     42\u001b[0m preds_stability \u001b[39m=\u001b[39m Stability(preds, stable_threshold)\n",
      "File \u001b[1;32mc:\\Users\\terry\\OneDrive\\Documents\\GitHub\\side_circuit\\ml\\learn.py:64\u001b[0m, in \u001b[0;36mTrainer.step\u001b[1;34m(self, target, target_mask)\u001b[0m\n\u001b[0;32m     62\u001b[0m \u001b[39mself\u001b[39m\u001b[39m.\u001b[39mmodel\u001b[39m.\u001b[39mtrain()\n\u001b[0;32m     63\u001b[0m preds \u001b[39m=\u001b[39m \u001b[39mself\u001b[39m\u001b[39m.\u001b[39mmodel()\n\u001b[1;32m---> 64\u001b[0m loss \u001b[39m=\u001b[39m \u001b[39mself\u001b[39m\u001b[39m.\u001b[39mloss_fn(preds[target_mask[:\u001b[39m-\u001b[39;49m\u001b[39m1\u001b[39;49m]], target[target_mask])\n\u001b[0;32m     65\u001b[0m \u001b[39mself\u001b[39m\u001b[39m.\u001b[39mmodel\u001b[39m.\u001b[39mzero_grad()\n\u001b[0;32m     66\u001b[0m loss\u001b[39m.\u001b[39mbackward()\n",
      "\u001b[1;31mIndexError\u001b[0m: The shape of the mask [5, 1] at index 0 does not match the shape of the indexed tensor [6, 1] at index 0"
     ]
    }
   ],
   "source": [
    "stable_threshold = 1e-5\n",
    "loss_threshold = 1e-20\n",
    "i_sol,v_sol,a_sol,loss,epoch = trainer.run(1000, stable_threshold, loss_threshold)\n",
    "vr.load(i_sol,v_sol,a_sol)\n",
    "i_sol,v_sol,a_sol,epoch"
   ]
  },
  {
   "cell_type": "code",
   "execution_count": null,
   "metadata": {},
   "outputs": [
    {
     "data": {
      "text/plain": [
       "(-787787.3125, 1000000.0, 1000000.0)"
      ]
     },
     "execution_count": 6,
     "metadata": {},
     "output_type": "execute_result"
    }
   ],
   "source": [
    "vr.elements[0].i, vr.elements[0].v, vr.elements[0].attr"
   ]
  },
  {
   "cell_type": "code",
   "execution_count": null,
   "metadata": {},
   "outputs": [
    {
     "data": {
      "text/plain": [
       "(787787.3125, 999999.0, 1269376.875)"
      ]
     },
     "execution_count": 7,
     "metadata": {},
     "output_type": "execute_result"
    }
   ],
   "source": [
    "vr.elements[1].i, vr.elements[1].v, vr.elements[1].attr"
   ]
  },
  {
   "cell_type": "code",
   "execution_count": null,
   "metadata": {},
   "outputs": [
    {
     "data": {
      "text/plain": [
       "(787787.3125, 1.0, 1.2693780660629272)"
      ]
     },
     "execution_count": 8,
     "metadata": {},
     "output_type": "execute_result"
    }
   ],
   "source": [
    "vr.elements[2].i, vr.elements[2].v, vr.elements[2].attr"
   ]
  }
 ],
 "metadata": {
  "kernelspec": {
   "display_name": "ml",
   "language": "python",
   "name": "python3"
  },
  "language_info": {
   "codemirror_mode": {
    "name": "ipython",
    "version": 3
   },
   "file_extension": ".py",
   "mimetype": "text/x-python",
   "name": "python",
   "nbconvert_exporter": "python",
   "pygments_lexer": "ipython3",
   "version": "3.10.8"
  },
  "orig_nbformat": 4,
  "vscode": {
   "interpreter": {
    "hash": "3217f10b4e7366dd1a6cbf73464f125221bf8686d6dfc23b58c931b1c5e4bd4d"
   }
  }
 },
 "nbformat": 4,
 "nbformat_minor": 2
}

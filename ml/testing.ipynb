{
 "cells": [
  {
   "cell_type": "code",
   "execution_count": 1,
   "metadata": {},
   "outputs": [],
   "source": [
    "import torch\n",
    "from torch import nn\n",
    "import circuits as ckt\n",
    "import learn as lrn\n",
    "from models import Solver\n",
    "from inputs import Input"
   ]
  },
  {
   "cell_type": "code",
   "execution_count": 2,
   "metadata": {},
   "outputs": [
    {
     "name": "stdout",
     "output_type": "stream",
     "text": [
      "Using cpu device\n"
     ]
    }
   ],
   "source": [
    "# Get cpu or gpu device for training.\n",
    "# device = \"cuda\" if torch.cuda.is_available() else \"cpu\"\n",
    "device = \"cpu\"\n",
    "print(f\"Using {device} device\")\n",
    "\n",
    "# torch.autograd.set_detect_anomaly(True)"
   ]
  },
  {
   "attachments": {},
   "cell_type": "markdown",
   "metadata": {},
   "source": [
    "# Generate Input Data for a Simple Circuit\n",
    "Circuit is an independent voltage source and a resistor."
   ]
  },
  {
   "cell_type": "code",
   "execution_count": 3,
   "metadata": {},
   "outputs": [
    {
     "name": "stdout",
     "output_type": "stream",
     "text": [
      "Circuit with 3 nodes and 3 elements\n",
      "[0, 1, 2]\n",
      "[(2 , 0), (1 , 0), (2 , 1)]\n",
      "[(2, {}), (0, {}), (1, {})]\n",
      "[(2, 0, 0, {'kind': <Kinds.IVS: 0>, 'i': None, 'v': None, 'attr': 1}), (2, 1, 0, {'kind': <Kinds.R: 2>, 'i': None, 'v': 0.5, 'attr': None}), (1, 0, 0, {'kind': <Kinds.R: 2>, 'i': None, 'v': None, 'attr': 10})]\n"
     ]
    },
    {
     "data": {
      "image/png": "[encoded data removed]",
      "text/plain": [
       "<Figure size 640x480 with 1 Axes>"
      ]
     },
     "metadata": {},
     "output_type": "display_data"
    }
   ],
   "source": [
    "vr = ckt.Circuit()\n",
    "\n",
    "# v_source = vr.add_element(kind=ckt.Kinds.IVS)\n",
    "# r1 = vr.add_element(kind=ckt.Kinds.R)\n",
    "# v_source.connect(v_source.high, r1.high)\n",
    "# v_source.connect(v_source.low, r1.low)\n",
    "# Case 1 all resistances known\n",
    "# v_source.attr = 1\n",
    "# r1.attr = 1e6\n",
    "# # Case 2 one resisance unknown\n",
    "# v_source.attr = 1\n",
    "# v_source.i = -10\n",
    "# # Case 3 one voltage and one current known\n",
    "# v_source.attr = 1\n",
    "# r1.i = 10\n",
    "\n",
    "v_source = vr.add_element(kind=ckt.Kinds.IVS)\n",
    "r1 = vr.add_element(kind=ckt.Kinds.R)\n",
    "r2 = vr.add_element(kind=ckt.Kinds.R)\n",
    "v_source.connect(v_source.high, r1.high)\n",
    "r1.connect(r1.low, r2.high)\n",
    "v_source.connect(v_source.low, r2.low)\n",
    "# # Case 1 all resistances known\n",
    "# v_source.attr = 1\n",
    "# r1.attr = 1e6\n",
    "# r2.attr = 1e6\n",
    "# # Case 2 one resisance unknown\n",
    "v_source.attr = 1\n",
    "r1.attr = 10\n",
    "r2.v = 0.5\n",
    "\n",
    "print(vr)\n",
    "print(vr.nodes)\n",
    "print(vr.elements)\n",
    "vr.draw()\n",
    "print(vr.nx_graph().nodes().data())\n",
    "print(vr.nx_graph().edges(data=True,keys=True))"
   ]
  },
  {
   "attachments": {},
   "cell_type": "markdown",
   "metadata": {},
   "source": [
    "# Create Solver"
   ]
  },
  {
   "cell_type": "code",
   "execution_count": 4,
   "metadata": {},
   "outputs": [
    {
     "name": "stderr",
     "output_type": "stream",
     "text": [
      "c:\\Users\\terry\\OneDrive\\Documents\\GitHub\\side_circuit\\ml\\circuits.py:65: FutureWarning: incidence_matrix will return a scipy.sparse array instead of a matrix in Networkx 3.0.\n",
      "  M_scipy = nx.incidence_matrix(G=self.nx_graph(),oriented=True)\n"
     ]
    }
   ],
   "source": [
    "input = Input(vr)"
   ]
  },
  {
   "cell_type": "code",
   "execution_count": 5,
   "metadata": {},
   "outputs": [],
   "source": [
    "import time\n",
    "start_time = time.time()\n",
    "model = Solver(input=input,attr=input.attr_param)\n",
    "X = model()\n",
    "end_time = time.time()"
   ]
  },
  {
   "cell_type": "code",
   "execution_count": 6,
   "metadata": {},
   "outputs": [
    {
     "name": "stdout",
     "output_type": "stream",
     "text": [
      "execution time = 2.0055770874023438 ms\n"
     ]
    }
   ],
   "source": [
    "print(f'execution time = {(end_time - start_time)*1000} ms')"
   ]
  },
  {
   "cell_type": "code",
   "execution_count": 7,
   "metadata": {},
   "outputs": [
    {
     "data": {
      "text/plain": [
       "(tensor([[ -1.0000,  -1.0000,   0.0000,   0.0000,   0.0000,   0.0000,   0.0000,\n",
       "            0.0000],\n",
       "         [  1.0000,   0.0000,   1.0000,   0.0000,   0.0000,   0.0000,   0.0000,\n",
       "            0.0000],\n",
       "         [  0.0000,   0.0000,   0.0000,   1.0000,   0.0000,   0.0000,   1.0000,\n",
       "           -1.0000],\n",
       "         [  0.0000,   0.0000,   0.0000,   0.0000,   1.0000,   0.0000,   1.0000,\n",
       "           -0.0000],\n",
       "         [  0.0000,   0.0000,   0.0000,   0.0000,   0.0000,   1.0000,  -0.0000,\n",
       "           -1.0000],\n",
       "         [  0.0000,   0.0000,   0.0000,   1.0000,   0.0000,   0.0000,   0.0000,\n",
       "            0.0000],\n",
       "         [  0.0000, -10.0000,   0.0000,   0.0000,   1.0000,   0.0000,   0.0000,\n",
       "            0.0000],\n",
       "         [  0.0000,   0.0000,  -0.7709,   0.0000,   0.0000,   1.0000,   0.0000,\n",
       "            0.0000],\n",
       "         [  0.0000,   0.0000,   0.0000,   0.0000,   0.0000,   1.0000,   0.0000,\n",
       "            0.0000]], grad_fn=<CatBackward0>),\n",
       " tensor([[0.0000],\n",
       "         [0.0000],\n",
       "         [0.0000],\n",
       "         [0.0000],\n",
       "         [0.0000],\n",
       "         [1.0000],\n",
       "         [0.0000],\n",
       "         [0.0000],\n",
       "         [0.5000]], grad_fn=<CatBackward0>))"
      ]
     },
     "execution_count": 7,
     "metadata": {},
     "output_type": "execute_result"
    }
   ],
   "source": [
    "model.build()"
   ]
  },
  {
   "attachments": {},
   "cell_type": "markdown",
   "metadata": {},
   "source": [
    "# Learn attributes"
   ]
  },
  {
   "cell_type": "code",
   "execution_count": 8,
   "metadata": {},
   "outputs": [
    {
     "name": "stdout",
     "output_type": "stream",
     "text": [
      "init params: Parameter containing:\n",
      "tensor([[ 1.0000],\n",
      "        [10.0000],\n",
      "        [ 0.7809]], requires_grad=True)\n",
      "init loss: 0.007003059610724449\n",
      "Done! at 7270 passes\n",
      "solution = tensor([[-0.0522],\n",
      "        [ 0.0501],\n",
      "        [ 0.0543],\n",
      "        [ 1.0002],\n",
      "        [ 0.5013],\n",
      "        [ 0.4996],\n",
      "        [-0.5011],\n",
      "        [ 0.4994]], grad_fn=<LinalgLstsqBackward0>)\n",
      "attributes = Parameter containing:\n",
      "tensor([[ 1.0000],\n",
      "        [10.0000],\n",
      "        [ 9.1999]], requires_grad=True)\n"
     ]
    }
   ],
   "source": [
    "num_epochs = 10000\n",
    "prev_loss = 0.1\n",
    "\n",
    "model = Solver(input=input, attr=input.attr_param)\n",
    "optimizer = torch.optim.Adam(params=model.parameters(),lr=0.01)\n",
    "loss, _ = lrn.train(model,optimizer,nn.MSELoss(),None,None)\n",
    "print(f'init params: {input.attr_param}')\n",
    "print(f'init loss: {loss.item()}')\n",
    "\n",
    "epoch = 0\n",
    "\n",
    "while(epoch < num_epochs):\n",
    "    loss, _ = lrn.train(model,optimizer,nn.MSELoss(),None,None)\n",
    "    if(loss < 1e-6):\n",
    "            break\n",
    "    epoch += 1\n",
    "    loss_change = abs(loss - prev_loss) / prev_loss\n",
    "    prev_loss = loss\n",
    "\n",
    "print(f'Done! at {epoch} passes')\n",
    "print(f'solution = {model()[1]}')\n",
    "print(f\"attributes = {input.attr_param}\")"
   ]
  }
 ],
 "metadata": {
  "kernelspec": {
   "display_name": "ml",
   "language": "python",
   "name": "python3"
  },
  "language_info": {
   "codemirror_mode": {
    "name": "ipython",
    "version": 3
   },
   "file_extension": ".py",
   "mimetype": "text/x-python",
   "name": "python",
   "nbconvert_exporter": "python",
   "pygments_lexer": "ipython3",
   "version": "3.10.8"
  },
  "orig_nbformat": 4,
  "vscode": {
   "interpreter": {
    "hash": "3217f10b4e7366dd1a6cbf73464f125221bf8686d6dfc23b58c931b1c5e4bd4d"
   }
  }
 },
 "nbformat": 4,
 "nbformat_minor": 2
}

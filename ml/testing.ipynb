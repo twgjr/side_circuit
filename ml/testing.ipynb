{
 "cells": [
  {
   "cell_type": "code",
   "execution_count": 91,
   "metadata": {},
   "outputs": [],
   "source": [
    "import torch\n",
    "from torch import nn\n",
    "from circuits import Circuit,Kinds\n",
    "from learn import Trainer\n",
    "from models import Solver\n",
    "from models import State\n",
    "from data import Preprocess"
   ]
  },
  {
   "cell_type": "code",
   "execution_count": 92,
   "metadata": {},
   "outputs": [
    {
     "name": "stdout",
     "output_type": "stream",
     "text": [
      "Using cpu device\n"
     ]
    }
   ],
   "source": [
    "# Get cpu or gpu device for training.\n",
    "# device = \"cuda\" if torch.cuda.is_available() else \"cpu\"\n",
    "device = \"cpu\"\n",
    "print(f\"Using {device} device\")\n",
    "\n",
    "# torch.autograd.set_detect_anomaly(True)\n",
    "torch.set_printoptions(precision=3, linewidth=200)"
   ]
  },
  {
   "cell_type": "code",
   "execution_count": 93,
   "metadata": {},
   "outputs": [],
   "source": [
    "vr = Circuit()\n",
    "vr.ring(Kinds.IVS,Kinds.R,3)\n",
    "vr.elements[0].attr = 1000\n",
    "vr.elements[-1].v = 1"
   ]
  },
  {
   "cell_type": "code",
   "execution_count": 94,
   "metadata": {},
   "outputs": [
    {
     "name": "stdout",
     "output_type": "stream",
     "text": [
      "1\n",
      "1000\n",
      "1000\n",
      "init target: [1.0, 1.0, 1.0, 1.0, 1.0, 0.001, 0.001, 0.001, 1.0, 1.0, 1.0, 1.0]\n",
      "init params: Parameter containing:\n",
      "tensor([1.000e+00, 1.010e-01, 1.010e-01, 1.000e-12], requires_grad=True)\n",
      "init loss: 0.055222731083631516\n"
     ]
    }
   ],
   "source": [
    "input = Preprocess(vr)\n",
    "model = Solver(input=input, state=State.Solve)\n",
    "optimizer = torch.optim.Adam(params=model.parameters(),lr=0.1)\n",
    "trainer = Trainer(model,optimizer,nn.MSELoss())\n",
    "loss, _ = trainer.train()\n",
    "print(f'init target: {model.input.target}')\n",
    "print(f'init params: {model.attr}')\n",
    "print(f'init loss: {loss.item()}')"
   ]
  },
  {
   "cell_type": "code",
   "execution_count": 95,
   "metadata": {},
   "outputs": [
    {
     "name": "stdout",
     "output_type": "stream",
     "text": [
      "Done! at 531 passes, 9.478366442411401e-16 loss\n",
      "norm i\n",
      "tensor([[-0.830],\n",
      "        [ 0.830],\n",
      "        [ 0.830],\n",
      "        [ 0.830]], grad_fn=<SliceBackward0>)\n",
      "norm v\n",
      "tensor([[1.000e+00],\n",
      "        [4.995e-01],\n",
      "        [4.995e-01],\n",
      "        [1.000e-03]], grad_fn=<SliceBackward0>)\n",
      "real i\n",
      "tensor([[-0.830],\n",
      "        [ 0.830],\n",
      "        [ 0.830],\n",
      "        [ 0.830]], grad_fn=<MulBackward0>)\n",
      "real v\n",
      "tensor([[1.000e+03],\n",
      "        [4.995e+02],\n",
      "        [4.995e+02],\n",
      "        [1.000e+00]], grad_fn=<MulBackward0>)\n",
      "norm attr\n",
      "Parameter containing:\n",
      "tensor([1.000, 0.602, 0.602, 0.001], requires_grad=True)\n",
      "real attributes\n",
      "tensor([1000.000,  601.550,  601.550,    1.204], grad_fn=<MulBackward0>)\n"
     ]
    }
   ],
   "source": [
    "num_epochs = 1000\n",
    "prev_loss = 0.1\n",
    "\n",
    "epoch = 0\n",
    "while(epoch < num_epochs):\n",
    "    loss, _ = trainer.train()\n",
    "    if(loss < 1e-15):\n",
    "            break\n",
    "    epoch += 1\n",
    "    loss_change = abs(loss - prev_loss) / prev_loss\n",
    "    prev_loss = loss\n",
    "\n",
    "print(f'Done! at {epoch} passes, {loss.item()} loss')\n",
    "solution = model()\n",
    "i_norm, v_norm = model.split_solution(solution)\n",
    "print('norm i')\n",
    "print(i_norm)\n",
    "print('norm v')\n",
    "print(v_norm)\n",
    "i_real, v_real = model.denorm_solution(solution)\n",
    "print('real i')\n",
    "print(i_real)\n",
    "print('real v')\n",
    "print(v_real)\n",
    "print('norm attr')\n",
    "print(model.attr)\n",
    "print('real attributes')\n",
    "print(model.attr*model.r_base_from_i_v())"
   ]
  }
 ],
 "metadata": {
  "kernelspec": {
   "display_name": "ml",
   "language": "python",
   "name": "python3"
  },
  "language_info": {
   "codemirror_mode": {
    "name": "ipython",
    "version": 3
   },
   "file_extension": ".py",
   "mimetype": "text/x-python",
   "name": "python",
   "nbconvert_exporter": "python",
   "pygments_lexer": "ipython3",
   "version": "3.10.8"
  },
  "orig_nbformat": 4,
  "vscode": {
   "interpreter": {
    "hash": "3217f10b4e7366dd1a6cbf73464f125221bf8686d6dfc23b58c931b1c5e4bd4d"
   }
  }
 },
 "nbformat": 4,
 "nbformat_minor": 2
}

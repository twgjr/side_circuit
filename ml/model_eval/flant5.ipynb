{
 "cells": [
  {
   "cell_type": "code",
   "execution_count": 1,
   "metadata": {},
   "outputs": [
    {
     "name": "stderr",
     "output_type": "stream",
     "text": [
      "c:\\Users\\terry\\.conda\\envs\\training\\lib\\site-packages\\tqdm\\auto.py:21: TqdmWarning: IProgress not found. Please update jupyter and ipywidgets. See https://ipywidgets.readthedocs.io/en/stable/user_install.html\n",
      "  from .autonotebook import tqdm as notebook_tqdm\n",
      "You are using the default legacy behaviour of the <class 'transformers.models.t5.tokenization_t5.T5Tokenizer'>. If you see this, DO NOT PANIC! This is expected, and simply means that the `legacy` (previous) behavior will be used so nothing changes for you. If you want to use the new behaviour, set `legacy=False`. This should only be set if you understand what it means, and thouroughly read the reason why this was added as explained in https://github.com/huggingface/transformers/pull/24565\n"
     ]
    }
   ],
   "source": [
    "import torch\n",
    "from transformers import T5Tokenizer, T5ForConditionalGeneration\n",
    "\n",
    "tokenizer = T5Tokenizer.from_pretrained(\"google/flan-t5-large\")\n",
    "model = T5ForConditionalGeneration.from_pretrained(\"google/flan-t5-large\", device_map = \"auto\")"
   ]
  },
  {
   "cell_type": "code",
   "execution_count": 2,
   "metadata": {},
   "outputs": [],
   "source": [
    "def generate_until_eos(model, prompt, eos_token=\"</s>\"):\n",
    "    \"\"\"Generates text until the EOS token is generated.\n",
    "\n",
    "    Args:\n",
    "        model: A Transformer model.\n",
    "        prompt: The prompt to generate text from.\n",
    "        eos_token: The EOS token.\n",
    "\n",
    "    Returns:\n",
    "        The generated text.\n",
    "    \"\"\"\n",
    "\n",
    "    output_text = \"\"\n",
    "    for _ in range(100):\n",
    "        input_ids = tokenizer(prompt + output_text, return_tensors=\"pt\").input_ids.to(\"cuda\")\n",
    "        outputs = model.generate(input_ids)\n",
    "        generated_text = tokenizer.decode(outputs[0])\n",
    "        print(generated_text)\n",
    "\n",
    "        if eos_token in generated_text:\n",
    "        # The EOS token has been generated, so stop generating text.\n",
    "            break\n",
    "\n",
    "        # The EOS token has not been generated, so feed the output text back into the prompt and continue generating text.\n",
    "        output_text += generated_text\n",
    "\n",
    "    return output_text"
   ]
  },
  {
   "cell_type": "code",
   "execution_count": 22,
   "metadata": {},
   "outputs": [
    {
     "name": "stdout",
     "output_type": "stream",
     "text": [
      "<pad>Connect your computer to the Internet. Connect your computer to the Internet. Connect your computer to the\n",
      "<pad> Internet</s>\n"
     ]
    }
   ],
   "source": [
    "input_text = \"Can you outline the steps involved in setting up a home network?\"\n",
    "input_ids = tokenizer(input_text, return_tensors=\"pt\").input_ids.to(\"cuda\")\n",
    "\n",
    "# outputs = model.generate(input_ids)\n",
    "outputs = generate_until_eos(model, input_text)\n",
    "# print(tokenizer.decode(outputs[0]))"
   ]
  },
  {
   "cell_type": "code",
   "execution_count": null,
   "metadata": {},
   "outputs": [],
   "source": []
  }
 ],
 "metadata": {
  "kernelspec": {
   "display_name": "training",
   "language": "python",
   "name": "python3"
  },
  "language_info": {
   "codemirror_mode": {
    "name": "ipython",
    "version": 3
   },
   "file_extension": ".py",
   "mimetype": "text/x-python",
   "name": "python",
   "nbconvert_exporter": "python",
   "pygments_lexer": "ipython3",
   "version": "3.10.12"
  }
 },
 "nbformat": 4,
 "nbformat_minor": 2
}

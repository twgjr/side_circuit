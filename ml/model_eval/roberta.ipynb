{
 "cells": [
  {
   "cell_type": "code",
   "execution_count": null,
   "metadata": {},
   "outputs": [],
   "source": [
    "import torch\n",
    "from transformers import AutoTokenizer, RobertaForQuestionAnswering\n",
    "\n",
    "tokenizer = AutoTokenizer.from_pretrained(\"deepset/roberta-base-squad2\")\n",
    "model = T5ForConditionalGeneration.from_pretrained(\"google/flan-t5-large\", device_map = \"auto\")"
   ]
  },
  {
   "cell_type": "code",
   "execution_count": null,
   "metadata": {},
   "outputs": [],
   "source": [
    "def generate_until_eos(model, prompt, eos_token=\"</s>\"):\n",
    "    \"\"\"Generates text until the EOS token is generated.\n",
    "\n",
    "    Args:\n",
    "        model: A Transformer model.\n",
    "        prompt: The prompt to generate text from.\n",
    "        eos_token: The EOS token.\n",
    "\n",
    "    Returns:\n",
    "        The generated text.\n",
    "    \"\"\"\n",
    "\n",
    "    output_text = \"\"\n",
    "    for _ in range(100):\n",
    "        input_ids = tokenizer(prompt + output_text, return_tensors=\"pt\").input_ids.to(\"cuda\")\n",
    "        outputs = model.generate(input_ids)\n",
    "        generated_text = tokenizer.decode(outputs[0])\n",
    "        print(generated_text)\n",
    "\n",
    "        if eos_token in generated_text:\n",
    "        # The EOS token has been generated, so stop generating text.\n",
    "            break\n",
    "\n",
    "        # The EOS token has not been generated, so feed the output text back into the prompt and continue generating text.\n",
    "        output_text += generated_text\n",
    "\n",
    "    return output_text"
   ]
  },
  {
   "cell_type": "code",
   "execution_count": null,
   "metadata": {},
   "outputs": [],
   "source": [
    "input_text = \"Can you outline the steps involved in setting up a home network?\"\n",
    "input_ids = tokenizer(input_text, return_tensors=\"pt\").input_ids.to(\"cuda\")\n",
    "\n",
    "# outputs = model.generate(input_ids)\n",
    "outputs = generate_until_eos(model, input_text)\n",
    "# print(tokenizer.decode(outputs[0]))"
   ]
  },
  {
   "cell_type": "code",
   "execution_count": null,
   "metadata": {},
   "outputs": [],
   "source": []
  }
 ],
 "metadata": {
  "kernelspec": {
   "display_name": "training",
   "language": "python",
   "name": "python3"
  },
  "language_info": {
   "codemirror_mode": {
    "name": "ipython",
    "version": 3
   },
   "file_extension": ".py",
   "mimetype": "text/x-python",
   "name": "python",
   "nbconvert_exporter": "python",
   "pygments_lexer": "ipython3",
   "version": "3.10.12"
  }
 },
 "nbformat": 4,
 "nbformat_minor": 2
}

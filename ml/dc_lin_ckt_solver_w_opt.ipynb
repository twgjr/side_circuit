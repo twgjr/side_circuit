{
 "cells": [
  {
   "cell_type": "code",
   "execution_count": 1,
   "metadata": {},
   "outputs": [],
   "source": [
    "import torch\n",
    "from torch import nn\n",
    "import circuits as ckt\n",
    "import learn as lrn"
   ]
  },
  {
   "cell_type": "code",
   "execution_count": 2,
   "metadata": {},
   "outputs": [
    {
     "name": "stdout",
     "output_type": "stream",
     "text": [
      "Using cpu device\n"
     ]
    }
   ],
   "source": [
    "# Get cpu or gpu device for training.\n",
    "# device = \"cuda\" if torch.cuda.is_available() else \"cpu\"\n",
    "device = \"cpu\"\n",
    "print(f\"Using {device} device\")\n",
    "\n",
    "# torch.autograd.set_detect_anomaly(True)"
   ]
  },
  {
   "attachments": {},
   "cell_type": "markdown",
   "metadata": {},
   "source": [
    "# Generate Input Data for a Simple Circuit\n",
    "Circuit is an independent voltage source and a resistor."
   ]
  },
  {
   "cell_type": "code",
   "execution_count": 3,
   "metadata": {},
   "outputs": [
    {
     "name": "stdout",
     "output_type": "stream",
     "text": [
      "Circuit with 2 nodes and 2 elements\n",
      "[0, 1]\n",
      "[(1 , 0), (1 , 0)]\n",
      "[(1, {}), (0, {})]\n",
      "[(1, 0, 0, {'kind': <Kinds.IVS: 0>, 'i': -1000000.0, 'v': None, 'attr': 1}), (1, 0, 1, {'kind': <Kinds.R: 2>, 'i': None, 'v': None, 'attr': None})]\n"
     ]
    },
    {
     "data": {
      "image/png": "[encoded data removed]",
      "text/plain": [
       "<Figure size 640x480 with 1 Axes>"
      ]
     },
     "metadata": {},
     "output_type": "display_data"
    }
   ],
   "source": [
    "vr = ckt.Circuit()\n",
    "\n",
    "v_source = vr.add_element(kind=ckt.Kinds.IVS)\n",
    "r1 = vr.add_element(kind=ckt.Kinds.R)\n",
    "v_source.connect(v_source.high, r1.high)\n",
    "v_source.connect(v_source.low, r1.low)\n",
    "# Case 1 all resistances known\n",
    "# v_source.attr = 1\n",
    "# r1.attr = 1e6\n",
    "# # Case 2 one resisance unknown\n",
    "v_source.attr = 1\n",
    "v_source.i = -1e6\n",
    "\n",
    "# v_source = vr.add_element(kind=ckt.Kinds.IVS)\n",
    "# r1 = vr.add_element(kind=ckt.Kinds.R)\n",
    "# r2 = vr.add_element(kind=ckt.Kinds.R)\n",
    "# v_source.connect(v_source.high, r1.high)\n",
    "# r1.connect(r1.low, r2.high)\n",
    "# v_source.connect(v_source.low, r2.low)\n",
    "# # Case 1 all resistances known\n",
    "# v_source.attr = 1\n",
    "# r1.attr = 1e6\n",
    "# r2.attr = 1e6\n",
    "# # Case 2 one resisance unknown\n",
    "# v_source.attr = 1\n",
    "# r1.attr = 1e6\n",
    "# r2.v = 0.5\n",
    "\n",
    "print(vr)\n",
    "print(vr.nodes)\n",
    "print(vr.elements)\n",
    "vr.draw()\n",
    "print(vr.nx_graph().nodes().data())\n",
    "print(vr.nx_graph().edges(data=True,keys=True))"
   ]
  },
  {
   "attachments": {},
   "cell_type": "markdown",
   "metadata": {},
   "source": [
    "# Expected Sizes of Vectors"
   ]
  },
  {
   "cell_type": "code",
   "execution_count": 4,
   "metadata": {},
   "outputs": [
    {
     "name": "stdout",
     "output_type": "stream",
     "text": [
      "size of element currents, voltages, and attr = (2,1)\n",
      "size of node voltages = (2,1)\n"
     ]
    }
   ],
   "source": [
    "print(f'size of element currents, voltages, and attr = ({vr.num_elements()},1)')\n",
    "print(f'size of node voltages = ({vr.num_nodes()},1)')"
   ]
  },
  {
   "attachments": {},
   "cell_type": "markdown",
   "metadata": {},
   "source": [
    "# Inputs"
   ]
  },
  {
   "cell_type": "code",
   "execution_count": 5,
   "metadata": {},
   "outputs": [
    {
     "name": "stderr",
     "output_type": "stream",
     "text": [
      "c:\\Users\\terry\\OneDrive\\Documents\\GitHub\\side_circuit\\ml\\circuits.py:67: FutureWarning: incidence_matrix will return a scipy.sparse array instead of a matrix in Networkx 3.0.\n",
      "  M_scipy = nx.incidence_matrix(G=self.nx_graph(),oriented=True)\n"
     ]
    }
   ],
   "source": [
    "input_test = ckt.Input(vr)"
   ]
  },
  {
   "cell_type": "code",
   "execution_count": 6,
   "metadata": {},
   "outputs": [
    {
     "data": {
      "text/plain": [
       "tensor([[-1., -1.],\n",
       "        [ 1.,  1.]])"
      ]
     },
     "execution_count": 6,
     "metadata": {},
     "output_type": "execute_result"
    }
   ],
   "source": [
    "input_test.M"
   ]
  },
  {
   "cell_type": "code",
   "execution_count": 7,
   "metadata": {},
   "outputs": [
    {
     "data": {
      "text/plain": [
       "tensor([[-1., -1.]])"
      ]
     },
     "execution_count": 7,
     "metadata": {},
     "output_type": "execute_result"
    }
   ],
   "source": [
    "input_test.M_red"
   ]
  },
  {
   "attachments": {},
   "cell_type": "markdown",
   "metadata": {},
   "source": [
    "# Circuit Theory Functions"
   ]
  },
  {
   "cell_type": "code",
   "execution_count": 8,
   "metadata": {},
   "outputs": [
    {
     "data": {
      "text/plain": [
       "(Parameter containing:\n",
       " tensor([[-1.0000e+06],\n",
       "         [ 7.6070e-01]], requires_grad=True),\n",
       " Parameter containing:\n",
       " tensor([[1.0000],\n",
       "         [0.6267]], requires_grad=True),\n",
       " Parameter containing:\n",
       " tensor([[0.4924],\n",
       "         [0.7707]], requires_grad=True),\n",
       " Parameter containing:\n",
       " tensor([[1.0000],\n",
       "         [0.3918]], requires_grad=True))"
      ]
     },
     "execution_count": 8,
     "metadata": {},
     "output_type": "execute_result"
    }
   ],
   "source": [
    "init_params = input_test.init_params()\n",
    "init_params"
   ]
  },
  {
   "cell_type": "code",
   "execution_count": 9,
   "metadata": {},
   "outputs": [
    {
     "data": {
      "text/plain": [
       "tensor([[ 0.0000,  0.0000,  1.0000,  0.0000,  0.0000],\n",
       "        [ 0.0000, -0.3918,  0.0000,  1.0000,  0.0000]], grad_fn=<AddBackward0>)"
      ]
     },
     "execution_count": 9,
     "metadata": {},
     "output_type": "execute_result"
    }
   ],
   "source": [
    "input_test.X_row(init_params[ckt.Props.Attr.value])"
   ]
  },
  {
   "cell_type": "code",
   "execution_count": 10,
   "metadata": {},
   "outputs": [
    {
     "data": {
      "text/plain": [
       "{<Kinds.IVS: 0>: [True, False],\n",
       " <Kinds.ICS: 1>: [False, False],\n",
       " <Kinds.R: 2>: [False, True]}"
      ]
     },
     "execution_count": 10,
     "metadata": {},
     "output_type": "execute_result"
    }
   ],
   "source": [
    "input_test.kinds_map"
   ]
  },
  {
   "cell_type": "code",
   "execution_count": 11,
   "metadata": {},
   "outputs": [],
   "source": [
    "# input_test.s(init_params[ckt.Props.Attr.value])"
   ]
  },
  {
   "attachments": {},
   "cell_type": "markdown",
   "metadata": {},
   "source": [
    "# Define Models"
   ]
  },
  {
   "cell_type": "code",
   "execution_count": 12,
   "metadata": {},
   "outputs": [
    {
     "data": {
      "text/plain": [
       "tensor([[0., 0.],\n",
       "        [0., 0.]])"
      ]
     },
     "execution_count": 12,
     "metadata": {},
     "output_type": "execute_result"
    }
   ],
   "source": [
    "torch.zeros_like(input_test.M)"
   ]
  },
  {
   "cell_type": "code",
   "execution_count": 13,
   "metadata": {},
   "outputs": [
    {
     "data": {
      "text/plain": [
       "tensor([[1., 0.],\n",
       "        [0., 1.]])"
      ]
     },
     "execution_count": 13,
     "metadata": {},
     "output_type": "execute_result"
    }
   ],
   "source": [
    "torch.eye(input_test.circuit.num_elements())"
   ]
  },
  {
   "cell_type": "code",
   "execution_count": 14,
   "metadata": {},
   "outputs": [
    {
     "data": {
      "text/plain": [
       "tensor([[1.],\n",
       "        [1.]])"
      ]
     },
     "execution_count": 14,
     "metadata": {},
     "output_type": "execute_result"
    }
   ],
   "source": [
    "-input_test.M_red.T"
   ]
  },
  {
   "cell_type": "code",
   "execution_count": 15,
   "metadata": {},
   "outputs": [],
   "source": [
    "class Solve():\n",
    "    ''' \n",
    "    Sparse Tableau Formulation of circuit analysis, modeled as a machine learning\n",
    "    problem to learn element attributes using backprop and optimization.\n",
    "    '''\n",
    "    def __init__(self, input: ckt.Input, attr:nn.Parameter):\n",
    "        # super().__init__()\n",
    "        self.input = input\n",
    "        self.attr = None\n",
    "        if(attr != None):\n",
    "            # assign if used as standalone solver without optimizer\n",
    "            self.attr = attr.clone().detach().requires_grad_(False)\n",
    "        \n",
    "\n",
    "    def solve(self):\n",
    "        '''\n",
    "            Returns prediction given the IVS, ICS, and element attributes.  Uses \n",
    "            the linear algebra solution to the Sparse Tableau Formulation of the\n",
    "            circuit.\n",
    "            Prediction contains element currents, element voltages, and node \n",
    "            potentials. Node potentials are missing the reference node since it \n",
    "            is removed from the STF to avoid singular matrix A.\n",
    "            Output is 2D tensor of shape ( 2 * elements + nodes - 1, 1)\n",
    "        '''\n",
    "        A,b, i_base, v_base, r_base = self.build()\n",
    "        return self.denormalize(torch.linalg.solve(A,b),i_base,v_base)\n",
    "    \n",
    "    def normalize(self, attr:nn.Parameter):\n",
    "        # get values\n",
    "        currents = torch.tensor(self.input.inputs_map[ckt.Props.I])\n",
    "        voltages = torch.tensor(self.input.inputs_map[ckt.Props.V])\n",
    "        ics = attr[self.input.kinds_map[ckt.Kinds.ICS]]\n",
    "        ivs = attr[self.input.kinds_map[ckt.Kinds.IVS]]\n",
    "        r = attr[self.input.kinds_map[ckt.Kinds.R]]\n",
    "\n",
    "        max_currents = 1\n",
    "        max_ics = 1\n",
    "        if(currents.nelement() > 0):\n",
    "            max_currents = torch.max(torch.abs(currents)).item()\n",
    "        if(ics.nelement() > 0):\n",
    "            max_ics = torch.max(torch.abs(ics)).item()\n",
    "        max_i = max(max_currents,max_ics)\n",
    "\n",
    "        max_voltages = 1\n",
    "        max_ics = 1\n",
    "        if(voltages.nelement() > 0):\n",
    "            max_voltages = torch.max(torch.abs(voltages)).item()\n",
    "        if(ivs.nelement() > 0):\n",
    "            max_ivs = torch.max(torch.abs(ivs)).item()\n",
    "        max_v = max(max_voltages,max_ivs)\n",
    "\n",
    "        max_r = 1\n",
    "        if(r.nelement() > 0):\n",
    "            max_r = torch.max(torch.abs(r))\n",
    "        i_base = max(max_i,max_v/max_r)\n",
    "        v_base = max(max_v,max_i*max_r)\n",
    "        r_base = v_base/i_base\n",
    "        # print(f'bases: i={i_base}, v={v_base},r={r_base}')\n",
    "\n",
    "        # make norms\n",
    "        ics_norm = ics/i_base\n",
    "        ivs_norm = ivs/v_base\n",
    "        r_norm = r/r_base\n",
    "\n",
    "        attr_norm = torch.zeros_like(attr)\n",
    "        attr_norm[self.input.kinds_map[ckt.Kinds.ICS]] = ics_norm\n",
    "        attr_norm[self.input.kinds_map[ckt.Kinds.IVS]] = ivs_norm\n",
    "        attr_norm[self.input.kinds_map[ckt.Kinds.R]] = r_norm\n",
    "\n",
    "        return attr_norm, i_base, v_base, r_base\n",
    "    \n",
    "    def denormalize(self, solution, i_base, v_base):\n",
    "        num_elements = self.input.circuit.num_elements()\n",
    "        num_nodes = self.input.circuit.num_nodes()\n",
    "        i_denorm = solution[:num_elements] * i_base\n",
    "        v_denorm = solution[num_elements:2*num_elements] * v_base\n",
    "        pot_denorm = solution[2*num_elements:] * v_base\n",
    "\n",
    "        return torch.cat(tensors=(i_denorm,v_denorm,pot_denorm))\n",
    "\n",
    "    def build(self):\n",
    "        # inputs\n",
    "        attr_norm, i_base, v_base, r_base = self.normalize(self.attr)\n",
    "        s = self.input.s(attr_norm)\n",
    "        M = self.input.M\n",
    "        M_red = self.input.M_red\n",
    "        num_elements = self.input.circuit.num_elements()\n",
    "        num_nodes = self.input.circuit.num_nodes()\n",
    "                \n",
    "        # A matrix\n",
    "        kcl_row = torch.cat(tensors=(M_red,\n",
    "                                    torch.zeros_like(M_red),\n",
    "                                    torch.zeros_like(M_red[:,:-1])),dim=1)\n",
    "        kvl_row = torch.cat(tensors=(torch.zeros_like(M),\n",
    "                                    torch.eye(num_elements),\n",
    "                                    -M_red.T),dim=1)\n",
    "        e_row = self.input.X_row(attr_norm)\n",
    "        A = torch.cat(tensors=(kcl_row,kvl_row,e_row), dim=0)\n",
    "\n",
    "        # b matrix\n",
    "        kcl_zeros = torch.zeros(size=(num_nodes - 1,1))\n",
    "        kvl_zeros = torch.zeros(size=(num_elements,1))\n",
    "        b = torch.cat(tensors=(kvl_zeros,kcl_zeros,s), dim=0)\n",
    "        \n",
    "        return A,b, i_base, v_base, r_base"
   ]
  },
  {
   "attachments": {},
   "cell_type": "markdown",
   "metadata": {},
   "source": [
    "# Create Solver"
   ]
  },
  {
   "cell_type": "code",
   "execution_count": 16,
   "metadata": {},
   "outputs": [
    {
     "name": "stdout",
     "output_type": "stream",
     "text": [
      "tensor([[-11.9767],\n",
      "        [ 11.9767],\n",
      "        [  1.0000],\n",
      "        [  1.0000],\n",
      "        [ -1.0000]])\n"
     ]
    }
   ],
   "source": [
    "import time\n",
    "input = ckt.Input(vr)\n",
    "start_time = time.time()\n",
    "_,_,_,attr_param = input.init_params()\n",
    "model = Solve(input=input,attr=attr_param)\n",
    "solution = model.solve()\n",
    "end_time = time.time()\n",
    "print(solution)"
   ]
  },
  {
   "cell_type": "code",
   "execution_count": 17,
   "metadata": {},
   "outputs": [
    {
     "data": {
      "text/plain": [
       "tensor([[ True],\n",
       "        [False],\n",
       "        [ True],\n",
       "        [False],\n",
       "        [False]])"
      ]
     },
     "execution_count": 17,
     "metadata": {},
     "output_type": "execute_result"
    }
   ],
   "source": [
    "input.output_vector(input.knowns_map,True)"
   ]
  },
  {
   "cell_type": "code",
   "execution_count": 18,
   "metadata": {},
   "outputs": [
    {
     "data": {
      "text/plain": [
       "tensor([[-1.0000e+06],\n",
       "        [ 3.3790e-01],\n",
       "        [ 1.0000e+00],\n",
       "        [ 6.1006e-01],\n",
       "        [ 0.0000e+00]])"
      ]
     },
     "execution_count": 18,
     "metadata": {},
     "output_type": "execute_result"
    }
   ],
   "source": [
    "input.output_vector(input.inputs_map,False)"
   ]
  },
  {
   "cell_type": "code",
   "execution_count": 19,
   "metadata": {},
   "outputs": [
    {
     "name": "stdout",
     "output_type": "stream",
     "text": [
      "execution time = 2.006053924560547 ms\n"
     ]
    }
   ],
   "source": [
    "print(f'execution time = {(end_time - start_time)*1000} ms')"
   ]
  },
  {
   "cell_type": "code",
   "execution_count": 20,
   "metadata": {},
   "outputs": [
    {
     "data": {
      "text/plain": [
       "tensor([[-11.9767],\n",
       "        [ 11.9767],\n",
       "        [  1.0000],\n",
       "        [  1.0000],\n",
       "        [ -1.0000]])"
      ]
     },
     "execution_count": 20,
     "metadata": {},
     "output_type": "execute_result"
    }
   ],
   "source": [
    "solution"
   ]
  },
  {
   "attachments": {},
   "cell_type": "markdown",
   "metadata": {},
   "source": [
    "# Optimizing Resistance"
   ]
  },
  {
   "cell_type": "code",
   "execution_count": 21,
   "metadata": {},
   "outputs": [],
   "source": [
    "class Element_Optimizer(nn.Module, Solve):\n",
    "    def __init__(self, input: ckt.Input, attr:nn.Parameter) -> None:\n",
    "        nn.Module.__init__(self)\n",
    "        Solve.__init__(self,input=input,attr=attr)\n",
    "        self.attr = attr\n",
    "\n",
    "    def forward(self):\n",
    "        return self.solve()\n",
    "    \n",
    "    def get_params(self):\n",
    "        return self.attr\n",
    "    \n",
    "    def zero_known_grads(self):\n",
    "        if(self.attr != None and self.attr.grad != None):\n",
    "            self.attr.grad[self.input.knowns_map[ckt.Props.Attr]] = 0"
   ]
  },
  {
   "cell_type": "code",
   "execution_count": 22,
   "metadata": {},
   "outputs": [
    {
     "name": "stdout",
     "output_type": "stream",
     "text": [
      "init params: Parameter containing:\n",
      "tensor([[1.0000],\n",
      "        [0.0835]], requires_grad=True)\n",
      "init loss: 499988004864.0\n",
      "Done! at 10000 passes\n",
      "solution = tensor([[-13.6473],\n",
      "        [ 13.6473],\n",
      "        [  1.0000],\n",
      "        [  1.0000],\n",
      "        [ -1.0000]], grad_fn=<CatBackward0>)\n",
      "attributes = Parameter containing:\n",
      "tensor([[1.0000],\n",
      "        [0.0733]], requires_grad=True)\n"
     ]
    }
   ],
   "source": [
    "num_epochs = 10000\n",
    "prev_loss = 0.1\n",
    "\n",
    "model = Element_Optimizer(input=input, attr=attr_param)\n",
    "optimizer = torch.optim.Adam(params=model.parameters(),lr=0.000001)\n",
    "selection = input.output_vector(input.knowns_map,True)\n",
    "truths = input.output_vector(input.inputs_map,False)\n",
    "loss, _ = lrn.train(model,optimizer,nn.MSELoss(),truths,selection)\n",
    "print(f'init params: {attr_param}')\n",
    "print(f'init loss: {loss.item()}')\n",
    "\n",
    "epoch = 0\n",
    "\n",
    "while(epoch < num_epochs):\n",
    "\n",
    "    loss, _ = lrn.train(model,optimizer,nn.MSELoss(),truths,selection)\n",
    "    if(loss < 1e-6):\n",
    "            break\n",
    "\n",
    "    epoch += 1\n",
    "    loss_change = abs(loss - prev_loss) / prev_loss\n",
    "    prev_loss = loss\n",
    "\n",
    "print(f'Done! at {epoch} passes')\n",
    "print(f'solution = {model()}')\n",
    "print(f\"attributes = {attr_param}\")"
   ]
  }
 ],
 "metadata": {
  "kernelspec": {
   "display_name": "ml",
   "language": "python",
   "name": "python3"
  },
  "language_info": {
   "codemirror_mode": {
    "name": "ipython",
    "version": 3
   },
   "file_extension": ".py",
   "mimetype": "text/x-python",
   "name": "python",
   "nbconvert_exporter": "python",
   "pygments_lexer": "ipython3",
   "version": "3.10.8"
  },
  "orig_nbformat": 4,
  "vscode": {
   "interpreter": {
    "hash": "3217f10b4e7366dd1a6cbf73464f125221bf8686d6dfc23b58c931b1c5e4bd4d"
   }
  }
 },
 "nbformat": 4,
 "nbformat_minor": 2
}
